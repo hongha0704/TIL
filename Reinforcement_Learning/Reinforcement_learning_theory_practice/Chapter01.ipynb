{
 "cells": [
  {
   "cell_type": "code",
   "execution_count": 1,
   "id": "a33be1d1-7f94-4db4-8d2d-7f90ba470302",
   "metadata": {},
   "outputs": [
    {
     "name": "stdout",
     "output_type": "stream",
     "text": [
      "1.19.2\n",
      "1.8.1+cpu\n",
      "3.5.2\n",
      "0.23.0\n"
     ]
    }
   ],
   "source": [
    "import numpy as np\n",
    "import torch\n",
    "import matplotlib\n",
    "import gym\n",
    "\n",
    "# 버전 체크\n",
    "print(np.__version__)\n",
    "print(torch.__version__)\n",
    "print(matplotlib.__version__)\n",
    "print(gym.__version__)"
   ]
  },
  {
   "cell_type": "code",
   "execution_count": null,
   "id": "58aa0fc2-0a7d-4116-9f02-df9cc75bee4e",
   "metadata": {},
   "outputs": [],
   "source": []
  }
 ],
 "metadata": {
  "kernelspec": {
   "display_name": "RL_scratch",
   "language": "python",
   "name": "rl_scratch"
  },
  "language_info": {
   "codemirror_mode": {
    "name": "ipython",
    "version": 3
   },
   "file_extension": ".py",
   "mimetype": "text/x-python",
   "name": "python",
   "nbconvert_exporter": "python",
   "pygments_lexer": "ipython3",
   "version": "3.8.19"
  }
 },
 "nbformat": 4,
 "nbformat_minor": 5
}
