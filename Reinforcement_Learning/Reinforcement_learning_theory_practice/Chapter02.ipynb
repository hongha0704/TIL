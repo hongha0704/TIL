{
 "cells": [
  {
   "cell_type": "code",
   "execution_count": 2,
   "id": "21f2cde8-d742-48e4-a4fd-a7e9c4b85326",
   "metadata": {},
   "outputs": [],
   "source": [
    "import numpy as np"
   ]
  },
  {
   "cell_type": "code",
   "execution_count": 3,
   "id": "7ca1230a-42c8-4088-9b8b-b65fab82679a",
   "metadata": {},
   "outputs": [
    {
     "name": "stdout",
     "output_type": "stream",
     "text": [
      "()\n",
      "(2,)\n",
      "(3, 2)\n"
     ]
    }
   ],
   "source": [
    "scalar = np.array(3)\n",
    "vector = np.array([-3, -1])\n",
    "matrix = np.array([[-1, 3], [0, 2], [7, -5]])\n",
    "\n",
    "print(f'{scalar.shape}')\n",
    "print(f'{vector.shape}')\n",
    "print(f'{matrix.shape}')"
   ]
  },
  {
   "cell_type": "code",
   "execution_count": 4,
   "id": "dbbc88f2-043f-4621-998a-a2870cda763e",
   "metadata": {},
   "outputs": [
    {
     "name": "stdout",
     "output_type": "stream",
     "text": [
      "넘파이 특성 - 벡터와 스칼라의 합: [4 0]\n",
      "벡터 스칼라곱: [ 6 -2]\n",
      "a,b 벡터의 합: [4 1]\n",
      "a 벡터의 크기: 3.1622776601683795\n"
     ]
    }
   ],
   "source": [
    "a = np.array([3, -1])\n",
    "b = np.array([1, 2])\n",
    "\n",
    "print(f'넘파이 특성 - 벡터와 스칼라의 합: {a+1}')\n",
    "print(f'벡터 스칼라곱: {2*a}')\n",
    "print(f'a,b 벡터의 합: {a+b}')\n",
    "print(f'a 벡터의 크기: {np.linalg.norm(a)}')"
   ]
  },
  {
   "cell_type": "code",
   "execution_count": 5,
   "id": "8aa2ceea-d93f-4a07-8faa-38cfb3d060af",
   "metadata": {},
   "outputs": [
    {
     "name": "stdout",
     "output_type": "stream",
     "text": [
      "내적 첫 번째 방법: 1\n",
      "내적 두 번째 방법: 1\n",
      "내적 세 번째 방법: 1\n"
     ]
    }
   ],
   "source": [
    "# 모든 결과는 3*1+(-1)*2=1이 나와야 합니다.\n",
    "print(f'내적 첫 번째 방법: {np.dot(a,b)}')\n",
    "print(f'내적 두 번째 방법: {a@b}')\n",
    "print(f'내적 세 번째 방법: {np.sum([i*j for i, j in zip(a,b)])}')"
   ]
  },
  {
   "cell_type": "code",
   "execution_count": null,
   "id": "afb2e110-5d21-4074-8c29-364aee8a1d80",
   "metadata": {},
   "outputs": [],
   "source": []
  }
 ],
 "metadata": {
  "kernelspec": {
   "display_name": "RL_scratch",
   "language": "python",
   "name": "python3"
  },
  "language_info": {
   "codemirror_mode": {
    "name": "ipython",
    "version": 3
   },
   "file_extension": ".py",
   "mimetype": "text/x-python",
   "name": "python",
   "nbconvert_exporter": "python",
   "pygments_lexer": "ipython3",
   "version": "3.8.19"
  }
 },
 "nbformat": 4,
 "nbformat_minor": 5
}
