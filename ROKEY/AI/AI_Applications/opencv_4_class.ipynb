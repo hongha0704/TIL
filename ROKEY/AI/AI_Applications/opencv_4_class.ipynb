{
 "cells": [
  {
   "cell_type": "code",
   "execution_count": 1,
   "metadata": {},
   "outputs": [],
   "source": [
    "import os\n",
    "import sys\n",
    "import cv2\n",
    "import numpy as np\n",
    "import matplotlib.pyplot as plt\n",
    "from pathlib import Path\n",
    "\n",
    "folder = 'fig'"
   ]
  },
  {
   "cell_type": "code",
   "execution_count": 4,
   "metadata": {},
   "outputs": [
    {
     "name": "stdout",
     "output_type": "stream",
     "text": [
      "[[ 2.13761247e+00  6.70798891e-01 -4.98868663e+02]\n",
      " [ 8.22754210e-03  1.94581371e+00 -9.71384758e+01]\n",
      " [-1.69199517e-05  1.37469054e-03  1.00000000e+00]]\n"
     ]
    }
   ],
   "source": [
    "src = cv2.imread(Path(folder, 'checkerboard.png'))\n",
    "\n",
    "if src is None:\n",
    "    print('image read failed')\n",
    "    sys.exit()\n",
    "\n",
    "src_lists = [[218, 49], [691, 47], [832, 516], [68, 527]]\n",
    "h, w = src.shape[:2]\n",
    "\n",
    "srcPoints = np.array(src_lists, np.float32)\n",
    "dstPoints = np.array([[0, 0], [w-1, 0], [w-1, h-1], [0, h-1]], np.float32)\n",
    "\n",
    "pers_mat = cv2.getPerspectiveTransform(srcPoints, dstPoints)\n",
    "print(pers_mat)\n",
    "dst = cv2.warpPerspective(src, pers_mat, (0, 0))\n",
    "\n",
    "cv2.namedWindow('src', cv2.WINDOW_AUTOSIZE)\n",
    "cv2.imshow('src', src)\n",
    "cv2.imshow('dst', dst)\n",
    "\n",
    "while True:\n",
    "    if cv2.waitKey() == ord('q'):\n",
    "        break\n",
    "\n",
    "cv2.destroyAllWindows()"
   ]
  },
  {
   "cell_type": "code",
   "execution_count": 8,
   "metadata": {},
   "outputs": [],
   "source": [
    "img = cv2.imread(Path(folder, 'plates.png'), cv2.IMREAD_GRAYSCALE)\n",
    "\n",
    "sobel_x = np.array([[-1, 0, 1],\n",
    "                    [-2, 0, 2],\n",
    "                    [-1, 0, 1]], np.float32)\n",
    "\n",
    "dx = cv2.filter2D(img, -1, sobel_x)\n",
    "dy = cv2.filter2D(img, -1, sobel_x.T)\n",
    "\n",
    "cv2.imshow('img', img)\n",
    "cv2.imshow('dx', dx)\n",
    "cv2.imshow('dy', dy)\n",
    "\n",
    "cv2.waitKey()\n",
    "cv2.destroyAllWindows()"
   ]
  },
  {
   "cell_type": "code",
   "execution_count": 10,
   "metadata": {},
   "outputs": [],
   "source": [
    "img = cv2.imread(Path(folder, 'plates.png'), cv2.IMREAD_GRAYSCALE)\n",
    "\n",
    "dx = cv2.Sobel(img, cv2.CV_32F, 1, 0)\n",
    "dy = cv2.Sobel(img, cv2.CV_32F, 0, 1)\n",
    "\n",
    "mag = cv2.magnitude(dx, dy) # float32\n",
    "mag = np.clip(mag, 0, 255).astype(np.uint8)\n",
    "ret, dst = cv2.threshold(mag, 100, 255, cv2.THRESH_BINARY)\n",
    "\n",
    "cv2.imshow('img', img)\n",
    "cv2.imshow('mag', mag)\n",
    "cv2.imshow('dst', dst)\n",
    "\n",
    "cv2.waitKey()\n",
    "cv2.destroyAllWindows()"
   ]
  },
  {
   "cell_type": "code",
   "execution_count": null,
   "metadata": {},
   "outputs": [
    {
     "name": "stdout",
     "output_type": "stream",
     "text": [
      "lines shape = (68, 1, 4)\n"
     ]
    }
   ],
   "source": [
    "img = cv2.imread(Path(folder, 'checkerboard.png'))\n",
    "img_gray = cv2.cvtColor(img, cv2.COLOR_BGR2GRAY)\n",
    "\n",
    "edge = cv2.Canny(img_gray, 100, 200)\n",
    "\n",
    "lines = cv2.HoughLinesP(edge, 1, np.pi/360, 80, minLineLength=20, maxLineGap=10)\n",
    "print('lines shape =', lines.shape)\n",
    "\n",
    "edge = cv2.cvtColor(edge, cv2.COLOR_GRAY2BGR)\n",
    "\n",
    "for i in lines:\n",
    "    pt1 = (i[0, 0], i[0, 1])\n",
    "    pt2 = (i[0, 2], i[0, 3])\n",
    "    cv2.line(edge, pt1, pt2, (0, 0, 255), 2)\n",
    "\n",
    "cv2.imshow('img', img)\n",
    "cv2.imshow('edge', edge)\n",
    "\n",
    "cv2.waitKey()\n",
    "cv2.destroyAllWindows()"
   ]
  },
  {
   "cell_type": "code",
   "execution_count": 21,
   "metadata": {},
   "outputs": [],
   "source": [
    "src = cv2.imread(Path(folder, 'plates.png'))\n",
    "src_gray = cv2.cvtColor(src, cv2.COLOR_BGR2GRAY)\n",
    "\n",
    "circles = cv2.HoughCircles(src_gray, cv2.HOUGH_GRADIENT, 1, 50,\n",
    "                           param1=100, param2=50, minRadius=20, maxRadius=100)\n",
    "\n",
    "for i in circles[0]:\n",
    "    cx, cy, r = i\n",
    "    cv2.circle(src, (int(cx), int(cy)), int(r), (0, 0 ,255), 2, cv2.LINE_AA)\n",
    "\n",
    "cv2.imshow('src', src)\n",
    "cv2.imshow('src_gray', src_gray)\n",
    "\n",
    "cv2.waitKey()\n",
    "cv2.destroyAllWindows()"
   ]
  },
  {
   "cell_type": "code",
   "execution_count": 27,
   "metadata": {},
   "outputs": [],
   "source": [
    "### labeling\n",
    "\n",
    "src = cv2.imread(Path(folder, 'symbols.png'))\n",
    "src_gray = cv2.cvtColor(src, cv2.COLOR_BGR2GRAY)\n",
    "ret, mask = cv2.threshold(src_gray, 100, 255, cv2.THRESH_BINARY_INV)\n",
    "\n",
    "cnts, labels, stats, centroids = cv2.connectedComponentsWithStats(mask)\n",
    "\n",
    "for i in range(1, cnts):\n",
    "    (x, y, w, h, area) = stats[i]\n",
    "\n",
    "    if area > 50:\n",
    "        cv2.rectangle(src, (x, y, w, h), (0, 0, 255), 2)\n",
    "        cv2.putText(src, str(i), (x, y-4), 0, 1, (0, 0, 255), 1, cv2.LINE_AA)\n",
    "\n",
    "cv2.imshow('src', src)\n",
    "cv2.imshow('src_gray', src_gray)\n",
    "cv2.imshow('mask', mask)\n",
    "\n",
    "cv2.waitKey()\n",
    "cv2.destroyAllWindows()"
   ]
  },
  {
   "cell_type": "code",
   "execution_count": null,
   "metadata": {},
   "outputs": [],
   "source": [
    "src = cv2.imread(Path(folder, 'symbols.png'))\n",
    "src_gray = cv2.cvtColor(src, cv2.COLOR_BGR2GRAY)\n",
    "_, mask = cv2.threshold(src_gray, 150, 255, cv2.THRESH_BINARY)\n",
    "mask_open = cv2.morphologyEx(mask, cv2.MORPH_CLOSE, iterations=2)\n",
    "\n",
    "contours, hieracy = cv2.findContours(mask, cv2.RETR_LIST, cv2.CHAIN_APPROX_NONE)\n",
    "\n",
    "for i in range(len(contours)):\n",
    "    cv2.drawContours(src, contours, i, (0, 0, 255), 1, cv2.LINE_AA)\n",
    "\n",
    "cv2.imshow('src', src)\n",
    "cv2.imshow('src_gray', src_gray)\n",
    "cv2.imshow('mask', mask)\n",
    "\n",
    "cv2.waitKey()\n",
    "cv2.destroyAllWindows()"
   ]
  },
  {
   "cell_type": "code",
   "execution_count": 34,
   "metadata": {},
   "outputs": [],
   "source": [
    "##\n",
    "\n",
    "cap = cv2.VideoCapture(Path(folder, \"PETS2000.avi\"))\n",
    "\n",
    "if not cap.isOpened():\n",
    "    print('Video open failed')\n",
    "    sys.exit()\n",
    "\n",
    "while True:\n",
    "\n",
    "    ret, frame = cap.read()\n",
    "\n",
    "    if not ret:\n",
    "        break\n",
    "\n",
    "    cv2.imshow('frame', frame)\n",
    "\n",
    "    if cv2.waitKey(20) == 27:\n",
    "        break\n",
    "\n",
    "cap.release() # 카메라 끄기\n",
    "cv2.destroyAllWindows()"
   ]
  },
  {
   "cell_type": "markdown",
   "metadata": {},
   "source": [
    "## 동영상 객체 검출"
   ]
  },
  {
   "cell_type": "code",
   "execution_count": 48,
   "metadata": {},
   "outputs": [
    {
     "name": "stdout",
     "output_type": "stream",
     "text": [
      "frame read failed\n"
     ]
    }
   ],
   "source": [
    "cap = cv2.VideoCapture(Path(folder, 'PETS2000.avi'))\n",
    "\n",
    "if not cap.isOpened():\n",
    "    print('video read failed')\n",
    "    sys.exit()\n",
    "\n",
    "ret, background = cap.read()\n",
    "background_gray = cv2.cvtColor(background, cv2.COLOR_BGR2GRAY)\n",
    "background_gray = cv2.GaussianBlur(background_gray, (0, 0), 1)\n",
    "\n",
    "while True:\n",
    "    ret, frame = cap.read()\n",
    "\n",
    "    if not ret:\n",
    "        print('frame read failed')\n",
    "        break\n",
    "    \n",
    "    frame_gray = cv2.cvtColor(frame, cv2.COLOR_BGR2GRAY)\n",
    "    frame_gray = cv2.GaussianBlur(frame_gray, (0, 0), 1)\n",
    "\n",
    "    diff_G = cv2.absdiff(frame_gray, background_gray)\n",
    "    ret_g, mask_g = cv2.threshold(diff_G, 50, 255, cv2.THRESH_BINARY)\n",
    "\n",
    "    cnts, labels, stats, centroids = cv2.connectedComponentsWithStats(mask_g)\n",
    "\n",
    "    for i in range(1, cnts):\n",
    "        x, y, w, h, area = stats[i]\n",
    "\n",
    "        if area < 400:\n",
    "            continue\n",
    "        cv2.rectangle(frame, (x, y, w, h), (0, 0, 255), 2)\n",
    "\n",
    "    cv2.imshow('frame', frame)\n",
    "    cv2.imshow('diff_G', diff_G)\n",
    "    cv2.imshow('mask_g', mask_g)\n",
    "\n",
    "    if cv2.waitKey(20) == ord('q'):\n",
    "        break\n",
    "\n",
    "cap.release()\n",
    "cv2.destroyAllWindows()"
   ]
  },
  {
   "cell_type": "markdown",
   "metadata": {},
   "source": [
    "### 이동 평균 배경차분"
   ]
  },
  {
   "cell_type": "code",
   "execution_count": 49,
   "metadata": {},
   "outputs": [],
   "source": [
    "# accumulateWeighted(src, dst, alpha, mask) -> dst\n",
    "# src: 입력영상\n",
    "# dis: 출력영상 (32bit, 64bit)\n",
    "# alpha : 축적가중치\n",
    "# mask: 마스트 영상"
   ]
  },
  {
   "cell_type": "code",
   "execution_count": 58,
   "metadata": {},
   "outputs": [],
   "source": [
    "cap = cv2.VideoCapture(Path(folder, 'PETS2000.avi'))\n",
    "\n",
    "if not cap.isOpened():\n",
    "    print('video read failed')\n",
    "    sys.exit()\n",
    "\n",
    "ret, back = cap.read()\n",
    "back = cv2.cvtColor(back, cv2.COLOR_BGR2GRAY)\n",
    "back = cv2.GaussianBlur(back, (0, 0), 1.) # np.uint8\n",
    "fback = back.astype(np.float32)\n",
    "\n",
    "while True:\n",
    "    ret, frame = cap.read()\n",
    "\n",
    "    if not ret:\n",
    "        break\n",
    "\n",
    "    frame_gray = cv2.cvtColor(frame, cv2.COLOR_BGR2GRAY)\n",
    "    frame_gray = cv2.GaussianBlur(frame_gray, (0, 0), 1.)\n",
    "    cv2.accumulateWeighted(frame_gray, fback, 0.005)\n",
    "    back = fback.astype(np.uint8)\n",
    "    diff = cv2.absdiff(frame_gray, back)\n",
    "    ret, mask = cv2.threshold(diff, 50, 255, cv2.THRESH_BINARY)\n",
    "\n",
    "    cnts, labels, stats, centroids = cv2.connectedComponentsWithStats(mask)\n",
    "\n",
    "    for i in range(1, cnts):\n",
    "        x, y, w, h, area = stats[i]\n",
    "        if area > 200:\n",
    "            cv2.rectangle(frame, (x, y, w, h), (0, 0, 255), 2)\n",
    "\n",
    "    cv2.imshow('frame', frame)\n",
    "    cv2.imshow('mask', mask)\n",
    "    cv2.imshow('back', back)\n",
    "\n",
    "    if cv2.waitKey(20) == ord('q'):\n",
    "        break\n",
    "\n",
    "cap.release()\n",
    "cv2.destroyAllWindows()"
   ]
  },
  {
   "cell_type": "code",
   "execution_count": null,
   "metadata": {},
   "outputs": [],
   "source": [
    "cap = cv2.VideoCapture(0)\n",
    "\n",
    "if not cap.isOpened():\n",
    "    print('webcam open failed')\n",
    "    sys.exit()\n",
    "\n",
    "w = int(cap.get(cv2.CAP_PROP_FRAME_WIDTH))\n",
    "h = int(cap.get(cv2.CAP_PROP_FRAME_HEIGHT))\n",
    "\n",
    "print(f\"Frame width = {w}, height = {h}\")\n",
    "\n",
    "while True:\n",
    "    ret, frame = cap.read()\n",
    "\n",
    "    if not ret:\n",
    "        break\n",
    "    \n",
    "    frame_Gau = cv2.GaussianBlur(frame, (0, 0), 1)\n",
    "    edge = cv2.Canny(frame_Gau, 50, 200)\n",
    "    frame_gray = cv2.cvtColor(frame, cv2.COLOR_BGR2GRAY)\n",
    "    frame_gray_inv = 255 - frame_gray\n",
    "\n",
    "    cv2.imshow('frame', frame)\n",
    "    cv2.imshow('edge', edge)\n",
    "    cv2.imshow('frame_gray', frame_gray)\n",
    "    cv2.imshow('frame_gray_inv', frame_gray_inv)\n",
    "\n",
    "    if cv2.waitKey(20) == ord('q'):\n",
    "        break\n",
    "\n",
    "cap.release()\n",
    "cv2.destroyAllWindows()"
   ]
  }
 ],
 "metadata": {
  "kernelspec": {
   "display_name": "Python 3",
   "language": "python",
   "name": "python3"
  },
  "language_info": {
   "codemirror_mode": {
    "name": "ipython",
    "version": 3
   },
   "file_extension": ".py",
   "mimetype": "text/x-python",
   "name": "python",
   "nbconvert_exporter": "python",
   "pygments_lexer": "ipython3",
   "version": "3.10.16"
  }
 },
 "nbformat": 4,
 "nbformat_minor": 2
}
