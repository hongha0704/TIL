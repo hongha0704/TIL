{
 "cells": [
  {
   "cell_type": "code",
   "execution_count": 2,
   "metadata": {},
   "outputs": [],
   "source": [
    "import numpy as np\n",
    "import cv2\n",
    "import sys\n",
    "import matplotlib.pyplot as plt\n",
    "from pathlib import Path\n",
    "\n",
    "folder = \"../fig\"\n"
   ]
  },
  {
   "cell_type": "code",
   "execution_count": 4,
   "metadata": {},
   "outputs": [
    {
     "name": "stdout",
     "output_type": "stream",
     "text": [
      "[[0.11111111 0.11111111 0.11111111]\n",
      " [0.11111111 0.11111111 0.11111111]\n",
      " [0.11111111 0.11111111 0.11111111]]\n"
     ]
    }
   ],
   "source": [
    "src = cv2.imread(Path(folder, \"blue_eyes.png\"), cv2.IMREAD_REDUCED_COLOR_2)\n",
    "\n",
    "kernel_3 = np.ones((3, 3), dtype=np.float64)/9.\n",
    "dst_kernel = cv2.filter2D(src, -1, kernel_3)\n",
    "dst_blur = cv2.blur(src, (3, 3))\n",
    "\n",
    "print(kernel_3)\n",
    "\n",
    "cv2.imshow('src', src)\n",
    "cv2.imshow('dst_kernel', dst_kernel)\n",
    "cv2.imshow(\"dst_blur\", dst_blur)\n",
    "\n",
    "cv2.waitKey()\n",
    "cv2.destroyAllWindows()"
   ]
  },
  {
   "cell_type": "code",
   "execution_count": 8,
   "metadata": {},
   "outputs": [],
   "source": [
    "src = cv2.imread(Path(folder, \"blue_eyes.png\"), cv2.IMREAD_REDUCED_COLOR_2)\n",
    "cv2.imshow(\"src\", src)\n",
    "\n",
    "for ksize in (3, 5, 7, 9, 12, 15, 23, 35, 49, 63, 100, 150):\n",
    "    dst = cv2.blur(src, (ksize, ksize))\n",
    "    text = '{} x {}'.format(ksize, ksize)\n",
    "    cv2.putText(dst, text, (20, 30), cv2.FONT_HERSHEY_COMPLEX, 1, (0,0,255), 2, cv2.LINE_AA)\n",
    "\n",
    "    cv2.imshow('mean filter', dst)\n",
    "    cv2.waitKey()\n",
    "\n",
    "cv2.destroyAllWindows()"
   ]
  },
  {
   "cell_type": "code",
   "execution_count": 9,
   "metadata": {},
   "outputs": [],
   "source": [
    "src = cv2.imread(Path(folder, \"blue_eyes.png\"), cv2.IMREAD_COLOR)\n",
    "\n",
    "dst_Gaussian1 = cv2.GaussianBlur(src, (0, 0), 1)\n",
    "dst_mean = cv2.blur(src, (5,5))\n",
    "\n",
    "cv2.imshow('src', src)\n",
    "cv2.imshow(\"Gaussian1\", dst_Gaussian1)\n",
    "cv2.imshow(\"dst_mean\", dst_mean)\n",
    "\n",
    "cv2.waitKey()\n",
    "cv2.destroyAllWindows()"
   ]
  },
  {
   "cell_type": "code",
   "execution_count": 10,
   "metadata": {},
   "outputs": [],
   "source": [
    "src = cv2.imread(Path(folder, \"blue_eyes.png\"), cv2.IMREAD_REDUCED_COLOR_2)\n",
    "\n",
    "blr = cv2.GaussianBlur(src, (0,0), 1)\n",
    "blr2 = cv2.GaussianBlur(src, (0,0), 2)\n",
    "blr3 = cv2.GaussianBlur(src, (0,0), 3)\n",
    "\n",
    "dst = cv2.addWeighted(src, 2, blr, -1, 0.0)\n",
    "dst2 = cv2.addWeighted(src, 2, blr2, -1, 0.0)\n",
    "dst3 = cv2.addWeighted(src, 2, blr3, -1, 0.0)\n",
    "\n",
    "cv2.imshow('src', src)\n",
    "cv2.imshow(\"blr\", blr)\n",
    "cv2.imshow(\"sharpening1\", dst)\n",
    "cv2.imshow(\"sharpening2\", dst2)\n",
    "cv2.imshow(\"sharpening3\", dst3)\n",
    "\n",
    "cv2.waitKey()\n",
    "cv2.destroyAllWindows()"
   ]
  },
  {
   "cell_type": "code",
   "execution_count": 11,
   "metadata": {},
   "outputs": [
    {
     "data": {
      "image/png": "[encoded data removed]",
      "text/plain": [
       "<Figure size 640x480 with 2 Axes>"
      ]
     },
     "metadata": {},
     "output_type": "display_data"
    },
    {
     "name": "stdout",
     "output_type": "stream",
     "text": [
      "[[-0.5 -0.5 -0.5]\n",
      " [-0.5  5.  -0.5]\n",
      " [-0.5 -0.5 -0.5]]\n"
     ]
    }
   ],
   "source": [
    "src = cv2.imread(Path(folder, \"blue_eyes.png\"))\n",
    "\n",
    "kernel_3 = np.ones((3,3), dtype=np.float64)*-.5\n",
    "kernel_3[1, 1] = 5\n",
    "\n",
    "dst_kernel = cv2.filter2D(src, -1, kernel_3)\n",
    "\n",
    "cv2.imshow('src', src)\n",
    "cv2.imshow('dst_kernel', dst_kernel)\n",
    "\n",
    "plt.imshow(kernel_3, cmap='seismic')\n",
    "plt.colorbar()\n",
    "plt.show()\n",
    "\n",
    "cv2.waitKey()\n",
    "cv2.destroyAllWindows()\n",
    "\n",
    "print(kernel_3)"
   ]
  },
  {
   "cell_type": "code",
   "execution_count": 13,
   "metadata": {},
   "outputs": [],
   "source": [
    "src = cv2.imread(Path(folder, \"blue_eyes.png\"), cv2.IMREAD_GRAYSCALE)\n",
    "\n",
    "salt_noise = np.random.choice((0, 255), src.shape, p=(0.99, 0.01)).astype(np.uint8)\n",
    "pepper_noise = np.random.choice((0, 255), src.shape, p=(0.99, 0.01)).astype(np.uint8)\n",
    "dst = cv2.add(src, salt_noise)\n",
    "dst = cv2.subtract(dst, pepper_noise)\n",
    "\n",
    "dst_median = cv2.medianBlur(dst, 3)\n",
    "\n",
    "cv2.imshow('src', src)\n",
    "cv2.imshow('dst', dst)\n",
    "cv2.imshow('dst_median', dst_median)\n",
    "\n",
    "while True:\n",
    "    if cv2.waitKey() == ord(\"q\"):\n",
    "        break\n",
    "    \n",
    "cv2.destroyAllWindows()"
   ]
  },
  {
   "cell_type": "code",
   "execution_count": 14,
   "metadata": {},
   "outputs": [],
   "source": [
    "src = cv2.imread(Path(folder, \"blue_eyes.png\"), cv2.IMREAD_GRAYSCALE)\n",
    "\n",
    "dst_Gaussian = cv2.GaussianBlur(src, (0,0), 1.)\n",
    "dst_Bilateral_5 = cv2.bilateralFilter(src, -1, 5, 10)\n",
    "dst_Bilateral_20 = cv2.bilateralFilter(src, -1, 20, 10)\n",
    "\n",
    "cv2.imshow('src', src)\n",
    "cv2.imshow('dst_Gaussian', dst_Gaussian)\n",
    "cv2.imshow('dst_Bilateral_5', dst_Bilateral_5)\n",
    "cv2.imshow('dst_Bilateral_20', dst_Bilateral_20)\n",
    "\n",
    "cv2.waitKey()\n",
    "cv2.destroyAllWindows()"
   ]
  },
  {
   "cell_type": "code",
   "execution_count": 15,
   "metadata": {},
   "outputs": [],
   "source": [
    "src1 = np.zeros((256, 256), np.uint8)\n",
    "cv2.rectangle(src1, (10, 10), (127, 245), 255, -1)\n",
    "src2 = np.zeros((256, 256), np.uint8)\n",
    "cv2.circle(src2, (127, 127), 100, 128, -1)\n",
    "\n",
    "dst1 = cv2.bitwise_and(src1, src2)\n",
    "dst2 = cv2.bitwise_or(src1, src2)\n",
    "dst3 = cv2.bitwise_xor(src1, src2)\n",
    "dst4 = cv2.bitwise_not(src2)\n",
    "\n",
    "cv2.imshow('src1', src1)\n",
    "cv2.imshow('src2', src2)\n",
    "cv2.imshow('dst1', dst1)\n",
    "cv2.imshow('dst2', dst2)\n",
    "cv2.imshow('dst3', dst3)\n",
    "cv2.imshow('dst4', dst4)\n",
    "\n",
    "cv2.waitKey()\n",
    "cv2.destroyAllWindows()"
   ]
  },
  {
   "cell_type": "code",
   "execution_count": 17,
   "metadata": {},
   "outputs": [
    {
     "name": "stdout",
     "output_type": "stream",
     "text": [
      "151.1733 ms\n"
     ]
    }
   ],
   "source": [
    "time = cv2.TickMeter()\n",
    "\n",
    "src = cv2.imread(Path(folder, 'son.jpg'))\n",
    "\n",
    "time.start()\n",
    "\n",
    "for i in range(100):\n",
    "    blr = cv2.GaussianBlur(src, (0,0), 2)\n",
    "    edge = 255 - cv2.Canny(src, 100, 200)\n",
    "    edge = cv2.cvtColor(edge, cv2.COLOR_GRAY2BGR)\n",
    "    dst = cv2.bitwise_and(blr, edge)\n",
    "\n",
    "time.stop()\n",
    "\n",
    "cv2.imshow(\"son\", src)\n",
    "cv2.imshow(\"blr\", blr)\n",
    "cv2.imshow(\"edge\", edge)\n",
    "cv2.imshow(\"dst\", dst)\n",
    "print(time.getTimeMilli(), \"ms\")\n",
    "time.reset()\n",
    "\n",
    "cv2.waitKey()\n",
    "cv2.destroyAllWindows()"
   ]
  },
  {
   "cell_type": "code",
   "execution_count": 18,
   "metadata": {},
   "outputs": [
    {
     "name": "stdout",
     "output_type": "stream",
     "text": [
      "[[  1.   0.  50.]\n",
      " [  0.   1. 200.]]\n"
     ]
    }
   ],
   "source": [
    "src = cv2.imread(Path(folder, \"dog.bmp\"))\n",
    "\n",
    "affine = np.array([[1, 0, 50],\n",
    "                   [0, 1, 200]], np.float32)\n",
    "\n",
    "print(affine)\n",
    "\n",
    "dst = cv2.warpAffine(src, affine, (0, 0),\n",
    "                     borderMode=cv2.BORDER_CONSTANT,\n",
    "                     borderValue=(255,255,255))\n",
    "\n",
    "cv2.imshow('src', src)\n",
    "cv2.imshow('dst', dst)\n",
    "\n",
    "cv2.waitKey()\n",
    "cv2.destroyAllWindows()"
   ]
  },
  {
   "cell_type": "code",
   "execution_count": 19,
   "metadata": {},
   "outputs": [],
   "source": [
    "src = cv2.imread(Path(folder, \"dog.bmp\"))\n",
    "\n",
    "cp = (src.shape[1]/2, src.shape[0]/2)\n",
    "affine = cv2.getRotationMatrix2D(cp, 30, 1.)\n",
    "dst = cv2.warpAffine(src, affine, (0,0))\n",
    "\n",
    "cv2.imshow(\"src\", src)\n",
    "cv2.imshow(\"dst\", dst)\n",
    "\n",
    "cv2.waitKey()\n",
    "cv2.destroyAllWindows()"
   ]
  },
  {
   "cell_type": "code",
   "execution_count": 22,
   "metadata": {},
   "outputs": [
    {
     "name": "stdout",
     "output_type": "stream",
     "text": [
      "(461, 600, 3)\n"
     ]
    }
   ],
   "source": [
    "src = cv2.imread(Path(folder, \"rose.jpg\"))\n",
    "\n",
    "print(src.shape)\n",
    "\n",
    "dst1 = cv2.resize(src, (2400, 1500), interpolation=cv2.INTER_NEAREST)\n",
    "dst2 = cv2.resize(src, (2400, 1500), interpolation=cv2.INTER_LINEAR)\n",
    "dst3 = cv2.resize(src, (2400, 1500), interpolation=cv2.INTER_CUBIC)\n",
    "\n",
    "cv2.imshow('src', src)\n",
    "cv2.imshow('dst1', dst1[800:1600, 800:1200])\n",
    "cv2.imshow('dst2', dst2[800:1600, 800:1200])\n",
    "cv2.imshow('dst3', dst3[800:1600, 800:1200])\n",
    "\n",
    "cv2.waitKey()\n",
    "cv2.destroyAllWindows()"
   ]
  },
  {
   "cell_type": "code",
   "execution_count": 28,
   "metadata": {},
   "outputs": [],
   "source": [
    "src = cv2.imread(Path(folder, \"dog.bmp\"))\n",
    "\n",
    "w, h = src.shape[1], src.shape[0]\n",
    "\n",
    "affine = np.array([[1, 0.2, 0],\n",
    "                   [0.2, 1, 0]], np.float32)\n",
    "\n",
    "dst = cv2.warpAffine(src, affine, (int(w+h*0.2), int(h+w*0.2)))\n",
    "\n",
    "cv2.imshow(\"src\", src)\n",
    "cv2.imshow(\"dst\", dst)\n",
    "\n",
    "cv2.waitKey()\n",
    "cv2.destroyAllWindows()"
   ]
  },
  {
   "cell_type": "code",
   "execution_count": null,
   "metadata": {},
   "outputs": [
    {
     "name": "stdout",
     "output_type": "stream",
     "text": [
      "960 540\n"
     ]
    }
   ],
   "source": [
    "src = cv2.imread(Path(folder, \"checkerboard.png\"))\n",
    "\n",
    "h, w = src.shape[:2]\n",
    "\n",
    "srcPoint = np.array([[218, 48], [691, 47], [830, 518], [67, 527]], np.float32)\n",
    "dstPoint = np.array([[0, 0], [w-1, 0], [w-1, h-1], [0, h-1]], np.float32)\n",
    "\n",
    "pers = cv2.getPerspectiveTransform(srcPoint, dstPoint)\n",
    "\n",
    "dst = cv2.warpPerspective(src, pers, (w, h))\n",
    "\n",
    "print(w, h)\n",
    "\n",
    "cv2.imshow(\"src\", src)\n",
    "cv2.imshow(\"dst\", dst)\n",
    "\n",
    "cv2.waitKey()\n",
    "cv2.destroyAllWindows()"
   ]
  },
  {
   "cell_type": "code",
   "execution_count": 31,
   "metadata": {},
   "outputs": [
    {
     "name": "stdout",
     "output_type": "stream",
     "text": [
      "\n",
      "[[  0.   0.   0. ...   0.   0.   0.]\n",
      " [  1.   1.   1. ...   1.   1.   1.]\n",
      " [  2.   2.   2. ...   2.   2.   2.]\n",
      " ...\n",
      " [597. 597. 597. ... 597. 597. 597.]\n",
      " [598. 598. 598. ... 598. 598. 598.]\n",
      " [599. 599. 599. ... 599. 599. 599.]]\n"
     ]
    }
   ],
   "source": [
    "src = cv2.imread(Path(folder, \"bamboo.jpg\"))\n",
    "\n",
    "h, w = src.shape[:2]\n",
    "\n",
    "map2, map1 = np.indices((h, w), np.float32)\n",
    "print('')\n",
    "print(map2)\n",
    "\n",
    "map1 = map1 + 10*np.sin(map2/32)\n",
    "\n",
    "dst = cv2.remap(src, map1, map2, cv2.INTER_CUBIC)\n",
    "\n",
    "cv2.imshow('src', src)\n",
    "cv2.imshow('dst', dst)\n",
    "\n",
    "cv2.waitKey()\n",
    "cv2.destroyAllWindows()"
   ]
  }
 ],
 "metadata": {
  "kernelspec": {
   "display_name": "ML_lecture",
   "language": "python",
   "name": "ml_lecture"
  },
  "language_info": {
   "codemirror_mode": {
    "name": "ipython",
    "version": 3
   },
   "file_extension": ".py",
   "mimetype": "text/x-python",
   "name": "python",
   "nbconvert_exporter": "python",
   "pygments_lexer": "ipython3",
   "version": "3.8.19"
  }
 },
 "nbformat": 4,
 "nbformat_minor": 2
}
