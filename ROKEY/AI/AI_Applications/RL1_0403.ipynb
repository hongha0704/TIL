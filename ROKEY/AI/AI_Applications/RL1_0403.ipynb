{
 "cells": [
  {
   "cell_type": "code",
   "execution_count": 2,
   "metadata": {},
   "outputs": [
    {
     "name": "stdout",
     "output_type": "stream",
     "text": [
      "Requirement already satisfied: gymnasium in c:\\users\\asus\\.conda\\envs\\dl_py3_10\\lib\\site-packages (1.1.1)\n",
      "Collecting keyboard\n",
      "  Downloading keyboard-0.13.5-py3-none-any.whl.metadata (4.0 kB)\n",
      "Requirement already satisfied: numpy>=1.21.0 in c:\\users\\asus\\.conda\\envs\\dl_py3_10\\lib\\site-packages (from gymnasium) (2.2.4)\n",
      "Requirement already satisfied: cloudpickle>=1.2.0 in c:\\users\\asus\\.conda\\envs\\dl_py3_10\\lib\\site-packages (from gymnasium) (3.1.1)\n",
      "Requirement already satisfied: typing-extensions>=4.3.0 in c:\\users\\asus\\.conda\\envs\\dl_py3_10\\lib\\site-packages (from gymnasium) (4.12.2)\n",
      "Requirement already satisfied: farama-notifications>=0.0.1 in c:\\users\\asus\\.conda\\envs\\dl_py3_10\\lib\\site-packages (from gymnasium) (0.0.4)\n",
      "Collecting pygame>=2.1.3 (from gymnasium[toy-text])\n",
      "  Downloading pygame-2.6.1-cp310-cp310-win_amd64.whl.metadata (13 kB)\n",
      "Downloading keyboard-0.13.5-py3-none-any.whl (58 kB)\n",
      "Downloading pygame-2.6.1-cp310-cp310-win_amd64.whl (10.6 MB)\n",
      "   ---------------------------------------- 0.0/10.6 MB ? eta -:--:--\n",
      "   -------- ------------------------------- 2.4/10.6 MB 11.2 MB/s eta 0:00:01\n",
      "   -------------------- ------------------- 5.5/10.6 MB 12.9 MB/s eta 0:00:01\n",
      "   ---------------------------------------- 10.6/10.6 MB 16.6 MB/s eta 0:00:00\n",
      "Installing collected packages: keyboard, pygame\n",
      "Successfully installed keyboard-0.13.5 pygame-2.6.1\n"
     ]
    }
   ],
   "source": [
    "!pip install gymnasium \"gymnasium[toy-text]\" keyboard"
   ]
  },
  {
   "cell_type": "code",
   "execution_count": 26,
   "metadata": {},
   "outputs": [],
   "source": [
    "import numpy as np\n",
    "import gymnasium as gym\n",
    "import matplotlib.pyplot as plt\n",
    "import keyboard\n",
    "import time\n",
    "\n",
    "import pandas as pd\n",
    "import seaborn as sns"
   ]
  },
  {
   "cell_type": "code",
   "execution_count": 15,
   "metadata": {},
   "outputs": [],
   "source": [
    "##\n",
    "env = gym.make(\"FrozenLake-v1\",\n",
    "               render_mode='human',\n",
    "               map_name='4x4',\n",
    "               is_slippery=False)\n",
    "\n",
    "obs, _ = env.reset()\n",
    "\n",
    "try:\n",
    "    for i in range(1000):\n",
    "        if keyboard.is_pressed('q'):\n",
    "            break\n",
    "        action = env.action_space.sample()\n",
    "        obs, reward, terminated, truncated, info = env.step(action)\n",
    "\n",
    "        if terminated or truncated:\n",
    "            time.sleep(1)\n",
    "            obs, info = env.reset()\n",
    "finally:\n",
    "    env.close()"
   ]
  },
  {
   "cell_type": "markdown",
   "metadata": {},
   "source": [
    "## 확정적 환경 (Deterministic environment)"
   ]
  },
  {
   "cell_type": "code",
   "execution_count": 26,
   "metadata": {},
   "outputs": [
    {
     "data": {
      "image/png": "[encoded data removed]",
      "text/plain": [
       "<Figure size 400x400 with 1 Axes>"
      ]
     },
     "metadata": {},
     "output_type": "display_data"
    }
   ],
   "source": [
    "##\n",
    "env = gym.make(\"FrozenLake-v1\",\n",
    "               desc=None,\n",
    "            #    render_mode='human',\n",
    "               map_name='4x4',\n",
    "               is_slippery=False)\n",
    "\n",
    "s, _ = env.reset()\n",
    "\n",
    "## deterministic policy\n",
    "policy = {0:1, 1:2, 2:1, 3:0, 4:1, 6:1, 8:2, 9:1, 10:1, 13:2, 14:2}\n",
    "\n",
    "scores = []\n",
    "stochastic = False\n",
    "\n",
    "for i in range(1000):\n",
    "  \n",
    "  if i > 990:\n",
    "    env = gym.make(\"FrozenLake-v1\",\n",
    "               desc=None,\n",
    "               render_mode='human',\n",
    "               map_name='4x4',\n",
    "               is_slippery=False)\n",
    "    \n",
    "  terminated, truncated = False, False\n",
    "  s, info = env.reset()\n",
    "  score = 0\n",
    "\n",
    "  if keyboard.is_pressed(\"q\"):\n",
    "    print(\"Exiting the environment.....\")\n",
    "    break\n",
    "\n",
    "  while not terminated and not truncated:\n",
    "    if stochastic:\n",
    "      action = env.action_space.sample()\n",
    "    else:\n",
    "      action = policy[s]\n",
    "\n",
    "    s_, reward, terminated, truncated, info = env.step(action)\n",
    "    score += reward\n",
    "    s = s_\n",
    "  \n",
    "  scores.append(score)\n",
    "\n",
    "env.close()\n",
    "\n",
    "plt.figure(figsize=(4, 4))\n",
    "plt.bar(np.arange(len(scores)), scores)\n",
    "plt.xlabel('Episode')\n",
    "plt.ylabel('Sucess = 1, Fail = 0')\n",
    "plt.show()"
   ]
  },
  {
   "cell_type": "code",
   "execution_count": 53,
   "metadata": {},
   "outputs": [
    {
     "name": "stdout",
     "output_type": "stream",
     "text": [
      "[np.int64(1), np.int64(1), np.int64(2), np.int64(2), np.int64(3), np.int64(1), np.int64(1), np.int64(2)]\n",
      "[np.int64(0), np.int64(3), np.int64(1), np.int64(1), np.int64(2), np.int64(2), np.int64(1), np.int64(0), np.int64(1), np.int64(1), np.int64(2), np.int64(1), np.int64(2)]\n"
     ]
    },
    {
     "data": {
      "image/png": "[encoded data removed]",
      "text/plain": [
       "<Figure size 1000x400 with 1 Axes>"
      ]
     },
     "metadata": {},
     "output_type": "display_data"
    }
   ],
   "source": [
    "##\n",
    "env = gym.make(\"FrozenLake-v1\",\n",
    "               desc=None,\n",
    "            #    render_mode='human',\n",
    "               map_name='4x4',\n",
    "               is_slippery=False)\n",
    "\n",
    "s, _ = env.reset()\n",
    "\n",
    "## deterministic policy\n",
    "policy = {0:1, 1:2, 2:1, 3:0, 4:1, 6:1, 8:2, 9:1, 10:1, 13:2, 14:2}\n",
    "\n",
    "scores = []\n",
    "stochastic = True\n",
    "success_action_list = []\n",
    "\n",
    "for i in range(100):\n",
    "\n",
    "    terminated, truncated = False, False\n",
    "    s, info = env.reset()\n",
    "    score = 0\n",
    "    action_list = []\n",
    "    \n",
    "    i = 0\n",
    "\n",
    "    if keyboard.is_pressed(\"q\"):\n",
    "        print(\"Exiting the environment.....\")\n",
    "        break\n",
    "\n",
    "    while not terminated and not truncated:\n",
    "        \n",
    "        if stochastic:\n",
    "            action = env.action_space.sample()\n",
    "        else:\n",
    "            action = policy[s]\n",
    "\n",
    "        s_, reward, terminated, truncated, info = env.step(action)\n",
    "        score += reward\n",
    "        s = s_\n",
    "        action_list.append(action)\n",
    "\n",
    "    scores.append(score)\n",
    "\n",
    "    if score:\n",
    "        print(action_list)\n",
    "        success_action_list.append(action_list)\n",
    "\n",
    "env.close()\n",
    "\n",
    "plt.figure(figsize=(10, 4))\n",
    "plt.bar(np.arange(len(scores)), scores)\n",
    "plt.xlabel('Episode')\n",
    "plt.ylabel('Sucess = 1, Fail = 0')\n",
    "plt.show()"
   ]
  },
  {
   "cell_type": "code",
   "execution_count": 54,
   "metadata": {},
   "outputs": [
    {
     "name": "stdout",
     "output_type": "stream",
     "text": [
      "[np.int64(1), np.int64(1), np.int64(2), np.int64(2), np.int64(3), np.int64(1), np.int64(1), np.int64(2)]\n",
      "[np.int64(0), np.int64(3), np.int64(1), np.int64(1), np.int64(2), np.int64(2), np.int64(1), np.int64(0), np.int64(1), np.int64(1), np.int64(2), np.int64(1), np.int64(2)]\n"
     ]
    }
   ],
   "source": [
    "env = gym.make(\"FrozenLake-v1\",\n",
    "               desc=None,\n",
    "               render_mode='human',\n",
    "               map_name='4x4',\n",
    "               is_slippery=False)\n",
    "\n",
    "s, _ = env.reset()\n",
    "\n",
    "for success_episode in success_action_list:\n",
    "\n",
    "    s, info = env.reset()\n",
    "    print(success_episode)\n",
    "    \n",
    "    if keyboard.is_pressed(\"q\"):\n",
    "        print(\"Exiting the environment.....\")\n",
    "        break\n",
    "\n",
    "    for action in success_episode:\n",
    "        s_, reward, terminated, truncated, info = env.step(action)\n",
    "        s = s_\n",
    "    \n",
    "    time.sleep(1)\n",
    "\n",
    "env.close()"
   ]
  },
  {
   "cell_type": "markdown",
   "metadata": {},
   "source": [
    "## 가치 평가 (Policy evaluation)"
   ]
  },
  {
   "cell_type": "code",
   "execution_count": 20,
   "metadata": {},
   "outputs": [],
   "source": [
    "env = gym.make(\"FrozenLake-v1\", desc = None,\n",
    "               map_name=\"4x4\", is_slippery = False)\n",
    "\n",
    "num_states = env.observation_space.n  # 16\n",
    "num_actions = env.action_space.n      # 4\n",
    "transitions = env.unwrapped.P"
   ]
  },
  {
   "cell_type": "code",
   "execution_count": 9,
   "metadata": {},
   "outputs": [
    {
     "name": "stdout",
     "output_type": "stream",
     "text": [
      "[0. 0. 0. 0. 0. 0. 0. 0. 0. 0. 0. 0. 0. 0. 0. 0.]\n",
      "[[0.25 0.25 0.25 0.25]\n",
      " [0.25 0.25 0.25 0.25]\n",
      " [0.25 0.25 0.25 0.25]\n",
      " [0.25 0.25 0.25 0.25]\n",
      " [0.25 0.25 0.25 0.25]\n",
      " [0.25 0.25 0.25 0.25]\n",
      " [0.25 0.25 0.25 0.25]\n",
      " [0.25 0.25 0.25 0.25]\n",
      " [0.25 0.25 0.25 0.25]\n",
      " [0.25 0.25 0.25 0.25]\n",
      " [0.25 0.25 0.25 0.25]\n",
      " [0.25 0.25 0.25 0.25]\n",
      " [0.25 0.25 0.25 0.25]\n",
      " [0.25 0.25 0.25 0.25]\n",
      " [0.25 0.25 0.25 0.25]\n",
      " [0.25 0.25 0.25 0.25]]\n"
     ]
    }
   ],
   "source": [
    "V = np.zeros(num_states)  # state-value fuction\n",
    "pi = np.ones([num_states, num_actions])*0.25\n",
    "\n",
    "print(V)\n",
    "print(pi)"
   ]
  },
  {
   "cell_type": "code",
   "execution_count": 25,
   "metadata": {},
   "outputs": [
    {
     "name": "stdout",
     "output_type": "stream",
     "text": [
      "[0.00655096 0.00618818 0.01377568 0.00610225 0.00969195 0.\n",
      " 0.03236047 0.         0.0249789  0.07077042 0.12254934 0.\n",
      " 0.         0.15061291 0.41293179 0.        ]\n"
     ]
    }
   ],
   "source": [
    "gamma = 0.95\n",
    "theta = 1e-3\n",
    "count = 0\n",
    "\n",
    "while True:\n",
    "    delta = 0\n",
    "    count += 1\n",
    "\n",
    "    for s in range(num_states):\n",
    "        old_value = V[s]\n",
    "        new_value = 0\n",
    "\n",
    "        # 행동 확률 : [(0, 0.25), (1, 0.25), (2, 0.25), (3, 0.25)]\n",
    "        for a, prob_action in enumerate(pi[s]):\n",
    "            # 0: [(1.0, 0, 0.0, False)]\n",
    "            for prob_environ, s_, reward, terminated in transitions[s][a]:\n",
    "                new_value += prob_action*prob_environ*(reward + gamma*V[s_])\n",
    "        V[s] = new_value\n",
    "\n",
    "        delta = max(delta, np.abs(old_value - V[s]))\n",
    "\n",
    "    if delta <= theta:\n",
    "        break\n",
    "\n",
    "print(V)"
   ]
  },
  {
   "cell_type": "code",
   "execution_count": 29,
   "metadata": {},
   "outputs": [
    {
     "data": {
      "image/png": "[encoded data removed]",
      "text/plain": [
       "<Figure size 640x480 with 2 Axes>"
      ]
     },
     "metadata": {},
     "output_type": "display_data"
    },
    {
     "data": {
      "text/html": [
       "<div>\n",
       "<style scoped>\n",
       "    .dataframe tbody tr th:only-of-type {\n",
       "        vertical-align: middle;\n",
       "    }\n",
       "\n",
       "    .dataframe tbody tr th {\n",
       "        vertical-align: top;\n",
       "    }\n",
       "\n",
       "    .dataframe thead th {\n",
       "        text-align: right;\n",
       "    }\n",
       "</style>\n",
       "<table border=\"1\" class=\"dataframe\">\n",
       "  <thead>\n",
       "    <tr style=\"text-align: right;\">\n",
       "      <th></th>\n",
       "      <th>0</th>\n",
       "      <th>1</th>\n",
       "      <th>2</th>\n",
       "      <th>3</th>\n",
       "    </tr>\n",
       "  </thead>\n",
       "  <tbody>\n",
       "    <tr>\n",
       "      <th>0</th>\n",
       "      <td>0.0066</td>\n",
       "      <td>0.0062</td>\n",
       "      <td>0.0138</td>\n",
       "      <td>0.0061</td>\n",
       "    </tr>\n",
       "    <tr>\n",
       "      <th>1</th>\n",
       "      <td>0.0097</td>\n",
       "      <td>0.0000</td>\n",
       "      <td>0.0324</td>\n",
       "      <td>0.0000</td>\n",
       "    </tr>\n",
       "    <tr>\n",
       "      <th>2</th>\n",
       "      <td>0.0250</td>\n",
       "      <td>0.0708</td>\n",
       "      <td>0.1225</td>\n",
       "      <td>0.0000</td>\n",
       "    </tr>\n",
       "    <tr>\n",
       "      <th>3</th>\n",
       "      <td>0.0000</td>\n",
       "      <td>0.1506</td>\n",
       "      <td>0.4129</td>\n",
       "      <td>0.0000</td>\n",
       "    </tr>\n",
       "  </tbody>\n",
       "</table>\n",
       "</div>"
      ],
      "text/plain": [
       "        0       1       2       3\n",
       "0  0.0066  0.0062  0.0138  0.0061\n",
       "1  0.0097  0.0000  0.0324  0.0000\n",
       "2  0.0250  0.0708  0.1225  0.0000\n",
       "3  0.0000  0.1506  0.4129  0.0000"
      ]
     },
     "execution_count": 29,
     "metadata": {},
     "output_type": "execute_result"
    }
   ],
   "source": [
    "df = pd.DataFrame(V.round(4).reshape(4, 4))\n",
    "# df = (pd.DataFrame(V.reshape(8, 8))*1000).round(2)\n",
    "\n",
    "sns.heatmap(df, annot=True, fmt = \".3f\")\n",
    "plt.title(\"Optimal value\")\n",
    "plt.show()\n",
    "\n",
    "df"
   ]
  }
 ],
 "metadata": {
  "kernelspec": {
   "display_name": "Python 3",
   "language": "python",
   "name": "python3"
  },
  "language_info": {
   "codemirror_mode": {
    "name": "ipython",
    "version": 3
   },
   "file_extension": ".py",
   "mimetype": "text/x-python",
   "name": "python",
   "nbconvert_exporter": "python",
   "pygments_lexer": "ipython3",
   "version": "3.10.16"
  }
 },
 "nbformat": 4,
 "nbformat_minor": 2
}
