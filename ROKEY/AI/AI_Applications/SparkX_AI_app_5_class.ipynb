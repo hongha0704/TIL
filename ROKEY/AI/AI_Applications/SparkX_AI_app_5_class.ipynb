{
 "cells": [
  {
   "cell_type": "code",
   "execution_count": 2,
   "metadata": {},
   "outputs": [],
   "source": [
    "import sys\n",
    "import os\n",
    "import numpy as np\n",
    "import matplotlib.pyplot as plt\n",
    "import cv2\n",
    "from pathlib import Path\n",
    "\n",
    "folder = 'fig'"
   ]
  },
  {
   "cell_type": "markdown",
   "metadata": {},
   "source": [
    "## meanshift"
   ]
  },
  {
   "cell_type": "code",
   "execution_count": 6,
   "metadata": {},
   "outputs": [],
   "source": [
    "cap = cv2.VideoCapture(Path(folder, 'Billard.mp4'))\n",
    "\n",
    "if not cap.isOpened():\n",
    "    print('video open failed!')\n",
    "    sys.exit()\n",
    "\n",
    "ret, back = cap.read()\n",
    "\n",
    "(x, y, w, h) = cv2.selectROI(back)\n",
    "rc = (x, y, w, h)\n",
    "roi = back[y:y+h, x:x+w]\n",
    "roi_hsv = cv2.cvtColor(roi, cv2.COLOR_BGR2HSV)  # BGR => HSV\n",
    "\n",
    "## 히스토그램\n",
    "channels = [0, 1]\n",
    "ranges = [0, 180, 0, 256]\n",
    "hist = cv2.calcHist([roi_hsv], [0, 1], None, [90, 128], ranges)\n",
    "term_crit = (cv2.TERM_CRITERIA_EPS | cv2.TERM_CRITERIA_COUNT, 10, 1)\n",
    "\n",
    "while True:\n",
    "    ret, frame = cap.read()\n",
    "\n",
    "    if not ret:\n",
    "        break\n",
    "\n",
    "    frame_hsv = cv2.cvtColor(frame, cv2.COLOR_BGR2HSV)\n",
    "    backproj = cv2.calcBackProject([frame_hsv], channels, hist, ranges, 1.)\n",
    "\n",
    "    ## mean shift\n",
    "    _, rc = cv2.meanShift(backproj, rc, term_crit)\n",
    "\n",
    "    cv2.rectangle(frame, rc, (0, 0, 255), 2)\n",
    "\n",
    "    cv2.imshow('frame', frame)\n",
    "\n",
    "    if cv2.waitKey(30) == 27:\n",
    "        break\n",
    "\n",
    "cap.release()\n",
    "cv2.destroyAllWindows()"
   ]
  },
  {
   "cell_type": "markdown",
   "metadata": {},
   "source": [
    "## Motion vector"
   ]
  },
  {
   "cell_type": "code",
   "execution_count": 24,
   "metadata": {},
   "outputs": [],
   "source": [
    "## Lucas-Canade\n",
    "\n",
    "src1 = cv2.imread(Path(folder, 'frame1.jpg'))\n",
    "src2 = cv2.imread(Path(folder, 'frame2.jpg'))\n",
    "\n",
    "if src1 is None or src2 is None:\n",
    "    print('Image read failed!')\n",
    "    sys.exit()\n",
    "\n",
    "gray1 = cv2.cvtColor(src1, cv2.COLOR_BGR2GRAY)\n",
    "pt1 = cv2.goodFeaturesToTrack(gray1, 60, 0.01, 10) #\n",
    "pt2, status, err = cv2.calcOpticalFlowPyrLK(src1, src2, pt1, None)\n",
    "\n",
    "dst = cv2.addWeighted(src1, 0.5, src2, 0.5, 0.0)\n",
    "\n",
    "for i in range(pt2.shape[0]):\n",
    "    if status[i, 0] == 0:\n",
    "        continue\n",
    "    \n",
    "    srcPoints = (int(pt1[i, 0, 0]), int(pt1[i, 0, 1]))\n",
    "    dstPoints = (int(pt2[i, 0, 0]), int(pt2[i, 0, 1]))\n",
    "    cv2.circle(dst, srcPoints, 4, (0, 255, 255), 2, cv2.LINE_AA)\n",
    "    cv2.circle(dst, dstPoints, 4, (0, 0, 255), 2, cv2.LINE_AA)\n",
    "    cv2.arrowedLine(dst, srcPoints, dstPoints, (0, 255, 0), 1, cv2.LINE_AA)\n",
    "    \n",
    "# cv2.imshow('src1', src1)\n",
    "# cv2.imshow('src2', src2)\n",
    "cv2.imshow('dst', dst)\n",
    "\n",
    "cv2.waitKey()\n",
    "cv2.destroyAllWindows()"
   ]
  }
 ],
 "metadata": {
  "kernelspec": {
   "display_name": "Python 3",
   "language": "python",
   "name": "python3"
  },
  "language_info": {
   "codemirror_mode": {
    "name": "ipython",
    "version": 3
   },
   "file_extension": ".py",
   "mimetype": "text/x-python",
   "name": "python",
   "nbconvert_exporter": "python",
   "pygments_lexer": "ipython3",
   "version": "3.10.16"
  }
 },
 "nbformat": 4,
 "nbformat_minor": 2
}
