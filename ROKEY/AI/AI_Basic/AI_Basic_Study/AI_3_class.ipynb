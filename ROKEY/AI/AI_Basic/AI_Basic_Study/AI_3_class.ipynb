{
 "cells": [
  {
   "cell_type": "code",
   "execution_count": 1,
   "metadata": {},
   "outputs": [],
   "source": [
    "import numpy as np\n",
    "import matplotlib.pyplot as plt\n",
    "from IPython.display import display\n",
    "\n",
    "import torch\n",
    "from torchviz import make_dot"
   ]
  },
  {
   "cell_type": "code",
   "execution_count": 16,
   "metadata": {},
   "outputs": [
    {
     "name": "stdout",
     "output_type": "stream",
     "text": [
      "tensor(10)\n",
      "torch.int64\n",
      "torch.Size([])\n",
      "tensor([1, 2, 3])\n",
      "torch.int64\n",
      "torch.Size([3])\n",
      "tensor([[1, 2, 3],\n",
      "        [3, 4, 5]])\n",
      "torch.int64\n",
      "torch.Size([2, 3])\n",
      "tensor([[[1, 2],\n",
      "         [3, 4]],\n",
      "\n",
      "        [[5, 6],\n",
      "         [7, 8]]])\n",
      "torch.int64\n",
      "torch.Size([2, 2, 2])\n"
     ]
    }
   ],
   "source": [
    "r0 = torch.tensor(10)\n",
    "print(r0)\n",
    "print(r0.dtype)\n",
    "print(r0.shape)\n",
    "\n",
    "r1 = torch.tensor([1, 2, 3])\n",
    "print(r1)\n",
    "print(r1.dtype)\n",
    "print(r1.shape)\n",
    "\n",
    "r2 = torch.tensor([[1, 2, 3],\n",
    "                   [3, 4, 5]])\n",
    "print(r2)\n",
    "print(r2.dtype)\n",
    "print(r2.shape)\n",
    "\n",
    "r3 = torch.tensor([[[1, 2], [3, 4]],\n",
    "                   [[5, 6], [7, 8]]])\n",
    "print(r3)\n",
    "print(r3.dtype)\n",
    "print(r3.shape)"
   ]
  },
  {
   "cell_type": "code",
   "execution_count": 19,
   "metadata": {},
   "outputs": [
    {
     "name": "stdout",
     "output_type": "stream",
     "text": [
      "tensor(1.)\n",
      "<class 'torch.Tensor'>\n",
      "torch.float32\n",
      "tensor(1.)\n",
      "torch.Size([])\n"
     ]
    }
   ],
   "source": [
    "r0 = torch.tensor(1.0).float()\n",
    "\n",
    "print(r0)\n",
    "print(type(r0))\n",
    "print(r0.dtype)\n",
    "print(r0.data)\n",
    "print(r0.shape)"
   ]
  },
  {
   "cell_type": "code",
   "execution_count": 22,
   "metadata": {},
   "outputs": [
    {
     "name": "stdout",
     "output_type": "stream",
     "text": [
      "tensor([1, 2, 3])\n",
      "torch.Size([3])\n",
      "torch.int64\n",
      "cpu\n",
      "\n",
      "tensor([[1., 2., 3., 4.],\n",
      "        [5., 6., 7., 8.]])\n",
      "torch.Size([2, 4])\n",
      "torch.float32\n",
      "cpu\n"
     ]
    }
   ],
   "source": [
    "int_atr = torch.tensor([1, 2, 3])\n",
    "print(int_atr)\n",
    "print(int_atr.shape)\n",
    "print(int_atr.dtype)\n",
    "print(int_atr.device)\n",
    "print()\n",
    "\n",
    "float_atr = torch.tensor([[1, 2, 3, 4],\n",
    "                          [5, 6, 7, 8]], dtype=torch.float32)\n",
    "print(float_atr)\n",
    "print(float_atr.shape)\n",
    "print(float_atr.dtype)\n",
    "print(float_atr.device)"
   ]
  },
  {
   "cell_type": "code",
   "execution_count": 27,
   "metadata": {},
   "outputs": [
    {
     "name": "stdout",
     "output_type": "stream",
     "text": [
      "True\n",
      "0\n",
      "NVIDIA GeForce RTX 3050 Laptop GPU\n",
      "1\n"
     ]
    }
   ],
   "source": [
    "print(torch.cuda.is_available())\n",
    "print(torch.cuda.current_device())\n",
    "print(torch.cuda.get_device_name(0))\n",
    "print(torch.cuda.device_count())"
   ]
  },
  {
   "cell_type": "code",
   "execution_count": 31,
   "metadata": {},
   "outputs": [
    {
     "name": "stdout",
     "output_type": "stream",
     "text": [
      "[1 2 3 4 5]\n",
      "(5,)\n",
      "tensor([1., 2., 3., 4., 5.])\n",
      "torch.float32\n",
      "torch.Size([5])\n",
      "tensor([1., 2., 3., 4., 5.])\n"
     ]
    }
   ],
   "source": [
    "r1_np = np.array([1, 2, 3, 4, 5])\n",
    "print(r1_np)\n",
    "print(r1_np.shape)\n",
    "\n",
    "r1 = torch.tensor(r1_np).float()\n",
    "print(r1)\n",
    "print(r1.dtype)\n",
    "print(r1.shape)\n",
    "print(r1.data)"
   ]
  },
  {
   "cell_type": "code",
   "execution_count": 32,
   "metadata": {},
   "outputs": [
    {
     "name": "stdout",
     "output_type": "stream",
     "text": [
      "[[1 5 6]\n",
      " [4 3 2]]\n",
      "(2, 3)\n",
      "tensor([[1., 5., 6.],\n",
      "        [4., 3., 2.]])\n",
      "torch.float32\n",
      "torch.Size([2, 3])\n",
      "tensor([[1., 5., 6.],\n",
      "        [4., 3., 2.]])\n"
     ]
    }
   ],
   "source": [
    "r2_np = np.array([[1, 5, 6],\n",
    "                  [4, 3, 2]])\n",
    "print(r2_np)\n",
    "print(r2_np.shape)\n",
    "\n",
    "r2 = torch.tensor(r2_np).float()\n",
    "print(r2)\n",
    "print(r2.dtype)\n",
    "print(r2.shape)\n",
    "print(r2.data)"
   ]
  },
  {
   "cell_type": "code",
   "execution_count": 34,
   "metadata": {},
   "outputs": [
    {
     "name": "stdout",
     "output_type": "stream",
     "text": [
      "tensor([[[[1., 1.],\n",
      "          [1., 1.]],\n",
      "\n",
      "         [[1., 1.],\n",
      "          [1., 1.]],\n",
      "\n",
      "         [[1., 1.],\n",
      "          [1., 1.]]],\n",
      "\n",
      "\n",
      "        [[[1., 1.],\n",
      "          [1., 1.]],\n",
      "\n",
      "         [[1., 1.],\n",
      "          [1., 1.]],\n",
      "\n",
      "         [[1., 1.],\n",
      "          [1., 1.]]]])\n",
      "torch.Size([2, 3, 2, 2])\n",
      "tensor([[[[1., 1.],\n",
      "          [1., 1.]],\n",
      "\n",
      "         [[1., 1.],\n",
      "          [1., 1.]],\n",
      "\n",
      "         [[1., 1.],\n",
      "          [1., 1.]]],\n",
      "\n",
      "\n",
      "        [[[1., 1.],\n",
      "          [1., 1.]],\n",
      "\n",
      "         [[1., 1.],\n",
      "          [1., 1.]],\n",
      "\n",
      "         [[1., 1.],\n",
      "          [1., 1.]]]])\n"
     ]
    }
   ],
   "source": [
    "r4 = torch.ones((2, 3, 2, 2))\n",
    "\n",
    "print(r4)\n",
    "print(r4.shape)\n",
    "print(r4.data)"
   ]
  },
  {
   "cell_type": "code",
   "execution_count": 36,
   "metadata": {},
   "outputs": [
    {
     "name": "stdout",
     "output_type": "stream",
     "text": [
      "tensor([1, 2, 3])\n",
      "tensor([1, 2, 3])\n"
     ]
    }
   ],
   "source": [
    "x = [1, 2, 3]\n",
    "y = torch.tensor(x)\n",
    "print(y)\n",
    "\n",
    "x1 = np.array([1, 2, 3])\n",
    "y1 = torch.from_numpy(x1)\n",
    "print(y1)"
   ]
  },
  {
   "cell_type": "code",
   "execution_count": 38,
   "metadata": {},
   "outputs": [
    {
     "name": "stdout",
     "output_type": "stream",
     "text": [
      "tensor([1., 1.])\n",
      "tensor([[1., 1., 1.],\n",
      "        [1., 1., 1.]])\n",
      "tensor([[[1., 1.],\n",
      "         [1., 1.],\n",
      "         [1., 1.]],\n",
      "\n",
      "        [[1., 1.],\n",
      "         [1., 1.],\n",
      "         [1., 1.]]])\n",
      "\n",
      "tensor([0., 0.])\n",
      "tensor([[0., 0., 0.],\n",
      "        [0., 0., 0.]])\n",
      "tensor([[[0., 0.],\n",
      "         [0., 0.],\n",
      "         [0., 0.]],\n",
      "\n",
      "        [[0., 0.],\n",
      "         [0., 0.],\n",
      "         [0., 0.]]])\n"
     ]
    }
   ],
   "source": [
    "print(torch.ones(2))\n",
    "print(torch.ones(2, 3))\n",
    "print(torch.ones(2, 3, 2))\n",
    "print()\n",
    "\n",
    "print(torch.zeros(2))\n",
    "print(torch.zeros(2, 3))\n",
    "print(torch.zeros(2, 3, 2))"
   ]
  },
  {
   "cell_type": "code",
   "execution_count": 101,
   "metadata": {},
   "outputs": [
    {
     "name": "stdout",
     "output_type": "stream",
     "text": [
      "tensor([[0.2709, 0.1717, 0.6406],\n",
      "        [0.0053, 0.9309, 0.2554]])\n",
      "tensor([[ 1.2641,  0.0827, -0.5255],\n",
      "        [ 1.0807, -0.1572, -0.7186]])\n",
      "tensor([[6, 1, 5],\n",
      "        [4, 7, 5]])\n",
      "tensor([[ 9.1464,  9.6237, 10.7333],\n",
      "        [ 9.1176, 10.6643, 10.2844]])\n",
      "tensor([5, 3, 7, 0, 9, 6, 4, 2, 8, 1])\n",
      "torch.int64\n"
     ]
    }
   ],
   "source": [
    "print(torch.rand(2, 3))\n",
    "print(torch.randn(2, 3))\n",
    "print(torch.randint(1, 10, (2, 3)))\n",
    "print(torch.normal(10, 1, (2, 3)))\n",
    "print(torch.randperm(10))\n",
    "print(torch.randperm(10).dtype)"
   ]
  },
  {
   "cell_type": "code",
   "execution_count": 105,
   "metadata": {},
   "outputs": [
    {
     "name": "stdout",
     "output_type": "stream",
     "text": [
      "torch.float32\n",
      "torch.int64\n",
      "tensor([1, 2, 3, 4, 5])\n"
     ]
    }
   ],
   "source": [
    "r5 = r1.long()\n",
    "print(r1.dtype)\n",
    "print(r5.dtype)\n",
    "print(r5)"
   ]
  },
  {
   "cell_type": "code",
   "execution_count": 109,
   "metadata": {},
   "outputs": [
    {
     "name": "stdout",
     "output_type": "stream",
     "text": [
      "tensor([[[ 0.2283,  0.6970],\n",
      "         [-0.0037,  0.2893]],\n",
      "\n",
      "        [[-1.4698,  0.7022],\n",
      "         [ 0.4412,  0.0033]],\n",
      "\n",
      "        [[ 1.1137, -1.5758],\n",
      "         [ 1.3942, -0.5315]]])\n",
      "tensor([[ 0.2283,  0.6970, -0.0037,  0.2893],\n",
      "        [-1.4698,  0.7022,  0.4412,  0.0033],\n",
      "        [ 1.1137, -1.5758,  1.3942, -0.5315]])\n",
      "torch.Size([3, 4])\n",
      "tensor([[ 0.2283,  0.6970, -0.0037,  0.2893],\n",
      "        [-1.4698,  0.7022,  0.4412,  0.0033],\n",
      "        [ 1.1137, -1.5758,  1.3942, -0.5315]])\n"
     ]
    }
   ],
   "source": [
    "r3 = torch.randn((3, 2, 2))\n",
    "print(r3)\n",
    "r6 = r3.view(3, -1)\n",
    "print(r6)\n",
    "print(r6.shape)\n",
    "print(r6.data)"
   ]
  },
  {
   "cell_type": "code",
   "execution_count": 110,
   "metadata": {},
   "outputs": [
    {
     "name": "stdout",
     "output_type": "stream",
     "text": [
      "tensor([ 0.2283,  0.6970, -0.0037,  0.2893, -1.4698,  0.7022,  0.4412,  0.0033,\n",
      "         1.1137, -1.5758,  1.3942, -0.5315])\n",
      "torch.Size([12])\n",
      "tensor([ 0.2283,  0.6970, -0.0037,  0.2893, -1.4698,  0.7022,  0.4412,  0.0033,\n",
      "         1.1137, -1.5758,  1.3942, -0.5315])\n"
     ]
    }
   ],
   "source": [
    "r7 = r3.view(-1)\n",
    "print(r7)\n",
    "print(r7.shape)\n",
    "print(r7.data)"
   ]
  },
  {
   "cell_type": "code",
   "execution_count": 118,
   "metadata": {},
   "outputs": [
    {
     "name": "stdout",
     "output_type": "stream",
     "text": [
      "tensor([[[1, 2],\n",
      "         [3, 4]],\n",
      "\n",
      "        [[5, 6],\n",
      "         [7, 8]]])\n",
      "torch.Size([2, 2, 2])\n"
     ]
    }
   ],
   "source": [
    "tensor_reshape_list = [[1, 2, 3, 4], [5, 6, 7, 8]]\n",
    "tensor_reshape = torch.tensor(tensor_reshape_list)\n",
    "\n",
    "tensor_reshape = tensor_reshape.reshape(-1, 2, 2)\n",
    "print(tensor_reshape)\n",
    "print(tensor_reshape.shape)"
   ]
  },
  {
   "cell_type": "code",
   "execution_count": 121,
   "metadata": {},
   "outputs": [
    {
     "name": "stdout",
     "output_type": "stream",
     "text": [
      "tensor([[1],\n",
      "        [2],\n",
      "        [3]])\n",
      "torch.Size([3, 1])\n",
      "\n",
      "tensor([1, 2, 3])\n",
      "torch.Size([3])\n"
     ]
    }
   ],
   "source": [
    "tensor_squeeze = torch.tensor([[1], [2], [3]])\n",
    "\n",
    "print(tensor_squeeze)\n",
    "print(tensor_squeeze.shape)\n",
    "print()\n",
    "\n",
    "tensor_squeeze = tensor_squeeze.squeeze()\n",
    "print(tensor_squeeze)\n",
    "print(tensor_squeeze.shape)"
   ]
  },
  {
   "cell_type": "code",
   "execution_count": 122,
   "metadata": {},
   "outputs": [
    {
     "name": "stdout",
     "output_type": "stream",
     "text": [
      "tensor([[[[1., 1., 1., 1.]],\n",
      "\n",
      "         [[1., 1., 1., 1.]]]])\n",
      "torch.Size([1, 2, 1, 4])\n",
      "\n",
      "tensor([[1., 1., 1., 1.],\n",
      "        [1., 1., 1., 1.]])\n",
      "torch.Size([2, 4])\n"
     ]
    }
   ],
   "source": [
    "tensor_squeeze2 = torch.ones(1, 2, 1, 4)\n",
    "\n",
    "print(tensor_squeeze2)\n",
    "print(tensor_squeeze2.shape)\n",
    "print()\n",
    "\n",
    "tensor_squeeze2 = tensor_squeeze2.squeeze()\n",
    "print(tensor_squeeze2)\n",
    "print(tensor_squeeze2.shape)"
   ]
  },
  {
   "cell_type": "code",
   "execution_count": 129,
   "metadata": {},
   "outputs": [
    {
     "name": "stdout",
     "output_type": "stream",
     "text": [
      "tensor([1, 2, 3, 4, 5, 6, 7, 8, 9])\n",
      "tensor([1, 3, 5, 7, 9])\n",
      "tensor([1.0000, 1.5000, 2.0000, 2.5000])\n",
      "tensor([0, 1, 2, 3, 4, 5, 6, 7, 8, 9])\n",
      "tensor([1, 6])\n"
     ]
    }
   ],
   "source": [
    "print(torch.arange(1, 10))\n",
    "print(torch.arange(1, 10, 2))\n",
    "print(torch.arange(1, 3, 0.5))\n",
    "print(torch.arange(10))\n",
    "print(torch.arange(1, 10, 5))"
   ]
  },
  {
   "cell_type": "code",
   "execution_count": 132,
   "metadata": {},
   "outputs": [
    {
     "name": "stdout",
     "output_type": "stream",
     "text": [
      "False\n",
      "cpu\n"
     ]
    }
   ],
   "source": [
    "print(r1.requires_grad)\n",
    "print(r1.device)"
   ]
  },
  {
   "cell_type": "code",
   "execution_count": 134,
   "metadata": {},
   "outputs": [
    {
     "name": "stdout",
     "output_type": "stream",
     "text": [
      "<class 'float'>\n",
      "1.0\n"
     ]
    }
   ],
   "source": [
    "item = r0.item()\n",
    "\n",
    "print(type(item))\n",
    "print(item)"
   ]
  },
  {
   "cell_type": "code",
   "execution_count": 139,
   "metadata": {},
   "outputs": [
    {
     "name": "stdout",
     "output_type": "stream",
     "text": [
      "tensor([1.])\n",
      "torch.Size([1])\n",
      "1.0\n"
     ]
    }
   ],
   "source": [
    "t1 = torch.ones(1)\n",
    "\n",
    "print(t1)\n",
    "print(t1.shape)\n",
    "print(t1.item())"
   ]
  },
  {
   "cell_type": "code",
   "execution_count": 141,
   "metadata": {},
   "outputs": [
    {
     "name": "stdout",
     "output_type": "stream",
     "text": [
      "tensor([[1., 5., 6.],\n",
      "        [4., 3., 2.]])\n",
      "tensor(6.)\n"
     ]
    }
   ],
   "source": [
    "print(r2)\n",
    "print(r2.max())"
   ]
  },
  {
   "cell_type": "code",
   "execution_count": 146,
   "metadata": {},
   "outputs": [
    {
     "name": "stdout",
     "output_type": "stream",
     "text": [
      "torch.return_types.max(\n",
      "values=tensor([6., 4.]),\n",
      "indices=tensor([2, 0]))\n",
      "tensor([2, 0])\n"
     ]
    }
   ],
   "source": [
    "print(torch.max(r2, 1))\n",
    "print(torch.max(r2, 1)[1])"
   ]
  },
  {
   "cell_type": "code",
   "execution_count": 156,
   "metadata": {},
   "outputs": [
    {
     "name": "stdout",
     "output_type": "stream",
     "text": [
      "tensor([[1., 3., 5.],\n",
      "        [2., 4., 8.]])\n",
      "\n",
      "tensor(23.)\n",
      "tensor(3.)\n",
      "\n",
      "tensor([ 3.,  7., 13.])\n",
      "torch.return_types.median(\n",
      "values=tensor([1., 3., 5.]),\n",
      "indices=tensor([0, 0, 0]))\n",
      "\n",
      "tensor([ 9., 14.])\n",
      "torch.return_types.median(\n",
      "values=tensor([3., 4.]),\n",
      "indices=tensor([1, 1]))\n",
      "\n",
      "tensor([ 9., 14.])\n",
      "torch.return_types.median(\n",
      "values=tensor([3., 4.]),\n",
      "indices=tensor([1, 1]))\n",
      "\n",
      "tensor(3.8333)\n",
      "tensor([1.5000, 3.5000, 6.5000])\n",
      "tensor([3.0000, 4.6667])\n",
      "\n",
      "tensor(2.4833)\n",
      "\n",
      "tensor(5)\n"
     ]
    }
   ],
   "source": [
    "tensor_stat_list = [[1, 3, 5], [2, 4, 8]]\n",
    "tensor_stat = torch.tensor(tensor_stat_list, dtype=torch.float)\n",
    "\n",
    "print(tensor_stat)\n",
    "print()\n",
    "\n",
    "print(tensor_stat.sum())\n",
    "print(tensor_stat.median())\n",
    "print()\n",
    "\n",
    "print(tensor_stat.sum(dim=0))\n",
    "print(tensor_stat.median(dim=0))\n",
    "print()\n",
    "\n",
    "print(tensor_stat.sum(dim=1))\n",
    "print(tensor_stat.median(dim=1))\n",
    "print()\n",
    "\n",
    "print(tensor_stat.sum(dim=-1))\n",
    "print(tensor_stat.median(dim=-1))\n",
    "print()\n",
    "\n",
    "print(tensor_stat.mean())\n",
    "print(tensor_stat.mean(dim=0))\n",
    "print(tensor_stat.mean(dim=1))\n",
    "print()\n",
    "\n",
    "print(tensor_stat.std())\n",
    "print()\n",
    "\n",
    "print(tensor_stat.argmax())\n"
   ]
  },
  {
   "cell_type": "code",
   "execution_count": 158,
   "metadata": {},
   "outputs": [
    {
     "name": "stdout",
     "output_type": "stream",
     "text": [
      "[[1. 5. 6.]\n",
      " [4. 3. 2.]]\n",
      "<class 'numpy.ndarray'>\n"
     ]
    }
   ],
   "source": [
    "r2_np = r2.data.numpy()\n",
    "\n",
    "print(r2_np)\n",
    "print(type(r2_np))"
   ]
  },
  {
   "cell_type": "code",
   "execution_count": 2,
   "metadata": {},
   "outputs": [
    {
     "name": "stdout",
     "output_type": "stream",
     "text": [
      "[-2.   -1.75 -1.5  -1.25 -1.   -0.75 -0.5  -0.25  0.    0.25  0.5   0.75\n",
      "  1.    1.25  1.5   1.75  2.  ]\n"
     ]
    }
   ],
   "source": [
    "x_np = np.arange(-2, 2.1, 0.25)\n",
    "print(x_np)"
   ]
  },
  {
   "cell_type": "code",
   "execution_count": 3,
   "metadata": {},
   "outputs": [
    {
     "name": "stdout",
     "output_type": "stream",
     "text": [
      "tensor([-2.0000, -1.7500, -1.5000, -1.2500, -1.0000, -0.7500, -0.5000, -0.2500,\n",
      "         0.0000,  0.2500,  0.5000,  0.7500,  1.0000,  1.2500,  1.5000,  1.7500,\n",
      "         2.0000], requires_grad=True)\n"
     ]
    }
   ],
   "source": [
    "x = torch.tensor(x_np, requires_grad=True, dtype=torch.float32)\n",
    "print(x)"
   ]
  },
  {
   "cell_type": "code",
   "execution_count": 4,
   "metadata": {},
   "outputs": [
    {
     "name": "stdout",
     "output_type": "stream",
     "text": [
      "tensor([10.0000,  8.1250,  6.5000,  5.1250,  4.0000,  3.1250,  2.5000,  2.1250,\n",
      "         2.0000,  2.1250,  2.5000,  3.1250,  4.0000,  5.1250,  6.5000,  8.1250,\n",
      "        10.0000], grad_fn=<AddBackward0>)\n"
     ]
    }
   ],
   "source": [
    "y = 2*x**2 + 2\n",
    "print(y)"
   ]
  },
  {
   "cell_type": "code",
   "execution_count": 10,
   "metadata": {},
   "outputs": [
    {
     "data": {
      "image/png": "[encoded data removed]",
      "text/plain": [
       "<Figure size 640x480 with 1 Axes>"
      ]
     },
     "metadata": {},
     "output_type": "display_data"
    }
   ],
   "source": [
    "plt.plot(x.data, y.data)\n",
    "# plt.plot(x.data.numpy(), y.data.numpy())\n",
    "plt.title(\"Y=2X^2+2\")\n",
    "plt.show()"
   ]
  },
  {
   "cell_type": "code",
   "execution_count": 11,
   "metadata": {},
   "outputs": [],
   "source": [
    "z = y.sum()"
   ]
  },
  {
   "cell_type": "code",
   "execution_count": 12,
   "metadata": {},
   "outputs": [],
   "source": [
    "z.backward()"
   ]
  },
  {
   "cell_type": "code",
   "execution_count": 13,
   "metadata": {},
   "outputs": [
    {
     "name": "stdout",
     "output_type": "stream",
     "text": [
      "tensor([-8., -7., -6., -5., -4., -3., -2., -1.,  0.,  1.,  2.,  3.,  4.,  5.,\n",
      "         6.,  7.,  8.])\n"
     ]
    }
   ],
   "source": [
    "print(x.grad)"
   ]
  },
  {
   "cell_type": "code",
   "execution_count": 21,
   "metadata": {},
   "outputs": [
    {
     "data": {
      "image/png": "[encoded data removed]",
      "text/plain": [
       "<Figure size 640x480 with 1 Axes>"
      ]
     },
     "metadata": {},
     "output_type": "display_data"
    }
   ],
   "source": [
    "plt.plot(x.data, y.data, c='b', label='y')\n",
    "plt.plot(x.data, x.grad.data, c='k', label='y.grad')\n",
    "# plt.plot(x.detach(), y.detach(), c='b', label='y')\n",
    "# plt.plot(x.detach(), x.grad.detach(), c='k', label='y.grad')\n",
    "plt.legend()\n",
    "plt.show()"
   ]
  },
  {
   "cell_type": "code",
   "execution_count": 22,
   "metadata": {},
   "outputs": [
    {
     "name": "stdout",
     "output_type": "stream",
     "text": [
      "tensor([-16., -14., -12., -10.,  -8.,  -6.,  -4.,  -2.,   0.,   2.,   4.,   6.,\n",
      "          8.,  10.,  12.,  14.,  16.])\n"
     ]
    }
   ],
   "source": [
    "y = 2*x**2+2\n",
    "z = y.sum()\n",
    "z.backward()\n",
    "\n",
    "print(x.grad)"
   ]
  },
  {
   "cell_type": "code",
   "execution_count": 23,
   "metadata": {},
   "outputs": [
    {
     "name": "stdout",
     "output_type": "stream",
     "text": [
      "tensor([0., 0., 0., 0., 0., 0., 0., 0., 0., 0., 0., 0., 0., 0., 0., 0., 0.])\n"
     ]
    }
   ],
   "source": [
    "x.grad.zero_()\n",
    "print(x.grad)"
   ]
  },
  {
   "cell_type": "code",
   "execution_count": 25,
   "metadata": {},
   "outputs": [],
   "source": [
    "sigmoid = torch.nn.Sigmoid()"
   ]
  },
  {
   "cell_type": "code",
   "execution_count": 26,
   "metadata": {},
   "outputs": [],
   "source": [
    "y = sigmoid(x)"
   ]
  },
  {
   "cell_type": "code",
   "execution_count": 35,
   "metadata": {},
   "outputs": [
    {
     "data": {
      "image/png": "[encoded data removed]",
      "text/plain": [
       "<Figure size 640x480 with 1 Axes>"
      ]
     },
     "metadata": {},
     "output_type": "display_data"
    }
   ],
   "source": [
    "plt.plot(x.detach(), y.detach())\n",
    "plt.show()"
   ]
  },
  {
   "cell_type": "code",
   "execution_count": 33,
   "metadata": {},
   "outputs": [
    {
     "data": {
      "image/png": "[encoded data removed]",
      "text/plain": [
       "<Figure size 640x480 with 1 Axes>"
      ]
     },
     "metadata": {},
     "output_type": "display_data"
    }
   ],
   "source": [
    "plt.plot(x.data, y.data)\n",
    "# plt.plot(x.data.numpy(), y.data.numpy())\n",
    "plt.show()"
   ]
  },
  {
   "cell_type": "code",
   "execution_count": 224,
   "metadata": {},
   "outputs": [],
   "source": [
    "z = y.sum()"
   ]
  },
  {
   "cell_type": "code",
   "execution_count": 225,
   "metadata": {},
   "outputs": [
    {
     "name": "stdout",
     "output_type": "stream",
     "text": [
      "tensor([0., 0., 0., 0., 0., 0., 0., 0., 0., 0., 0., 0., 0., 0., 0., 0., 0.])\n"
     ]
    }
   ],
   "source": [
    "x.grad.zero_()\n",
    "print(x.grad)"
   ]
  },
  {
   "cell_type": "code",
   "execution_count": 226,
   "metadata": {},
   "outputs": [],
   "source": [
    "z.backward()"
   ]
  },
  {
   "cell_type": "code",
   "execution_count": 227,
   "metadata": {},
   "outputs": [
    {
     "name": "stdout",
     "output_type": "stream",
     "text": [
      "tensor([0.1050, 0.1261, 0.1491, 0.1731, 0.1966, 0.2179, 0.2350, 0.2461, 0.2500,\n",
      "        0.2461, 0.2350, 0.2179, 0.1966, 0.1731, 0.1491, 0.1261, 0.1050])\n"
     ]
    }
   ],
   "source": [
    "print(x.grad)"
   ]
  },
  {
   "cell_type": "code",
   "execution_count": 228,
   "metadata": {},
   "outputs": [
    {
     "data": {
      "image/png": "[encoded data removed]",
      "text/plain": [
       "<Figure size 640x480 with 1 Axes>"
      ]
     },
     "metadata": {},
     "output_type": "display_data"
    }
   ],
   "source": [
    "plt.plot(x.data, y.data, c='b', label='y')\n",
    "plt.plot(x.data, x.grad, c='k', label='y.grad')\n",
    "plt.legend()\n",
    "plt.show()"
   ]
  },
  {
   "cell_type": "code",
   "execution_count": 230,
   "metadata": {},
   "outputs": [
    {
     "name": "stdout",
     "output_type": "stream",
     "text": [
      "tensor([0., 0., 0., 0., 0., 0., 0., 0., 0., 0., 0., 0., 0., 0., 0., 0., 0.])\n"
     ]
    }
   ],
   "source": [
    "x.grad.zero_()\n",
    "print(x.grad)"
   ]
  },
  {
   "cell_type": "code",
   "execution_count": 234,
   "metadata": {},
   "outputs": [],
   "source": [
    "def sigmoid(x):\n",
    "    return (1/(1+torch.exp(-x)))"
   ]
  },
  {
   "cell_type": "code",
   "execution_count": 242,
   "metadata": {},
   "outputs": [],
   "source": [
    "y = sigmoid(x)"
   ]
  },
  {
   "cell_type": "code",
   "execution_count": 243,
   "metadata": {},
   "outputs": [
    {
     "data": {
      "image/png": "[encoded data removed]",
      "text/plain": [
       "<Figure size 640x480 with 1 Axes>"
      ]
     },
     "metadata": {},
     "output_type": "display_data"
    }
   ],
   "source": [
    "plt.plot(x.data, y.data)\n",
    "plt.xlabel('x')\n",
    "plt.ylabel('y')\n",
    "plt.title('sigmoid')\n",
    "plt.show()"
   ]
  },
  {
   "cell_type": "code",
   "execution_count": 244,
   "metadata": {},
   "outputs": [],
   "source": [
    "z = y.sum()"
   ]
  },
  {
   "cell_type": "code",
   "execution_count": 245,
   "metadata": {},
   "outputs": [
    {
     "name": "stdout",
     "output_type": "stream",
     "text": [
      "tensor([0., 0., 0., 0., 0., 0., 0., 0., 0., 0., 0., 0., 0., 0., 0., 0., 0.])\n",
      "tensor([0.1050, 0.1261, 0.1491, 0.1731, 0.1966, 0.2179, 0.2350, 0.2461, 0.2500,\n",
      "        0.2461, 0.2350, 0.2179, 0.1966, 0.1731, 0.1491, 0.1261, 0.1050])\n"
     ]
    }
   ],
   "source": [
    "x.grad.zero_()\n",
    "print(x.grad)\n",
    "\n",
    "z.backward()\n",
    "print(x.grad)"
   ]
  },
  {
   "cell_type": "code",
   "execution_count": 246,
   "metadata": {},
   "outputs": [
    {
     "data": {
      "image/png": "[encoded data removed]",
      "text/plain": [
       "<Figure size 640x480 with 1 Axes>"
      ]
     },
     "metadata": {},
     "output_type": "display_data"
    }
   ],
   "source": [
    "plt.plot(x.data, y.data, c='b', label='y')\n",
    "plt.plot(x.data, x.grad.data, c='k', label='y.grad')\n",
    "plt.xlabel('x')\n",
    "plt.ylabel('y')\n",
    "plt.legend()\n",
    "plt.title('sigmoid')\n",
    "plt.show()"
   ]
  }
 ],
 "metadata": {
  "kernelspec": {
   "display_name": "Python 3",
   "language": "python",
   "name": "python3"
  },
  "language_info": {
   "codemirror_mode": {
    "name": "ipython",
    "version": 3
   },
   "file_extension": ".py",
   "mimetype": "text/x-python",
   "name": "python",
   "nbconvert_exporter": "python",
   "pygments_lexer": "ipython3",
   "version": "3.10.16"
  }
 },
 "nbformat": 4,
 "nbformat_minor": 2
}
