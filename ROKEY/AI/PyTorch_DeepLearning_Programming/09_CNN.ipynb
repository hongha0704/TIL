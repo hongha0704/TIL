{
 "cells": [
  {
   "cell_type": "code",
   "execution_count": 1,
   "metadata": {},
   "outputs": [],
   "source": [
    "import torch\n",
    "from torch import nn\n",
    "from torch import optim\n",
    "import numpy as np\n",
    "import matplotlib.pyplot as plt"
   ]
  },
  {
   "cell_type": "code",
   "execution_count": 2,
   "metadata": {},
   "outputs": [],
   "source": [
    "conv1 = nn.Conv2d(3, 32, 3)\n",
    "relu = nn.ReLU(inplace=True)\n",
    "conv2 = nn.Conv2d(32, 32, 3)\n",
    "maxpool = nn.MaxPool2d((2, 2))"
   ]
  },
  {
   "cell_type": "code",
   "execution_count": 4,
   "metadata": {},
   "outputs": [
    {
     "name": "stdout",
     "output_type": "stream",
     "text": [
      "Conv2d(3, 32, kernel_size=(3, 3), stride=(1, 1))\n",
      "torch.Size([32, 3, 3, 3])\n",
      "torch.Size([32])\n",
      "\n",
      "torch.Size([32, 32, 3, 3])\n",
      "torch.Size([32])\n"
     ]
    }
   ],
   "source": [
    "print(conv1)\n",
    "\n",
    "print(conv1.weight.shape)\n",
    "print(conv1.bias.shape)\n",
    "\n",
    "print()\n",
    "print(conv2.weight.shape)\n",
    "print(conv2.bias.shape)"
   ]
  },
  {
   "cell_type": "code",
   "execution_count": 6,
   "metadata": {},
   "outputs": [
    {
     "name": "stdout",
     "output_type": "stream",
     "text": [
      "torch.Size([100, 3, 32, 32])\n"
     ]
    }
   ],
   "source": [
    "inputs = torch.randn(100, 3, 32, 32)\n",
    "print(inputs.shape)"
   ]
  },
  {
   "cell_type": "code",
   "execution_count": 7,
   "metadata": {},
   "outputs": [],
   "source": [
    "x1 = conv1(inputs)\n",
    "x2 = relu(x1)\n",
    "x3 = conv2(x2)\n",
    "x4 = relu(x3)\n",
    "x5 = maxpool(x4)"
   ]
  },
  {
   "cell_type": "code",
   "execution_count": 9,
   "metadata": {},
   "outputs": [
    {
     "name": "stdout",
     "output_type": "stream",
     "text": [
      "torch.Size([100, 3, 32, 32])\n",
      "torch.Size([100, 32, 30, 30])\n",
      "torch.Size([100, 32, 30, 30])\n",
      "torch.Size([100, 32, 28, 28])\n",
      "torch.Size([100, 32, 28, 28])\n",
      "torch.Size([100, 32, 14, 14])\n"
     ]
    }
   ],
   "source": [
    "print(inputs.shape)\n",
    "print(x1.shape)\n",
    "print(x2.shape)\n",
    "print(x3.shape)\n",
    "print(x4.shape)\n",
    "print(x5.shape)"
   ]
  },
  {
   "cell_type": "code",
   "execution_count": 10,
   "metadata": {},
   "outputs": [],
   "source": [
    "features = nn.Sequential(\n",
    "    conv1,\n",
    "    relu,\n",
    "    conv2,\n",
    "    relu,\n",
    "    maxpool\n",
    ")"
   ]
  },
  {
   "cell_type": "code",
   "execution_count": 11,
   "metadata": {},
   "outputs": [
    {
     "name": "stdout",
     "output_type": "stream",
     "text": [
      "torch.Size([100, 32, 14, 14])\n"
     ]
    }
   ],
   "source": [
    "outputs = features(inputs)\n",
    "print(outputs.shape)"
   ]
  },
  {
   "cell_type": "code",
   "execution_count": 12,
   "metadata": {},
   "outputs": [
    {
     "name": "stdout",
     "output_type": "stream",
     "text": [
      "torch.Size([100, 32, 14, 14])\n",
      "torch.Size([100, 6272])\n"
     ]
    }
   ],
   "source": [
    "flatten = nn.Flatten()\n",
    "outputs2 = flatten(outputs)\n",
    "\n",
    "print(outputs.shape)\n",
    "print(outputs2.shape)"
   ]
  },
  {
   "cell_type": "code",
   "execution_count": 13,
   "metadata": {},
   "outputs": [],
   "source": [
    "def eval_loss(loader, device, net, criterion):\n",
    "    for images, labels in loader:\n",
    "        break\n",
    "\n",
    "    inputs = images.to(device)\n",
    "    outputs = labels.to(device)\n",
    "\n",
    "    outputs = net(inputs)\n",
    "    loss = criterion(outputs, labels)\n",
    "\n",
    "    return loss"
   ]
  },
  {
   "cell_type": "code",
   "execution_count": 14,
   "metadata": {},
   "outputs": [],
   "source": [
    "# 학습용 함수\n",
    "def fit(net, optimizer, criterion, num_epochs, train_loader, test_loader, device, history):\n",
    "\n",
    "    # tqdm 라이브러리 임포트\n",
    "    from tqdm.notebook import tqdm\n",
    "\n",
    "    base_epochs = len(history) # => 0\n",
    "    batch_size_train = len(train_loader)\n",
    "    batch_size_test = len(test_loader)\n",
    "\n",
    "    for epoch in range(base_epochs, num_epochs+base_epochs):\n",
    "        train_loss = 0\n",
    "        train_acc = 0\n",
    "        val_loss = 0\n",
    "        val_acc = 0\n",
    "\n",
    "        # 훈련 페이즈\n",
    "        net.train() # dropout, batch normalization 활성화\n",
    "        # count = 0\n",
    "\n",
    "        for inputs, labels in tqdm(train_loader):\n",
    "            # count += len(labels)\n",
    "            inputs = inputs.to(device)\n",
    "            labels = labels.to(device)\n",
    "\n",
    "            # 경사 초기화\n",
    "            optimizer.zero_grad()\n",
    "\n",
    "            # 예측 계산\n",
    "            outputs = net(inputs)\n",
    "\n",
    "            # 손실 계산\n",
    "            loss = criterion(outputs, labels)\n",
    "            train_loss += loss.item()\n",
    "\n",
    "            # 경사 계산\n",
    "            loss.backward()\n",
    "\n",
    "            # 파라미터 수정\n",
    "            optimizer.step()\n",
    "\n",
    "            # 예측 라벨 산출\n",
    "            predicted = torch.max(outputs, 1)[1]\n",
    "\n",
    "            # 정답 건수 산출\n",
    "            train_acc += (predicted == labels).sum().item() /len(labels)\n",
    "\n",
    "            # 손실과 정확도 계산\n",
    "        avg_train_loss = train_loss / batch_size_train\n",
    "        avg_train_acc = train_acc / batch_size_train\n",
    "\n",
    "        # 예측 페이즈\n",
    "        net.eval()\n",
    "        # count = 0\n",
    "\n",
    "        for inputs, labels in test_loader:\n",
    "            # count += len(labels)\n",
    "            inputs = inputs.to(device)\n",
    "            labels = labels.to(device)\n",
    "\n",
    "            # 예측 계산\n",
    "            outputs = net(inputs)\n",
    "\n",
    "            # 손실 계산\n",
    "            loss = criterion(outputs, labels)\n",
    "            val_loss += loss.item()\n",
    "\n",
    "            # 예측 라벨 산출\n",
    "            predicted = torch.max(outputs, 1)[1]\n",
    "\n",
    "            # 정답 건수 산출\n",
    "            val_acc += (predicted == labels).sum().item() /len(labels)\n",
    "\n",
    "            # 손실과 정확도 계산\n",
    "        avg_val_loss = val_loss / batch_size_test\n",
    "        avg_val_acc = val_acc / batch_size_test\n",
    "\n",
    "        print (f'Epoch [{(epoch+1)}/{num_epochs+base_epochs}], loss: {avg_train_loss:.5f} acc: {avg_train_acc:.5f} val_loss: {avg_val_loss:.5f}, val_acc: {avg_val_acc:.5f}')\n",
    "        item = np.array([epoch+1, avg_train_loss, avg_train_acc, avg_val_loss, avg_val_acc])\n",
    "        history = np.vstack((history, item))\n",
    "    return history"
   ]
  },
  {
   "cell_type": "code",
   "execution_count": 15,
   "metadata": {},
   "outputs": [],
   "source": [
    "# 학습 로그 해석\n",
    "\n",
    "def evaluate_history(history):\n",
    "    # 손실과 정확도 확인\n",
    "    print(f'초기상태 : 손실 : {history[0,3]:.5f}  정확도 : {history[0,4]:.5f}')\n",
    "    print(f'최종상태 : 손실 : {history[-1,3]:.5f}  정확도 : {history[-1,4]:.5f}' )\n",
    "\n",
    "    num_epochs = len(history)\n",
    "    unit = num_epochs / 10\n",
    "\n",
    "    # 학습 곡선 출력(손실)\n",
    "    plt.figure(figsize=(9,8))\n",
    "    plt.plot(history[:,0], history[:,1], 'b', label='훈련')\n",
    "    plt.plot(history[:,0], history[:,3], 'k', label='검증')\n",
    "    plt.xticks(np.arange(0,num_epochs+1, unit))\n",
    "    plt.xlabel('반복 횟수')\n",
    "    plt.ylabel('손실')\n",
    "    plt.title('학습 곡선(손실)')\n",
    "    plt.legend()\n",
    "    plt.show()\n",
    "\n",
    "    # 학습 곡선 출력(정확도)\n",
    "    plt.figure(figsize=(9,8))\n",
    "    plt.plot(history[:,0], history[:,2], 'b', label='훈련')\n",
    "    plt.plot(history[:,0], history[:,4], 'k', label='검증')\n",
    "    plt.xticks(np.arange(0,num_epochs+1,unit))\n",
    "    plt.xlabel('반복 횟수')\n",
    "    plt.ylabel('정확도')\n",
    "    plt.title('학습 곡선(정확도)')\n",
    "    plt.legend()\n",
    "    plt.show()"
   ]
  },
  {
   "cell_type": "code",
   "execution_count": 16,
   "metadata": {},
   "outputs": [],
   "source": [
    "# 이미지와 라벨 표시\n",
    "def show_images_labels(loader, classes, net, device):\n",
    "\n",
    "    # 데이터로더에서 처음 1세트를 가져오기\n",
    "    for images, labels in loader:\n",
    "        break\n",
    "    # 표시 수는 50개\n",
    "    n_size = min(len(images), 50)\n",
    "    print(\"n_size = \", n_size)\n",
    "\n",
    "    if net is not None:\n",
    "      # 디바이스 할당\n",
    "      inputs = images.to(device)\n",
    "      labels = labels.to(device)\n",
    "\n",
    "      # 예측 계산\n",
    "      outputs = net(inputs)\n",
    "      predicted = torch.max(outputs,1)[1]\n",
    "      #images = images.to('cpu')\n",
    "\n",
    "    # 처음 n_size개 표시\n",
    "    plt.figure(figsize=(20, 15))\n",
    "    for i in range(n_size):\n",
    "        ax = plt.subplot(5, 10, i + 1)\n",
    "        label_name = classes[labels[i]]\n",
    "        # net이 None이 아닌 경우는 예측 결과도 타이틀에 표시함\n",
    "        if net is not None:\n",
    "          predicted_name = classes[predicted[i]]\n",
    "          # 정답인지 아닌지 색으로 구분함\n",
    "          if label_name == predicted_name:\n",
    "            c = 'k'\n",
    "          else:\n",
    "            c = 'b'\n",
    "          ax.set_title(label_name + ':' + predicted_name, c=c, fontsize=20)\n",
    "        # net이 None인 경우는 정답 라벨만 표시\n",
    "        else:\n",
    "          ax.set_title(label_name, fontsize=20)\n",
    "        # 텐서를 넘파이로 변환\n",
    "        image_np = images[i].numpy().copy()\n",
    "        # 축의 순서 변경 (channel, row, column) -> (row, column, channel)\n",
    "        img = np.transpose(image_np, (1, 2, 0))\n",
    "        # 값의 범위를[-1, 1] -> [0, 1]로 되돌림\n",
    "        img = (img + 1)/2\n",
    "        # 결과 표시\n",
    "        plt.imshow(img)\n",
    "        ax.set_axis_off()\n",
    "    plt.show()\n"
   ]
  },
  {
   "cell_type": "code",
   "execution_count": 17,
   "metadata": {},
   "outputs": [],
   "source": [
    "# 파이토치 난수 고정\n",
    "\n",
    "def torch_seed(seed=123):\n",
    "    torch.manual_seed(seed)\n",
    "    torch.cuda.manual_seed(seed)\n",
    "    torch.backends.cudnn.deterministic = True #\n",
    "    torch.use_deterministic_algorithms = True"
   ]
  }
 ],
 "metadata": {
  "kernelspec": {
   "display_name": "ML_lecture",
   "language": "python",
   "name": "python3"
  },
  "language_info": {
   "codemirror_mode": {
    "name": "ipython",
    "version": 3
   },
   "file_extension": ".py",
   "mimetype": "text/x-python",
   "name": "python",
   "nbconvert_exporter": "python",
   "pygments_lexer": "ipython3",
   "version": "3.8.19"
  }
 },
 "nbformat": 4,
 "nbformat_minor": 2
}
