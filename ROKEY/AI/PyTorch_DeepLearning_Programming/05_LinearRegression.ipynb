{
 "cells": [
  {
   "cell_type": "code",
   "execution_count": 2,
   "metadata": {},
   "outputs": [],
   "source": [
    "import torch\n",
    "from torch import nn\n",
    "import numpy as np\n",
    "import matplotlib.pyplot as plt"
   ]
  },
  {
   "cell_type": "code",
   "execution_count": 3,
   "metadata": {},
   "outputs": [],
   "source": [
    "l3 = nn.Linear(2, 3)"
   ]
  },
  {
   "cell_type": "code",
   "execution_count": 4,
   "metadata": {},
   "outputs": [
    {
     "name": "stdout",
     "output_type": "stream",
     "text": [
      "Linear(in_features=1, out_features=1, bias=True)\n"
     ]
    }
   ],
   "source": [
    "torch.manual_seed(123)\n",
    "\n",
    "l1 = nn.Linear(1, 1)\n",
    "print(l1)"
   ]
  },
  {
   "cell_type": "code",
   "execution_count": 5,
   "metadata": {},
   "outputs": [
    {
     "name": "stdout",
     "output_type": "stream",
     "text": [
      "name : weight\n",
      "tensor : Parameter containing:\n",
      "tensor([[-0.4078]], requires_grad=True)\n",
      "shape : torch.Size([1, 1])\n",
      "\n",
      "name : bias\n",
      "tensor : Parameter containing:\n",
      "tensor([0.0331], requires_grad=True)\n",
      "shape : torch.Size([1])\n",
      "\n"
     ]
    }
   ],
   "source": [
    "for param in l1.named_parameters():\n",
    "    print('name :', param[0])\n",
    "    print('tensor :', param[1])\n",
    "    print('shape :', param[1].shape)\n",
    "    print('')"
   ]
  },
  {
   "cell_type": "code",
   "execution_count": 6,
   "metadata": {},
   "outputs": [
    {
     "name": "stdout",
     "output_type": "stream",
     "text": [
      "Parameter containing:\n",
      "tensor([[2.]], requires_grad=True)\n",
      "Parameter containing:\n",
      "tensor([1.], requires_grad=True)\n"
     ]
    }
   ],
   "source": [
    "nn.init.constant_(l1.weight, 2.0)\n",
    "nn.init.constant_(l1.bias, 1.0)\n",
    "\n",
    "print(l1.weight)\n",
    "print(l1.bias)"
   ]
  },
  {
   "cell_type": "code",
   "execution_count": 7,
   "metadata": {},
   "outputs": [
    {
     "name": "stdout",
     "output_type": "stream",
     "text": [
      "torch.Size([5, 1])\n",
      "tensor([[-2.],\n",
      "        [-1.],\n",
      "        [ 0.],\n",
      "        [ 1.],\n",
      "        [ 2.]])\n"
     ]
    }
   ],
   "source": [
    "x_np = np.arange(-2, 2.1, 1)\n",
    "\n",
    "x = torch.tensor(x_np).float()\n",
    "x = x.view(-1, 1)\n",
    "\n",
    "print(x.shape)\n",
    "print(x)"
   ]
  },
  {
   "cell_type": "code",
   "execution_count": 8,
   "metadata": {},
   "outputs": [
    {
     "name": "stdout",
     "output_type": "stream",
     "text": [
      "torch.Size([5, 1])\n",
      "tensor([[-3.],\n",
      "        [-1.],\n",
      "        [ 1.],\n",
      "        [ 3.],\n",
      "        [ 5.]], grad_fn=<AddmmBackward0>)\n"
     ]
    }
   ],
   "source": [
    "y = l1(x)\n",
    "\n",
    "print(y.shape)\n",
    "print(y)"
   ]
  },
  {
   "cell_type": "code",
   "execution_count": 9,
   "metadata": {},
   "outputs": [
    {
     "data": {
      "image/png": "[encoded data removed]",
      "text/plain": [
       "<Figure size 640x480 with 1 Axes>"
      ]
     },
     "metadata": {},
     "output_type": "display_data"
    }
   ],
   "source": [
    "plt.plot(x.data, y.data)\n",
    "plt.grid()\n",
    "plt.show()"
   ]
  },
  {
   "cell_type": "code",
   "execution_count": 10,
   "metadata": {},
   "outputs": [
    {
     "name": "stdout",
     "output_type": "stream",
     "text": [
      "Parameter containing:\n",
      "tensor([[1., 1.]], requires_grad=True)\n",
      "Parameter containing:\n",
      "tensor([2.], requires_grad=True)\n"
     ]
    }
   ],
   "source": [
    "l2 = nn.Linear(2, 1)\n",
    "\n",
    "nn.init.constant_(l2.weight, 1.0)\n",
    "nn.init.constant_(l2.bias, 2.0)\n",
    "\n",
    "print(l2.weight)\n",
    "print(l2.bias)"
   ]
  },
  {
   "cell_type": "code",
   "execution_count": 11,
   "metadata": {},
   "outputs": [
    {
     "name": "stdout",
     "output_type": "stream",
     "text": [
      "torch.Size([4, 2])\n",
      "tensor([[0., 0.],\n",
      "        [0., 1.],\n",
      "        [1., 0.],\n",
      "        [1., 1.]])\n"
     ]
    }
   ],
   "source": [
    "x2_np = np.array([[0, 0], [0, 1], [1, 0], [1, 1]])\n",
    "\n",
    "x2 = torch.tensor(x2_np).float()\n",
    "\n",
    "print(x2.shape)\n",
    "print(x2)"
   ]
  },
  {
   "cell_type": "code",
   "execution_count": 12,
   "metadata": {},
   "outputs": [
    {
     "name": "stdout",
     "output_type": "stream",
     "text": [
      "torch.Size([4, 1])\n",
      "tensor([[2.],\n",
      "        [3.],\n",
      "        [3.],\n",
      "        [4.]], grad_fn=<AddmmBackward0>)\n"
     ]
    }
   ],
   "source": [
    "y2 = l2(x2)\n",
    "\n",
    "print(y2.shape)\n",
    "print(y2)"
   ]
  },
  {
   "cell_type": "code",
   "execution_count": 13,
   "metadata": {},
   "outputs": [
    {
     "name": "stdout",
     "output_type": "stream",
     "text": [
      "Parameter containing:\n",
      "tensor([[1., 1.],\n",
      "        [2., 2.],\n",
      "        [3., 3.]], requires_grad=True)\n",
      "Parameter containing:\n",
      "tensor([2., 2., 2.], requires_grad=True)\n"
     ]
    }
   ],
   "source": [
    "l3 = nn.Linear(2, 3)\n",
    "\n",
    "nn.init.constant_(l3.weight[0, :], 1.0)\n",
    "nn.init.constant_(l3.weight[1, :], 2.0)\n",
    "nn.init.constant_(l3.weight[2, :], 3.0)\n",
    "nn.init.constant_(l3.bias, 2.0)\n",
    "\n",
    "print(l3.weight)\n",
    "print(l3.bias)"
   ]
  },
  {
   "cell_type": "code",
   "execution_count": 14,
   "metadata": {},
   "outputs": [
    {
     "name": "stdout",
     "output_type": "stream",
     "text": [
      "torch.Size([4, 3])\n",
      "tensor([[2., 2., 2.],\n",
      "        [3., 4., 5.],\n",
      "        [3., 4., 5.],\n",
      "        [4., 6., 8.]], grad_fn=<AddmmBackward0>)\n"
     ]
    }
   ],
   "source": [
    "y3 = l3(x2)\n",
    "\n",
    "print(y3.shape)\n",
    "print(y3)"
   ]
  },
  {
   "cell_type": "code",
   "execution_count": 15,
   "metadata": {},
   "outputs": [],
   "source": [
    "class Net(nn.Module):\n",
    "    def __init__(self, n_input, n_output):\n",
    "        super().__init__()\n",
    "        self.l1 = nn.Linear(n_input, n_output)\n",
    "\n",
    "    def forward(self, x):\n",
    "        x1 = self.l1(x)\n",
    "        return x1"
   ]
  },
  {
   "cell_type": "code",
   "execution_count": 16,
   "metadata": {},
   "outputs": [],
   "source": [
    "inputs = torch.ones(100, 1)\n",
    "\n",
    "n_input = 1\n",
    "n_output = 1\n",
    "net = Net(n_input, n_output)\n",
    "outputs = net(inputs)"
   ]
  },
  {
   "cell_type": "code",
   "execution_count": 17,
   "metadata": {},
   "outputs": [],
   "source": [
    "criterion = nn.MSELoss()"
   ]
  },
  {
   "cell_type": "code",
   "execution_count": 18,
   "metadata": {},
   "outputs": [],
   "source": [
    "import pandas as pd"
   ]
  },
  {
   "cell_type": "code",
   "execution_count": 19,
   "metadata": {},
   "outputs": [
    {
     "name": "stdout",
     "output_type": "stream",
     "text": [
      "원본 데이터 (506, 13) (506,)\n",
      "항목명 : ['CRIM' 'ZN' 'INDUS' 'CHAS' 'NOX' 'RM' 'AGE' 'DIS' 'RAD' 'TAX' 'PTRATIO'\n",
      " 'B' 'LSTAT']\n"
     ]
    }
   ],
   "source": [
    "data_url = \"http://lib.stat.cmu.edu/datasets/boston\"\n",
    "raw_df = pd.read_csv(data_url, sep=\"\\s+\", skiprows=22, header=None)\n",
    "x_org = np.hstack([raw_df.values[::2, :], raw_df.values[1::2, :2]])\n",
    "yt = raw_df.values[1::2, 2]\n",
    "feature_names = np.array(['CRIM', 'ZN', 'INDUS', 'CHAS', 'NOX', 'RM', 'AGE', 'DIS', 'RAD', 'TAX', 'PTRATIO', 'B', 'LSTAT'])\n",
    "\n",
    "print('원본 데이터', x_org.shape, yt.shape)\n",
    "print('항목명 :', feature_names)"
   ]
  },
  {
   "cell_type": "code",
   "execution_count": 20,
   "metadata": {},
   "outputs": [
    {
     "name": "stdout",
     "output_type": "stream",
     "text": [
      "추출 후 (506, 1)\n",
      "[[6.575]\n",
      " [6.421]\n",
      " [7.185]\n",
      " [6.998]\n",
      " [7.147]]\n",
      "정답 데이터\n",
      "[24.  21.6 34.7 33.4 36.2]\n"
     ]
    }
   ],
   "source": [
    "x = x_org[:, feature_names == 'RM']\n",
    "print('추출 후', x.shape)\n",
    "print(x[:5, :])\n",
    "\n",
    "print('정답 데이터')\n",
    "print(yt[:5])"
   ]
  },
  {
   "cell_type": "code",
   "execution_count": 21,
   "metadata": {},
   "outputs": [
    {
     "data": {
      "image/png": "[encoded data removed]",
      "text/plain": [
       "<Figure size 640x480 with 1 Axes>"
      ]
     },
     "metadata": {},
     "output_type": "display_data"
    }
   ],
   "source": [
    "plt.scatter(x, yt, s=10, c='b')\n",
    "plt.xlabel('room')\n",
    "plt.ylabel('price')\n",
    "plt.title('room and price')\n",
    "plt.grid()\n",
    "plt.show()"
   ]
  },
  {
   "cell_type": "code",
   "execution_count": 22,
   "metadata": {},
   "outputs": [
    {
     "name": "stdout",
     "output_type": "stream",
     "text": [
      "입력 차원수: 1 출력 차원수: 1\n"
     ]
    }
   ],
   "source": [
    "n_input = x.shape[1]\n",
    "n_output = 1\n",
    "\n",
    "print(f'입력 차원수: {n_input} 출력 차원수: {n_output}')"
   ]
  },
  {
   "cell_type": "code",
   "execution_count": 23,
   "metadata": {},
   "outputs": [],
   "source": [
    "class Net(nn.Module):\n",
    "    def __init__(self, n_input, n_output):\n",
    "        super().__init__()\n",
    "        self.l1 = nn.Linear(n_input, n_output)\n",
    "\n",
    "        nn.init.constant_(self.l1.weight, 1.0)\n",
    "        nn.init.constant_(self.l1.bias, 1.0)\n",
    "\n",
    "    def forward(self, x):\n",
    "        x1 = self.l1(x)\n",
    "        return x1"
   ]
  },
  {
   "cell_type": "code",
   "execution_count": 24,
   "metadata": {},
   "outputs": [],
   "source": [
    "net = Net(n_input, n_output)\n",
    "outputs = net(inputs)"
   ]
  },
  {
   "cell_type": "code",
   "execution_count": 25,
   "metadata": {},
   "outputs": [
    {
     "name": "stdout",
     "output_type": "stream",
     "text": [
      "변수명 : l1.weight\n",
      "변숫값 : tensor([[1.]])\n",
      "변수명 : l1.bias\n",
      "변숫값 : tensor([1.])\n"
     ]
    }
   ],
   "source": [
    "for parameter in net.named_parameters():\n",
    "    print(f'변수명 : {parameter[0]}')\n",
    "    print(f'변숫값 : {parameter[1].data}')"
   ]
  },
  {
   "cell_type": "code",
   "execution_count": 26,
   "metadata": {},
   "outputs": [
    {
     "name": "stdout",
     "output_type": "stream",
     "text": [
      "Parameter containing:\n",
      "tensor([[1.]], requires_grad=True)\n",
      "Parameter containing:\n",
      "tensor([1.], requires_grad=True)\n"
     ]
    }
   ],
   "source": [
    "for parameter in net.parameters():\n",
    "    print(parameter)"
   ]
  },
  {
   "cell_type": "code",
   "execution_count": 27,
   "metadata": {},
   "outputs": [
    {
     "name": "stdout",
     "output_type": "stream",
     "text": [
      "Net(\n",
      "  (l1): Linear(in_features=1, out_features=1, bias=True)\n",
      ")\n"
     ]
    }
   ],
   "source": [
    "print(net)"
   ]
  },
  {
   "cell_type": "code",
   "execution_count": 28,
   "metadata": {},
   "outputs": [
    {
     "data": {
      "text/plain": [
       "==========================================================================================\n",
       "Layer (type:depth-idx)                   Output Shape              Param #\n",
       "==========================================================================================\n",
       "Net                                      [1]                       --\n",
       "├─Linear: 1-1                            [1]                       2\n",
       "==========================================================================================\n",
       "Total params: 2\n",
       "Trainable params: 2\n",
       "Non-trainable params: 0\n",
       "Total mult-adds (M): 0.00\n",
       "==========================================================================================\n",
       "Input size (MB): 0.00\n",
       "Forward/backward pass size (MB): 0.00\n",
       "Params size (MB): 0.00\n",
       "Estimated Total Size (MB): 0.00\n",
       "=========================================================================================="
      ]
     },
     "execution_count": 28,
     "metadata": {},
     "output_type": "execute_result"
    }
   ],
   "source": [
    "from torchinfo import summary\n",
    "summary(net, (1,))"
   ]
  },
  {
   "cell_type": "code",
   "execution_count": 29,
   "metadata": {},
   "outputs": [],
   "source": [
    "from torch import optim\n",
    "\n",
    "criterion = nn.MSELoss()\n",
    "lr = 0.01\n",
    "optimizer = optim.SGD(net.parameters(), lr=lr)"
   ]
  },
  {
   "cell_type": "code",
   "execution_count": 30,
   "metadata": {},
   "outputs": [
    {
     "name": "stdout",
     "output_type": "stream",
     "text": [
      "torch.Size([506, 1])\n",
      "torch.Size([506])\n"
     ]
    }
   ],
   "source": [
    "inputs = torch.tensor(x).float()\n",
    "labels = torch.tensor(yt).float()\n",
    "\n",
    "print(inputs.shape)\n",
    "print(labels.shape)"
   ]
  },
  {
   "cell_type": "code",
   "execution_count": 31,
   "metadata": {},
   "outputs": [
    {
     "name": "stdout",
     "output_type": "stream",
     "text": [
      "torch.Size([506, 1])\n"
     ]
    }
   ],
   "source": [
    "labels1 = labels.view((-1, 1))\n",
    "print(labels1.shape)"
   ]
  },
  {
   "cell_type": "code",
   "execution_count": 33,
   "metadata": {},
   "outputs": [
    {
     "name": "stdout",
     "output_type": "stream",
     "text": [
      "Model is on: cuda:0\n",
      "Inputs are on: cpu\n"
     ]
    }
   ],
   "source": [
    "print(f\"Model is on: {next(net.parameters()).device}\")  \n",
    "print(f\"Inputs are on: {inputs.device}\")  "
   ]
  },
  {
   "cell_type": "code",
   "execution_count": 34,
   "metadata": {},
   "outputs": [],
   "source": [
    "inputs = inputs.to(\"cuda\")  # 입력 데이터를 GPU로 이동\n",
    "outputs = net(inputs)  # 실행"
   ]
  },
  {
   "cell_type": "code",
   "execution_count": 35,
   "metadata": {},
   "outputs": [],
   "source": [
    "outputs = net(inputs)"
   ]
  },
  {
   "cell_type": "code",
   "execution_count": 36,
   "metadata": {},
   "outputs": [],
   "source": [
    "labels1 = labels1.to(\"cuda\")  # labels1을 GPU로 이동\n",
    "loss = criterion(outputs, labels1)  # 손실 계산"
   ]
  },
  {
   "cell_type": "code",
   "execution_count": 37,
   "metadata": {},
   "outputs": [
    {
     "name": "stdout",
     "output_type": "stream",
     "text": [
      "308.44989\n"
     ]
    }
   ],
   "source": [
    "loss = criterion(outputs, labels1)\n",
    "print(f\"{loss.item():.5f}\")"
   ]
  },
  {
   "cell_type": "code",
   "execution_count": 38,
   "metadata": {},
   "outputs": [
    {
     "name": "stdout",
     "output_type": "stream",
     "text": [
      "tensor([[-199.6421]], device='cuda:0')\n",
      "tensor([-30.4963], device='cuda:0')\n"
     ]
    }
   ],
   "source": [
    "outputs = net(inputs)\n",
    "loss = criterion(outputs, labels1)\n",
    "loss.backward()\n",
    "\n",
    "print(net.l1.weight.grad)\n",
    "print(net.l1.bias.grad)"
   ]
  },
  {
   "cell_type": "code",
   "execution_count": 39,
   "metadata": {},
   "outputs": [
    {
     "name": "stdout",
     "output_type": "stream",
     "text": [
      "Parameter containing:\n",
      "tensor([[2.9964]], device='cuda:0', requires_grad=True)\n",
      "Parameter containing:\n",
      "tensor([1.3050], device='cuda:0', requires_grad=True)\n"
     ]
    }
   ],
   "source": [
    "optimizer.step()\n",
    "\n",
    "print(net.l1.weight)\n",
    "print(net.l1.bias)"
   ]
  },
  {
   "cell_type": "code",
   "execution_count": 40,
   "metadata": {},
   "outputs": [
    {
     "name": "stdout",
     "output_type": "stream",
     "text": [
      "None\n",
      "None\n"
     ]
    }
   ],
   "source": [
    "optimizer.zero_grad()\n",
    "\n",
    "print(net.l1.weight.grad)\n",
    "print(net.l1.bias.grad)"
   ]
  },
  {
   "cell_type": "code",
   "execution_count": 41,
   "metadata": {},
   "outputs": [],
   "source": [
    "lr = 0.01\n",
    "net = Net(n_input, n_output)\n",
    "criterion = nn.MSELoss()\n",
    "optimizer = optim.SGD(net.parameters(), lr=lr)\n",
    "num_epochs = 50000\n",
    "history = np.zeros((0,2))"
   ]
  },
  {
   "cell_type": "code",
   "execution_count": 51,
   "metadata": {},
   "outputs": [
    {
     "name": "stdout",
     "output_type": "stream",
     "text": [
      "📌 모델이 위치한 장치: cuda:0\n",
      "📥 inputs의 장치: cuda:0\n",
      "📤 outputs의 장치: cuda:0\n"
     ]
    }
   ],
   "source": [
    "print(f\"📌 모델이 위치한 장치: {next(net.parameters()).device}\")\n",
    "\n",
    "print(f\"📥 inputs의 장치: {inputs.device}\")\n",
    "\n",
    "print(f\"📤 outputs의 장치: {outputs.device}\")"
   ]
  },
  {
   "cell_type": "code",
   "execution_count": 67,
   "metadata": {},
   "outputs": [],
   "source": [
    "device = torch.device(\"cpu\")\n",
    "inputs = inputs.to(device)\n",
    "outputs = outputs.to(device)\n",
    "labels1 = labels1.to(device)\n",
    "net = net.to(device)"
   ]
  },
  {
   "cell_type": "code",
   "execution_count": 52,
   "metadata": {},
   "outputs": [
    {
     "name": "stdout",
     "output_type": "stream",
     "text": [
      "Epoch 0 loss: 154.22495\n",
      "Epoch 100 loss: 29.61752\n",
      "Epoch 200 loss: 29.43177\n",
      "Epoch 300 loss: 29.25043\n",
      "Epoch 400 loss: 29.07340\n",
      "Epoch 500 loss: 28.90058\n",
      "Epoch 600 loss: 28.73186\n",
      "Epoch 700 loss: 28.56716\n",
      "Epoch 800 loss: 28.40636\n",
      "Epoch 900 loss: 28.24939\n",
      "Epoch 1000 loss: 28.09615\n",
      "Epoch 1100 loss: 27.94654\n",
      "Epoch 1200 loss: 27.80050\n",
      "Epoch 1300 loss: 27.65792\n",
      "Epoch 1400 loss: 27.51874\n",
      "Epoch 1500 loss: 27.38286\n",
      "Epoch 1600 loss: 27.25020\n",
      "Epoch 1700 loss: 27.12070\n",
      "Epoch 1800 loss: 26.99428\n",
      "Epoch 1900 loss: 26.87086\n",
      "Epoch 2000 loss: 26.75038\n",
      "Epoch 2100 loss: 26.63275\n",
      "Epoch 2200 loss: 26.51793\n",
      "Epoch 2300 loss: 26.40582\n",
      "Epoch 2400 loss: 26.29639\n",
      "Epoch 2500 loss: 26.18955\n",
      "Epoch 2600 loss: 26.08525\n",
      "Epoch 2700 loss: 25.98344\n",
      "Epoch 2800 loss: 25.88404\n",
      "Epoch 2900 loss: 25.78700\n",
      "Epoch 3000 loss: 25.69227\n",
      "Epoch 3100 loss: 25.59979\n",
      "Epoch 3200 loss: 25.50950\n",
      "Epoch 3300 loss: 25.42137\n",
      "Epoch 3400 loss: 25.33533\n",
      "Epoch 3500 loss: 25.25133\n",
      "Epoch 3600 loss: 25.16932\n",
      "Epoch 3700 loss: 25.08927\n",
      "Epoch 3800 loss: 25.01111\n",
      "Epoch 3900 loss: 24.93482\n",
      "Epoch 4000 loss: 24.86034\n",
      "Epoch 4100 loss: 24.78763\n",
      "Epoch 4200 loss: 24.71664\n",
      "Epoch 4300 loss: 24.64734\n",
      "Epoch 4400 loss: 24.57969\n",
      "Epoch 4500 loss: 24.51365\n",
      "Epoch 4600 loss: 24.44917\n",
      "Epoch 4700 loss: 24.38623\n",
      "Epoch 4800 loss: 24.32479\n",
      "Epoch 4900 loss: 24.26480\n",
      "Epoch 5000 loss: 24.20624\n",
      "Epoch 5100 loss: 24.14907\n",
      "Epoch 5200 loss: 24.09326\n",
      "Epoch 5300 loss: 24.03877\n",
      "Epoch 5400 loss: 23.98558\n",
      "Epoch 5500 loss: 23.93365\n",
      "Epoch 5600 loss: 23.88296\n",
      "Epoch 5700 loss: 23.83347\n",
      "Epoch 5800 loss: 23.78516\n",
      "Epoch 5900 loss: 23.73800\n",
      "Epoch 6000 loss: 23.69196\n",
      "Epoch 6100 loss: 23.64701\n",
      "Epoch 6200 loss: 23.60312\n",
      "Epoch 6300 loss: 23.56029\n",
      "Epoch 6400 loss: 23.51846\n",
      "Epoch 6500 loss: 23.47764\n",
      "Epoch 6600 loss: 23.43778\n",
      "Epoch 6700 loss: 23.39887\n",
      "Epoch 6800 loss: 23.36089\n",
      "Epoch 6900 loss: 23.32380\n",
      "Epoch 7000 loss: 23.28760\n",
      "Epoch 7100 loss: 23.25226\n",
      "Epoch 7200 loss: 23.21776\n",
      "Epoch 7300 loss: 23.18408\n",
      "Epoch 7400 loss: 23.15120\n",
      "Epoch 7500 loss: 23.11910\n",
      "Epoch 7600 loss: 23.08776\n",
      "Epoch 7700 loss: 23.05717\n",
      "Epoch 7800 loss: 23.02730\n",
      "Epoch 7900 loss: 22.99815\n",
      "Epoch 8000 loss: 22.96968\n",
      "Epoch 8100 loss: 22.94189\n",
      "Epoch 8200 loss: 22.91477\n",
      "Epoch 8300 loss: 22.88829\n",
      "Epoch 8400 loss: 22.86243\n",
      "Epoch 8500 loss: 22.83719\n",
      "Epoch 8600 loss: 22.81256\n",
      "Epoch 8700 loss: 22.78850\n",
      "Epoch 8800 loss: 22.76502\n",
      "Epoch 8900 loss: 22.74210\n",
      "Epoch 9000 loss: 22.71972\n",
      "Epoch 9100 loss: 22.69787\n",
      "Epoch 9200 loss: 22.67654\n",
      "Epoch 9300 loss: 22.65572\n",
      "Epoch 9400 loss: 22.63539\n",
      "Epoch 9500 loss: 22.61555\n",
      "Epoch 9600 loss: 22.59618\n",
      "Epoch 9700 loss: 22.57727\n",
      "Epoch 9800 loss: 22.55880\n",
      "Epoch 9900 loss: 22.54078\n",
      "Epoch 10000 loss: 22.52318\n",
      "Epoch 10100 loss: 22.50601\n",
      "Epoch 10200 loss: 22.48924\n",
      "Epoch 10300 loss: 22.47287\n",
      "Epoch 10400 loss: 22.45689\n",
      "Epoch 10500 loss: 22.44128\n",
      "Epoch 10600 loss: 22.42605\n",
      "Epoch 10700 loss: 22.41118\n",
      "Epoch 10800 loss: 22.39667\n",
      "Epoch 10900 loss: 22.38250\n",
      "Epoch 11000 loss: 22.36866\n",
      "Epoch 11100 loss: 22.35516\n",
      "Epoch 11200 loss: 22.34197\n",
      "Epoch 11300 loss: 22.32910\n",
      "Epoch 11400 loss: 22.31653\n",
      "Epoch 11500 loss: 22.30427\n",
      "Epoch 11600 loss: 22.29229\n",
      "Epoch 11700 loss: 22.28060\n",
      "Epoch 11800 loss: 22.26919\n",
      "Epoch 11900 loss: 22.25805\n",
      "Epoch 12000 loss: 22.24717\n",
      "Epoch 12100 loss: 22.23655\n",
      "Epoch 12200 loss: 22.22618\n",
      "Epoch 12300 loss: 22.21606\n",
      "Epoch 12400 loss: 22.20618\n",
      "Epoch 12500 loss: 22.19654\n",
      "Epoch 12600 loss: 22.18712\n",
      "Epoch 12700 loss: 22.17793\n",
      "Epoch 12800 loss: 22.16896\n",
      "Epoch 12900 loss: 22.16020\n",
      "Epoch 13000 loss: 22.15165\n",
      "Epoch 13100 loss: 22.14330\n",
      "Epoch 13200 loss: 22.13515\n",
      "Epoch 13300 loss: 22.12719\n",
      "Epoch 13400 loss: 22.11942\n",
      "Epoch 13500 loss: 22.11184\n",
      "Epoch 13600 loss: 22.10443\n",
      "Epoch 13700 loss: 22.09721\n",
      "Epoch 13800 loss: 22.09015\n",
      "Epoch 13900 loss: 22.08326\n",
      "Epoch 14000 loss: 22.07654\n",
      "Epoch 14100 loss: 22.06998\n",
      "Epoch 14200 loss: 22.06357\n",
      "Epoch 14300 loss: 22.05731\n",
      "Epoch 14400 loss: 22.05120\n",
      "Epoch 14500 loss: 22.04524\n",
      "Epoch 14600 loss: 22.03942\n",
      "Epoch 14700 loss: 22.03374\n",
      "Epoch 14800 loss: 22.02819\n",
      "Epoch 14900 loss: 22.02277\n",
      "Epoch 15000 loss: 22.01749\n",
      "Epoch 15100 loss: 22.01233\n",
      "Epoch 15200 loss: 22.00729\n",
      "Epoch 15300 loss: 22.00237\n",
      "Epoch 15400 loss: 21.99757\n",
      "Epoch 15500 loss: 21.99288\n",
      "Epoch 15600 loss: 21.98830\n",
      "Epoch 15700 loss: 21.98384\n",
      "Epoch 15800 loss: 21.97947\n",
      "Epoch 15900 loss: 21.97522\n",
      "Epoch 16000 loss: 21.97106\n",
      "Epoch 16100 loss: 21.96700\n",
      "Epoch 16200 loss: 21.96304\n",
      "Epoch 16300 loss: 21.95918\n",
      "Epoch 16400 loss: 21.95540\n",
      "Epoch 16500 loss: 21.95171\n",
      "Epoch 16600 loss: 21.94811\n",
      "Epoch 16700 loss: 21.94460\n",
      "Epoch 16800 loss: 21.94117\n",
      "Epoch 16900 loss: 21.93782\n",
      "Epoch 17000 loss: 21.93456\n",
      "Epoch 17100 loss: 21.93136\n",
      "Epoch 17200 loss: 21.92825\n",
      "Epoch 17300 loss: 21.92521\n",
      "Epoch 17400 loss: 21.92224\n",
      "Epoch 17500 loss: 21.91934\n",
      "Epoch 17600 loss: 21.91652\n",
      "Epoch 17700 loss: 21.91376\n",
      "Epoch 17800 loss: 21.91105\n",
      "Epoch 17900 loss: 21.90842\n",
      "Epoch 18000 loss: 21.90585\n",
      "Epoch 18100 loss: 21.90335\n",
      "Epoch 18200 loss: 21.90090\n",
      "Epoch 18300 loss: 21.89850\n",
      "Epoch 18400 loss: 21.89617\n",
      "Epoch 18500 loss: 21.89389\n",
      "Epoch 18600 loss: 21.89167\n",
      "Epoch 18700 loss: 21.88950\n",
      "Epoch 18800 loss: 21.88737\n",
      "Epoch 18900 loss: 21.88531\n",
      "Epoch 19000 loss: 21.88329\n",
      "Epoch 19100 loss: 21.88132\n",
      "Epoch 19200 loss: 21.87939\n",
      "Epoch 19300 loss: 21.87751\n",
      "Epoch 19400 loss: 21.87568\n",
      "Epoch 19500 loss: 21.87388\n",
      "Epoch 19600 loss: 21.87213\n",
      "Epoch 19700 loss: 21.87043\n",
      "Epoch 19800 loss: 21.86876\n",
      "Epoch 19900 loss: 21.86713\n",
      "Epoch 20000 loss: 21.86554\n",
      "Epoch 20100 loss: 21.86399\n",
      "Epoch 20200 loss: 21.86248\n",
      "Epoch 20300 loss: 21.86100\n",
      "Epoch 20400 loss: 21.85956\n",
      "Epoch 20500 loss: 21.85815\n",
      "Epoch 20600 loss: 21.85677\n",
      "Epoch 20700 loss: 21.85543\n",
      "Epoch 20800 loss: 21.85412\n",
      "Epoch 20900 loss: 21.85284\n",
      "Epoch 21000 loss: 21.85159\n",
      "Epoch 21100 loss: 21.85037\n",
      "Epoch 21200 loss: 21.84919\n",
      "Epoch 21300 loss: 21.84802\n",
      "Epoch 21400 loss: 21.84689\n",
      "Epoch 21500 loss: 21.84578\n",
      "Epoch 21600 loss: 21.84470\n",
      "Epoch 21700 loss: 21.84364\n",
      "Epoch 21800 loss: 21.84261\n",
      "Epoch 21900 loss: 21.84161\n",
      "Epoch 22000 loss: 21.84062\n",
      "Epoch 22100 loss: 21.83967\n",
      "Epoch 22200 loss: 21.83873\n",
      "Epoch 22300 loss: 21.83782\n",
      "Epoch 22400 loss: 21.83693\n",
      "Epoch 22500 loss: 21.83605\n",
      "Epoch 22600 loss: 21.83521\n",
      "Epoch 22700 loss: 21.83438\n",
      "Epoch 22800 loss: 21.83356\n",
      "Epoch 22900 loss: 21.83277\n",
      "Epoch 23000 loss: 21.83200\n",
      "Epoch 23100 loss: 21.83125\n",
      "Epoch 23200 loss: 21.83051\n",
      "Epoch 23300 loss: 21.82979\n",
      "Epoch 23400 loss: 21.82909\n",
      "Epoch 23500 loss: 21.82841\n",
      "Epoch 23600 loss: 21.82774\n",
      "Epoch 23700 loss: 21.82709\n",
      "Epoch 23800 loss: 21.82645\n",
      "Epoch 23900 loss: 21.82583\n",
      "Epoch 24000 loss: 21.82522\n",
      "Epoch 24100 loss: 21.82463\n",
      "Epoch 24200 loss: 21.82405\n",
      "Epoch 24300 loss: 21.82349\n",
      "Epoch 24400 loss: 21.82294\n",
      "Epoch 24500 loss: 21.82240\n",
      "Epoch 24600 loss: 21.82187\n",
      "Epoch 24700 loss: 21.82136\n",
      "Epoch 24800 loss: 21.82086\n",
      "Epoch 24900 loss: 21.82037\n",
      "Epoch 25000 loss: 21.81989\n",
      "Epoch 25100 loss: 21.81943\n",
      "Epoch 25200 loss: 21.81897\n",
      "Epoch 25300 loss: 21.81853\n",
      "Epoch 25400 loss: 21.81809\n",
      "Epoch 25500 loss: 21.81767\n",
      "Epoch 25600 loss: 21.81726\n",
      "Epoch 25700 loss: 21.81685\n",
      "Epoch 25800 loss: 21.81646\n",
      "Epoch 25900 loss: 21.81607\n",
      "Epoch 26000 loss: 21.81570\n",
      "Epoch 26100 loss: 21.81533\n",
      "Epoch 26200 loss: 21.81497\n",
      "Epoch 26300 loss: 21.81462\n",
      "Epoch 26400 loss: 21.81428\n",
      "Epoch 26500 loss: 21.81395\n",
      "Epoch 26600 loss: 21.81362\n",
      "Epoch 26700 loss: 21.81331\n",
      "Epoch 26800 loss: 21.81300\n",
      "Epoch 26900 loss: 21.81270\n",
      "Epoch 27000 loss: 21.81240\n",
      "Epoch 27100 loss: 21.81211\n",
      "Epoch 27200 loss: 21.81183\n",
      "Epoch 27300 loss: 21.81156\n",
      "Epoch 27400 loss: 21.81129\n",
      "Epoch 27500 loss: 21.81103\n",
      "Epoch 27600 loss: 21.81078\n",
      "Epoch 27700 loss: 21.81052\n",
      "Epoch 27800 loss: 21.81028\n",
      "Epoch 27900 loss: 21.81004\n",
      "Epoch 28000 loss: 21.80981\n",
      "Epoch 28100 loss: 21.80959\n",
      "Epoch 28200 loss: 21.80936\n",
      "Epoch 28300 loss: 21.80915\n",
      "Epoch 28400 loss: 21.80894\n",
      "Epoch 28500 loss: 21.80873\n",
      "Epoch 28600 loss: 21.80853\n",
      "Epoch 28700 loss: 21.80834\n",
      "Epoch 28800 loss: 21.80814\n",
      "Epoch 28900 loss: 21.80796\n",
      "Epoch 29000 loss: 21.80777\n",
      "Epoch 29100 loss: 21.80759\n",
      "Epoch 29200 loss: 21.80742\n",
      "Epoch 29300 loss: 21.80725\n",
      "Epoch 29400 loss: 21.80709\n",
      "Epoch 29500 loss: 21.80692\n",
      "Epoch 29600 loss: 21.80676\n",
      "Epoch 29700 loss: 21.80661\n",
      "Epoch 29800 loss: 21.80646\n",
      "Epoch 29900 loss: 21.80632\n",
      "Epoch 30000 loss: 21.80617\n",
      "Epoch 30100 loss: 21.80603\n",
      "Epoch 30200 loss: 21.80590\n",
      "Epoch 30300 loss: 21.80576\n",
      "Epoch 30400 loss: 21.80563\n",
      "Epoch 30500 loss: 21.80550\n",
      "Epoch 30600 loss: 21.80538\n",
      "Epoch 30700 loss: 21.80526\n",
      "Epoch 30800 loss: 21.80514\n",
      "Epoch 30900 loss: 21.80503\n",
      "Epoch 31000 loss: 21.80491\n",
      "Epoch 31100 loss: 21.80480\n",
      "Epoch 31200 loss: 21.80470\n",
      "Epoch 31300 loss: 21.80459\n",
      "Epoch 31400 loss: 21.80449\n",
      "Epoch 31500 loss: 21.80439\n",
      "Epoch 31600 loss: 21.80429\n",
      "Epoch 31700 loss: 21.80419\n",
      "Epoch 31800 loss: 21.80410\n",
      "Epoch 31900 loss: 21.80401\n",
      "Epoch 32000 loss: 21.80392\n",
      "Epoch 32100 loss: 21.80383\n",
      "Epoch 32200 loss: 21.80375\n",
      "Epoch 32300 loss: 21.80367\n",
      "Epoch 32400 loss: 21.80359\n",
      "Epoch 32500 loss: 21.80351\n",
      "Epoch 32600 loss: 21.80343\n",
      "Epoch 32700 loss: 21.80336\n",
      "Epoch 32800 loss: 21.80329\n",
      "Epoch 32900 loss: 21.80321\n",
      "Epoch 33000 loss: 21.80314\n",
      "Epoch 33100 loss: 21.80308\n",
      "Epoch 33200 loss: 21.80301\n",
      "Epoch 33300 loss: 21.80294\n",
      "Epoch 33400 loss: 21.80288\n",
      "Epoch 33500 loss: 21.80282\n",
      "Epoch 33600 loss: 21.80276\n",
      "Epoch 33700 loss: 21.80270\n",
      "Epoch 33800 loss: 21.80264\n",
      "Epoch 33900 loss: 21.80259\n",
      "Epoch 34000 loss: 21.80253\n",
      "Epoch 34100 loss: 21.80248\n",
      "Epoch 34200 loss: 21.80243\n",
      "Epoch 34300 loss: 21.80237\n",
      "Epoch 34400 loss: 21.80232\n",
      "Epoch 34500 loss: 21.80228\n",
      "Epoch 34600 loss: 21.80223\n",
      "Epoch 34700 loss: 21.80218\n",
      "Epoch 34800 loss: 21.80214\n",
      "Epoch 34900 loss: 21.80209\n",
      "Epoch 35000 loss: 21.80205\n",
      "Epoch 35100 loss: 21.80201\n",
      "Epoch 35200 loss: 21.80196\n",
      "Epoch 35300 loss: 21.80192\n",
      "Epoch 35400 loss: 21.80189\n",
      "Epoch 35500 loss: 21.80185\n",
      "Epoch 35600 loss: 21.80181\n",
      "Epoch 35700 loss: 21.80177\n",
      "Epoch 35800 loss: 21.80174\n",
      "Epoch 35900 loss: 21.80170\n",
      "Epoch 36000 loss: 21.80167\n",
      "Epoch 36100 loss: 21.80164\n",
      "Epoch 36200 loss: 21.80161\n",
      "Epoch 36300 loss: 21.80157\n",
      "Epoch 36400 loss: 21.80154\n",
      "Epoch 36500 loss: 21.80151\n",
      "Epoch 36600 loss: 21.80149\n",
      "Epoch 36700 loss: 21.80145\n",
      "Epoch 36800 loss: 21.80142\n",
      "Epoch 36900 loss: 21.80140\n",
      "Epoch 37000 loss: 21.80137\n",
      "Epoch 37100 loss: 21.80135\n",
      "Epoch 37200 loss: 21.80132\n",
      "Epoch 37300 loss: 21.80130\n",
      "Epoch 37400 loss: 21.80127\n",
      "Epoch 37500 loss: 21.80125\n",
      "Epoch 37600 loss: 21.80122\n",
      "Epoch 37700 loss: 21.80120\n",
      "Epoch 37800 loss: 21.80118\n",
      "Epoch 37900 loss: 21.80116\n",
      "Epoch 38000 loss: 21.80114\n",
      "Epoch 38100 loss: 21.80112\n",
      "Epoch 38200 loss: 21.80110\n",
      "Epoch 38300 loss: 21.80108\n",
      "Epoch 38400 loss: 21.80106\n",
      "Epoch 38500 loss: 21.80104\n",
      "Epoch 38600 loss: 21.80102\n",
      "Epoch 38700 loss: 21.80101\n",
      "Epoch 38800 loss: 21.80099\n",
      "Epoch 38900 loss: 21.80097\n",
      "Epoch 39000 loss: 21.80095\n",
      "Epoch 39100 loss: 21.80094\n",
      "Epoch 39200 loss: 21.80092\n",
      "Epoch 39300 loss: 21.80091\n",
      "Epoch 39400 loss: 21.80089\n",
      "Epoch 39500 loss: 21.80088\n",
      "Epoch 39600 loss: 21.80086\n",
      "Epoch 39700 loss: 21.80085\n",
      "Epoch 39800 loss: 21.80084\n",
      "Epoch 39900 loss: 21.80082\n",
      "Epoch 40000 loss: 21.80081\n",
      "Epoch 40100 loss: 21.80080\n",
      "Epoch 40200 loss: 21.80079\n",
      "Epoch 40300 loss: 21.80077\n",
      "Epoch 40400 loss: 21.80076\n",
      "Epoch 40500 loss: 21.80075\n",
      "Epoch 40600 loss: 21.80074\n",
      "Epoch 40700 loss: 21.80073\n",
      "Epoch 40800 loss: 21.80072\n",
      "Epoch 40900 loss: 21.80070\n",
      "Epoch 41000 loss: 21.80070\n",
      "Epoch 41100 loss: 21.80069\n",
      "Epoch 41200 loss: 21.80068\n",
      "Epoch 41300 loss: 21.80067\n",
      "Epoch 41400 loss: 21.80066\n",
      "Epoch 41500 loss: 21.80065\n",
      "Epoch 41600 loss: 21.80064\n",
      "Epoch 41700 loss: 21.80063\n",
      "Epoch 41800 loss: 21.80062\n",
      "Epoch 41900 loss: 21.80062\n",
      "Epoch 42000 loss: 21.80061\n",
      "Epoch 42100 loss: 21.80060\n",
      "Epoch 42200 loss: 21.80059\n",
      "Epoch 42300 loss: 21.80058\n",
      "Epoch 42400 loss: 21.80058\n",
      "Epoch 42500 loss: 21.80057\n",
      "Epoch 42600 loss: 21.80056\n",
      "Epoch 42700 loss: 21.80055\n",
      "Epoch 42800 loss: 21.80055\n",
      "Epoch 42900 loss: 21.80054\n",
      "Epoch 43000 loss: 21.80054\n",
      "Epoch 43100 loss: 21.80053\n",
      "Epoch 43200 loss: 21.80052\n",
      "Epoch 43300 loss: 21.80052\n",
      "Epoch 43400 loss: 21.80051\n",
      "Epoch 43500 loss: 21.80051\n",
      "Epoch 43600 loss: 21.80050\n",
      "Epoch 43700 loss: 21.80050\n",
      "Epoch 43800 loss: 21.80049\n",
      "Epoch 43900 loss: 21.80049\n",
      "Epoch 44000 loss: 21.80048\n",
      "Epoch 44100 loss: 21.80048\n",
      "Epoch 44200 loss: 21.80047\n",
      "Epoch 44300 loss: 21.80047\n",
      "Epoch 44400 loss: 21.80046\n",
      "Epoch 44500 loss: 21.80046\n",
      "Epoch 44600 loss: 21.80045\n",
      "Epoch 44700 loss: 21.80045\n",
      "Epoch 44800 loss: 21.80045\n",
      "Epoch 44900 loss: 21.80044\n",
      "Epoch 45000 loss: 21.80044\n",
      "Epoch 45100 loss: 21.80043\n",
      "Epoch 45200 loss: 21.80043\n",
      "Epoch 45300 loss: 21.80043\n",
      "Epoch 45400 loss: 21.80042\n",
      "Epoch 45500 loss: 21.80042\n",
      "Epoch 45600 loss: 21.80042\n",
      "Epoch 45700 loss: 21.80041\n",
      "Epoch 45800 loss: 21.80041\n",
      "Epoch 45900 loss: 21.80041\n",
      "Epoch 46000 loss: 21.80040\n",
      "Epoch 46100 loss: 21.80040\n",
      "Epoch 46200 loss: 21.80040\n",
      "Epoch 46300 loss: 21.80040\n",
      "Epoch 46400 loss: 21.80039\n",
      "Epoch 46500 loss: 21.80039\n",
      "Epoch 46600 loss: 21.80039\n",
      "Epoch 46700 loss: 21.80038\n",
      "Epoch 46800 loss: 21.80038\n",
      "Epoch 46900 loss: 21.80038\n",
      "Epoch 47000 loss: 21.80038\n",
      "Epoch 47100 loss: 21.80037\n",
      "Epoch 47200 loss: 21.80037\n",
      "Epoch 47300 loss: 21.80037\n",
      "Epoch 47400 loss: 21.80037\n",
      "Epoch 47500 loss: 21.80037\n",
      "Epoch 47600 loss: 21.80036\n",
      "Epoch 47700 loss: 21.80036\n",
      "Epoch 47800 loss: 21.80036\n",
      "Epoch 47900 loss: 21.80036\n",
      "Epoch 48000 loss: 21.80036\n",
      "Epoch 48100 loss: 21.80035\n",
      "Epoch 48200 loss: 21.80035\n",
      "Epoch 48300 loss: 21.80035\n",
      "Epoch 48400 loss: 21.80035\n",
      "Epoch 48500 loss: 21.80035\n",
      "Epoch 48600 loss: 21.80035\n",
      "Epoch 48700 loss: 21.80034\n",
      "Epoch 48800 loss: 21.80034\n",
      "Epoch 48900 loss: 21.80034\n",
      "Epoch 49000 loss: 21.80034\n",
      "Epoch 49100 loss: 21.80034\n",
      "Epoch 49200 loss: 21.80034\n",
      "Epoch 49300 loss: 21.80034\n",
      "Epoch 49400 loss: 21.80033\n",
      "Epoch 49500 loss: 21.80033\n",
      "Epoch 49600 loss: 21.80033\n",
      "Epoch 49700 loss: 21.80033\n",
      "Epoch 49800 loss: 21.80033\n",
      "Epoch 49900 loss: 21.80033\n"
     ]
    }
   ],
   "source": [
    "for epoch in range(num_epochs):\n",
    "    optimizer.zero_grad()\n",
    "    outputs = net(inputs)\n",
    "    loss = criterion(outputs, labels1) / 2.0\n",
    "    loss.backward()\n",
    "    optimizer.step()\n",
    "\n",
    "    if (epoch % 100 == 0):\n",
    "        history = np.vstack((history, np.array([epoch, loss.item()])))\n",
    "        print(f'Epoch {epoch} loss: {loss.item():.5f}')"
   ]
  },
  {
   "cell_type": "code",
   "execution_count": 53,
   "metadata": {},
   "outputs": [
    {
     "name": "stdout",
     "output_type": "stream",
     "text": [
      "초기 손실값 : 154.22495\n",
      "최종 손실값 : 21.80033\n"
     ]
    }
   ],
   "source": [
    "print(f\"초기 손실값 : {history[0, 1]:.5f}\")\n",
    "print(f\"최종 손실값 : {history[-1, 1]:.5f}\")"
   ]
  },
  {
   "cell_type": "code",
   "execution_count": 65,
   "metadata": {},
   "outputs": [
    {
     "data": {
      "image/png": "[encoded data removed]",
      "text/plain": [
       "<Figure size 640x480 with 1 Axes>"
      ]
     },
     "metadata": {},
     "output_type": "display_data"
    }
   ],
   "source": [
    "plt.plot(history[1:,0], history[1:, 1], 'b')\n",
    "plt.xlabel('epochs')\n",
    "plt.ylabel('loss')\n",
    "plt.title('loss')\n",
    "plt.grid()\n",
    "plt.show()"
   ]
  },
  {
   "cell_type": "code",
   "execution_count": 68,
   "metadata": {},
   "outputs": [
    {
     "data": {
      "image/png": "[encoded data removed]",
      "text/plain": [
       "<Figure size 640x480 with 1 Axes>"
      ]
     },
     "metadata": {},
     "output_type": "display_data"
    }
   ],
   "source": [
    "# x의 최솟값, 최댓값\n",
    "xse = np.array((x.min(), x.max())).reshape(-1,1)\n",
    "Xse = torch.tensor(xse).float()\n",
    "\n",
    "with torch.no_grad():\n",
    "  Yse = net(Xse)\n",
    "\n",
    "plt.scatter(x, yt, s=10, c='b')\n",
    "plt.xlabel('room')\n",
    "plt.ylabel('price')\n",
    "plt.plot(Xse.data, Yse.data, c='k')\n",
    "plt.title('linear')\n",
    "plt.grid()\n",
    "plt.show()"
   ]
  },
  {
   "cell_type": "code",
   "execution_count": 69,
   "metadata": {},
   "outputs": [
    {
     "name": "stdout",
     "output_type": "stream",
     "text": [
      "(506, 2)\n",
      "[[6.575 4.98 ]\n",
      " [6.421 9.14 ]\n",
      " [7.185 4.03 ]\n",
      " [6.998 2.94 ]\n",
      " [7.147 5.33 ]]\n"
     ]
    }
   ],
   "source": [
    "x_add = x_org[:, feature_names=='LSTAT']\n",
    "x2 = np.hstack((x, x_add))\n",
    "\n",
    "print(x2.shape)\n",
    "print(x2[:5, :])"
   ]
  },
  {
   "cell_type": "code",
   "execution_count": 71,
   "metadata": {},
   "outputs": [
    {
     "name": "stdout",
     "output_type": "stream",
     "text": [
      "2\n"
     ]
    }
   ],
   "source": [
    "n_input = x2.shape[1]\n",
    "print(n_input)\n",
    "\n",
    "net = Net(n_input, n_output)"
   ]
  },
  {
   "cell_type": "code",
   "execution_count": 73,
   "metadata": {},
   "outputs": [
    {
     "name": "stdout",
     "output_type": "stream",
     "text": [
      "변수명 : l1.weight\n",
      "변수값 : tensor([[1., 1.]])\n",
      "\n",
      "변수명 : l1.bias\n",
      "변수값 : tensor([1.])\n",
      "\n"
     ]
    }
   ],
   "source": [
    "for parameter in net.named_parameters():\n",
    "    print(f'변수명 : {parameter[0]}')\n",
    "    print(f'변수값 : {parameter[1].data}')\n",
    "    print()"
   ]
  },
  {
   "cell_type": "code",
   "execution_count": 74,
   "metadata": {},
   "outputs": [
    {
     "name": "stdout",
     "output_type": "stream",
     "text": [
      "Net(\n",
      "  (l1): Linear(in_features=2, out_features=1, bias=True)\n",
      ")\n"
     ]
    }
   ],
   "source": [
    "print(net)"
   ]
  },
  {
   "cell_type": "code",
   "execution_count": 75,
   "metadata": {},
   "outputs": [
    {
     "data": {
      "text/plain": [
       "==========================================================================================\n",
       "Layer (type:depth-idx)                   Output Shape              Param #\n",
       "==========================================================================================\n",
       "Net                                      [1]                       --\n",
       "├─Linear: 1-1                            [1]                       3\n",
       "==========================================================================================\n",
       "Total params: 3\n",
       "Trainable params: 3\n",
       "Non-trainable params: 0\n",
       "Total mult-adds (M): 0.00\n",
       "==========================================================================================\n",
       "Input size (MB): 0.00\n",
       "Forward/backward pass size (MB): 0.00\n",
       "Params size (MB): 0.00\n",
       "Estimated Total Size (MB): 0.00\n",
       "=========================================================================================="
      ]
     },
     "execution_count": 75,
     "metadata": {},
     "output_type": "execute_result"
    }
   ],
   "source": [
    "from torchinfo import summary\n",
    "summary(net, (2,))"
   ]
  },
  {
   "cell_type": "code",
   "execution_count": 76,
   "metadata": {},
   "outputs": [],
   "source": [
    "inputs = torch.tensor(x2).float()"
   ]
  },
  {
   "cell_type": "code",
   "execution_count": 82,
   "metadata": {},
   "outputs": [],
   "source": [
    "num_epochs = 2000\n",
    "lr = 0.001\n",
    "\n",
    "net = Net(n_input, n_output)\n",
    "optimizer = optim.SGD(net.parameters(), lr=lr)\n",
    "criterion = nn.MSELoss()\n",
    "\n",
    "history = np.zeros((0,2))"
   ]
  },
  {
   "cell_type": "code",
   "execution_count": 83,
   "metadata": {},
   "outputs": [
    {
     "name": "stdout",
     "output_type": "stream",
     "text": [
      "Epoch 0 loss: 112.06398\n",
      "Epoch 100 loss: 25.35892\n",
      "Epoch 200 loss: 16.39106\n",
      "Epoch 300 loss: 15.40302\n",
      "Epoch 400 loss: 15.29414\n",
      "Epoch 500 loss: 15.28211\n",
      "Epoch 600 loss: 15.28076\n",
      "Epoch 700 loss: 15.28059\n",
      "Epoch 800 loss: 15.28054\n",
      "Epoch 900 loss: 15.28051\n",
      "Epoch 1000 loss: 15.28048\n",
      "Epoch 1100 loss: 15.28046\n",
      "Epoch 1200 loss: 15.28043\n",
      "Epoch 1300 loss: 15.28040\n",
      "Epoch 1400 loss: 15.28037\n",
      "Epoch 1500 loss: 15.28034\n",
      "Epoch 1600 loss: 15.28031\n",
      "Epoch 1700 loss: 15.28028\n",
      "Epoch 1800 loss: 15.28026\n",
      "Epoch 1900 loss: 15.28023\n"
     ]
    }
   ],
   "source": [
    "for epoch in range(num_epochs):\n",
    "    optimizer.zero_grad()\n",
    "    outputs = net(inputs)\n",
    "    loss = criterion(outputs, labels1) / 2.0\n",
    "    loss.backward()\n",
    "    optimizer.step()\n",
    "\n",
    "    if (epoch % 100 == 0):\n",
    "        history = np.vstack((history, np.array([epoch, loss.item()])))\n",
    "        print(f'Epoch {epoch} loss: {loss.item():.5f}')"
   ]
  },
  {
   "cell_type": "code",
   "execution_count": 84,
   "metadata": {},
   "outputs": [
    {
     "name": "stdout",
     "output_type": "stream",
     "text": [
      "초기 손실값 : 112.06398\n",
      "최종 손실값 : 15.28023\n"
     ]
    }
   ],
   "source": [
    "print(f\"초기 손실값 : {history[0, 1]:.5f}\")\n",
    "print(f\"최종 손실값 : {history[-1, 1]:.5f}\")"
   ]
  },
  {
   "cell_type": "code",
   "execution_count": 91,
   "metadata": {},
   "outputs": [
    {
     "data": {
      "image/png": "[encoded data removed]",
      "text/plain": [
       "<Figure size 640x480 with 1 Axes>"
      ]
     },
     "metadata": {},
     "output_type": "display_data"
    }
   ],
   "source": [
    "plt.plot(history[:,0], history[:, 1], 'b')\n",
    "plt.xlabel('epochs')\n",
    "plt.ylabel('loss')\n",
    "plt.title('loss')\n",
    "plt.grid()\n",
    "plt.show()"
   ]
  },
  {
   "cell_type": "code",
   "execution_count": null,
   "metadata": {},
   "outputs": [],
   "source": []
  }
 ],
 "metadata": {
  "kernelspec": {
   "display_name": "ML_lecture",
   "language": "python",
   "name": "python3"
  },
  "language_info": {
   "codemirror_mode": {
    "name": "ipython",
    "version": 3
   },
   "file_extension": ".py",
   "mimetype": "text/x-python",
   "name": "python",
   "nbconvert_exporter": "python",
   "pygments_lexer": "ipython3",
   "version": "3.8.19"
  }
 },
 "nbformat": 4,
 "nbformat_minor": 2
}
