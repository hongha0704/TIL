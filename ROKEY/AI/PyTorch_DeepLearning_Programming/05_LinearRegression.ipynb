{
 "cells": [
  {
   "cell_type": "code",
   "execution_count": 8,
   "metadata": {},
   "outputs": [],
   "source": [
    "import torch\n",
    "from torch import nn\n",
    "import numpy as np\n",
    "import matplotlib.pyplot as plt"
   ]
  },
  {
   "cell_type": "code",
   "execution_count": 2,
   "metadata": {},
   "outputs": [],
   "source": [
    "l3 = nn.Linear(2, 3)"
   ]
  },
  {
   "cell_type": "code",
   "execution_count": 3,
   "metadata": {},
   "outputs": [
    {
     "name": "stdout",
     "output_type": "stream",
     "text": [
      "Linear(in_features=1, out_features=1, bias=True)\n"
     ]
    }
   ],
   "source": [
    "torch.manual_seed(123)\n",
    "\n",
    "l1 = nn.Linear(1, 1)\n",
    "print(l1)"
   ]
  },
  {
   "cell_type": "code",
   "execution_count": 6,
   "metadata": {},
   "outputs": [
    {
     "name": "stdout",
     "output_type": "stream",
     "text": [
      "name : weight\n",
      "tensor : Parameter containing:\n",
      "tensor([[-0.4078]], requires_grad=True)\n",
      "shape : torch.Size([1, 1])\n",
      "\n",
      "name : bias\n",
      "tensor : Parameter containing:\n",
      "tensor([0.0331], requires_grad=True)\n",
      "shape : torch.Size([1])\n",
      "\n"
     ]
    }
   ],
   "source": [
    "for param in l1.named_parameters():\n",
    "    print('name :', param[0])\n",
    "    print('tensor :', param[1])\n",
    "    print('shape :', param[1].shape)\n",
    "    print('')"
   ]
  },
  {
   "cell_type": "code",
   "execution_count": 7,
   "metadata": {},
   "outputs": [
    {
     "name": "stdout",
     "output_type": "stream",
     "text": [
      "Parameter containing:\n",
      "tensor([[2.]], requires_grad=True)\n",
      "Parameter containing:\n",
      "tensor([1.], requires_grad=True)\n"
     ]
    }
   ],
   "source": [
    "nn.init.constant_(l1.weight, 2.0)\n",
    "nn.init.constant_(l1.bias, 1.0)\n",
    "\n",
    "print(l1.weight)\n",
    "print(l1.bias)"
   ]
  },
  {
   "cell_type": "code",
   "execution_count": 11,
   "metadata": {},
   "outputs": [
    {
     "name": "stdout",
     "output_type": "stream",
     "text": [
      "torch.Size([5, 1])\n",
      "tensor([[-2.],\n",
      "        [-1.],\n",
      "        [ 0.],\n",
      "        [ 1.],\n",
      "        [ 2.]])\n"
     ]
    }
   ],
   "source": [
    "x_np = np.arange(-2, 2.1, 1)\n",
    "\n",
    "x = torch.tensor(x_np).float()\n",
    "x = x.view(-1, 1)\n",
    "\n",
    "print(x.shape)\n",
    "print(x)"
   ]
  },
  {
   "cell_type": "code",
   "execution_count": 12,
   "metadata": {},
   "outputs": [
    {
     "name": "stdout",
     "output_type": "stream",
     "text": [
      "torch.Size([5, 1])\n",
      "tensor([[-3.],\n",
      "        [-1.],\n",
      "        [ 1.],\n",
      "        [ 3.],\n",
      "        [ 5.]], grad_fn=<AddmmBackward0>)\n"
     ]
    }
   ],
   "source": [
    "y = l1(x)\n",
    "\n",
    "print(y.shape)\n",
    "print(y)"
   ]
  },
  {
   "cell_type": "code",
   "execution_count": 15,
   "metadata": {},
   "outputs": [
    {
     "data": {
      "image/png": "[encoded data removed]",
      "text/plain": [
       "<Figure size 640x480 with 1 Axes>"
      ]
     },
     "metadata": {},
     "output_type": "display_data"
    }
   ],
   "source": [
    "plt.plot(x.data, y.data)\n",
    "plt.grid()\n",
    "plt.show()"
   ]
  },
  {
   "cell_type": "code",
   "execution_count": 16,
   "metadata": {},
   "outputs": [
    {
     "name": "stdout",
     "output_type": "stream",
     "text": [
      "Parameter containing:\n",
      "tensor([[1., 1.]], requires_grad=True)\n",
      "Parameter containing:\n",
      "tensor([2.], requires_grad=True)\n"
     ]
    }
   ],
   "source": [
    "l2 = nn.Linear(2, 1)\n",
    "\n",
    "nn.init.constant_(l2.weight, 1.0)\n",
    "nn.init.constant_(l2.bias, 2.0)\n",
    "\n",
    "print(l2.weight)\n",
    "print(l2.bias)"
   ]
  },
  {
   "cell_type": "code",
   "execution_count": 17,
   "metadata": {},
   "outputs": [
    {
     "name": "stdout",
     "output_type": "stream",
     "text": [
      "torch.Size([4, 2])\n",
      "tensor([[0., 0.],\n",
      "        [0., 1.],\n",
      "        [1., 0.],\n",
      "        [1., 1.]])\n"
     ]
    }
   ],
   "source": [
    "x2_np = np.array([[0, 0], [0, 1], [1, 0], [1, 1]])\n",
    "\n",
    "x2 = torch.tensor(x2_np).float()\n",
    "\n",
    "print(x2.shape)\n",
    "print(x2)"
   ]
  },
  {
   "cell_type": "code",
   "execution_count": 18,
   "metadata": {},
   "outputs": [
    {
     "name": "stdout",
     "output_type": "stream",
     "text": [
      "torch.Size([4, 1])\n",
      "tensor([[2.],\n",
      "        [3.],\n",
      "        [3.],\n",
      "        [4.]], grad_fn=<AddmmBackward0>)\n"
     ]
    }
   ],
   "source": [
    "y2 = l2(x2)\n",
    "\n",
    "print(y2.shape)\n",
    "print(y2)"
   ]
  },
  {
   "cell_type": "code",
   "execution_count": 19,
   "metadata": {},
   "outputs": [
    {
     "name": "stdout",
     "output_type": "stream",
     "text": [
      "Parameter containing:\n",
      "tensor([[1., 1.],\n",
      "        [2., 2.],\n",
      "        [3., 3.]], requires_grad=True)\n",
      "Parameter containing:\n",
      "tensor([2., 2., 2.], requires_grad=True)\n"
     ]
    }
   ],
   "source": [
    "l3 = nn.Linear(2, 3)\n",
    "\n",
    "nn.init.constant_(l3.weight[0, :], 1.0)\n",
    "nn.init.constant_(l3.weight[1, :], 2.0)\n",
    "nn.init.constant_(l3.weight[2, :], 3.0)\n",
    "nn.init.constant_(l3.bias, 2.0)\n",
    "\n",
    "print(l3.weight)\n",
    "print(l3.bias)"
   ]
  },
  {
   "cell_type": "code",
   "execution_count": 20,
   "metadata": {},
   "outputs": [
    {
     "name": "stdout",
     "output_type": "stream",
     "text": [
      "torch.Size([4, 3])\n",
      "tensor([[2., 2., 2.],\n",
      "        [3., 4., 5.],\n",
      "        [3., 4., 5.],\n",
      "        [4., 6., 8.]], grad_fn=<AddmmBackward0>)\n"
     ]
    }
   ],
   "source": [
    "y3 = l3(x2)\n",
    "\n",
    "print(y3.shape)\n",
    "print(y3)"
   ]
  },
  {
   "cell_type": "code",
   "execution_count": 21,
   "metadata": {},
   "outputs": [],
   "source": [
    "class Net(nn.Module):\n",
    "    def __init__(self, n_input, n_output):\n",
    "        super().__init__()\n",
    "        self.l1 = nn.Linear(n_input, n_output)\n",
    "\n",
    "    def forward(self, x):\n",
    "        x1 = self.l1(x)\n",
    "        return x1"
   ]
  },
  {
   "cell_type": "code",
   "execution_count": 22,
   "metadata": {},
   "outputs": [],
   "source": [
    "inputs = torch.ones(100, 1)\n",
    "\n",
    "n_input = 1\n",
    "n_output = 1\n",
    "net = Net(n_input, n_output)\n",
    "outputs = net(inputs)"
   ]
  },
  {
   "cell_type": "code",
   "execution_count": 23,
   "metadata": {},
   "outputs": [],
   "source": [
    "criterion = nn.MSELoss()"
   ]
  },
  {
   "cell_type": "code",
   "execution_count": 24,
   "metadata": {},
   "outputs": [],
   "source": [
    "import pandas as pd"
   ]
  },
  {
   "cell_type": "code",
   "execution_count": 25,
   "metadata": {},
   "outputs": [
    {
     "name": "stdout",
     "output_type": "stream",
     "text": [
      "원본 데이터 (506, 13) (506,)\n",
      "항목명 : ['CRIM' 'ZN' 'INDUS' 'CHAS' 'NOX' 'RM' 'AGE' 'DIS' 'RAD' 'TAX' 'PTRATIO'\n",
      " 'B' 'LSTAT']\n"
     ]
    }
   ],
   "source": [
    "data_url = \"http://lib.stat.cmu.edu/datasets/boston\"\n",
    "raw_df = pd.read_csv(data_url, sep=\"\\s+\", skiprows=22, header=None)\n",
    "x_org = np.hstack([raw_df.values[::2, :], raw_df.values[1::2, :2]])\n",
    "yt = raw_df.values[1::2, 2]\n",
    "feature_names = np.array(['CRIM', 'ZN', 'INDUS', 'CHAS', 'NOX', 'RM', 'AGE', 'DIS', 'RAD', 'TAX', 'PTRATIO', 'B', 'LSTAT'])\n",
    "\n",
    "print('원본 데이터', x_org.shape, yt.shape)\n",
    "print('항목명 :', feature_names)"
   ]
  },
  {
   "cell_type": "code",
   "execution_count": 26,
   "metadata": {},
   "outputs": [
    {
     "name": "stdout",
     "output_type": "stream",
     "text": [
      "추출 후 (506, 1)\n",
      "[[6.575]\n",
      " [6.421]\n",
      " [7.185]\n",
      " [6.998]\n",
      " [7.147]]\n",
      "정답 데이터\n",
      "[24.  21.6 34.7 33.4 36.2]\n"
     ]
    }
   ],
   "source": [
    "x = x_org[:, feature_names == 'RM']\n",
    "print('추출 후', x.shape)\n",
    "print(x[:5, :])\n",
    "\n",
    "print('정답 데이터')\n",
    "print(yt[:5])"
   ]
  },
  {
   "cell_type": "code",
   "execution_count": 29,
   "metadata": {},
   "outputs": [
    {
     "data": {
      "image/png": "[encoded data removed]",
      "text/plain": [
       "<Figure size 640x480 with 1 Axes>"
      ]
     },
     "metadata": {},
     "output_type": "display_data"
    }
   ],
   "source": [
    "plt.scatter(x, yt, s=10, c='b')\n",
    "plt.xlabel('room')\n",
    "plt.ylabel('price')\n",
    "plt.title('room and price')\n",
    "plt.grid()\n",
    "plt.show()"
   ]
  },
  {
   "cell_type": "code",
   "execution_count": 30,
   "metadata": {},
   "outputs": [
    {
     "name": "stdout",
     "output_type": "stream",
     "text": [
      "입력 차원수: 1 출력 차원수: 1\n"
     ]
    }
   ],
   "source": [
    "n_input = x.shape[1]\n",
    "n_output = 1\n",
    "\n",
    "print(f'입력 차원수: {n_input} 출력 차원수: {n_output}')"
   ]
  },
  {
   "cell_type": "code",
   "execution_count": 36,
   "metadata": {},
   "outputs": [],
   "source": [
    "class Net(nn.Module):\n",
    "    def __init__(self, n_input, n_output):\n",
    "        super().__init__()\n",
    "        self.l1 = nn.Linear(n_input, n_output)\n",
    "\n",
    "        nn.init.constant_(self.l1.weight, 1.0)\n",
    "        nn.init.constant_(self.l1.bias, 1.0)\n",
    "\n",
    "    def forward(self, x):\n",
    "        x1 = self.l1(x)\n",
    "        return x1"
   ]
  },
  {
   "cell_type": "code",
   "execution_count": 37,
   "metadata": {},
   "outputs": [],
   "source": [
    "net = Net(n_input, n_output)\n",
    "outputs = net(inputs)"
   ]
  },
  {
   "cell_type": "code",
   "execution_count": 38,
   "metadata": {},
   "outputs": [
    {
     "name": "stdout",
     "output_type": "stream",
     "text": [
      "변수명 : l1.weight\n",
      "변숫값 : tensor([[1.]])\n",
      "변수명 : l1.bias\n",
      "변숫값 : tensor([1.])\n"
     ]
    }
   ],
   "source": [
    "for parameter in net.named_parameters():\n",
    "    print(f'변수명 : {parameter[0]}')\n",
    "    print(f'변숫값 : {parameter[1].data}')"
   ]
  },
  {
   "cell_type": "code",
   "execution_count": 39,
   "metadata": {},
   "outputs": [
    {
     "name": "stdout",
     "output_type": "stream",
     "text": [
      "Parameter containing:\n",
      "tensor([[1.]], requires_grad=True)\n",
      "Parameter containing:\n",
      "tensor([1.], requires_grad=True)\n"
     ]
    }
   ],
   "source": [
    "for parameter in net.parameters():\n",
    "    print(parameter)"
   ]
  },
  {
   "cell_type": "code",
   "execution_count": 40,
   "metadata": {},
   "outputs": [
    {
     "name": "stdout",
     "output_type": "stream",
     "text": [
      "Net(\n",
      "  (l1): Linear(in_features=1, out_features=1, bias=True)\n",
      ")\n"
     ]
    }
   ],
   "source": [
    "print(net)"
   ]
  },
  {
   "cell_type": "code",
   "execution_count": 44,
   "metadata": {},
   "outputs": [
    {
     "data": {
      "text/plain": [
       "==========================================================================================\n",
       "Layer (type:depth-idx)                   Output Shape              Param #\n",
       "==========================================================================================\n",
       "Net                                      [1]                       --\n",
       "├─Linear: 1-1                            [1]                       2\n",
       "==========================================================================================\n",
       "Total params: 2\n",
       "Trainable params: 2\n",
       "Non-trainable params: 0\n",
       "Total mult-adds (M): 0.00\n",
       "==========================================================================================\n",
       "Input size (MB): 0.00\n",
       "Forward/backward pass size (MB): 0.00\n",
       "Params size (MB): 0.00\n",
       "Estimated Total Size (MB): 0.00\n",
       "=========================================================================================="
      ]
     },
     "execution_count": 44,
     "metadata": {},
     "output_type": "execute_result"
    }
   ],
   "source": [
    "from torchinfo import summary\n",
    "summary(net, (1,))"
   ]
  },
  {
   "cell_type": "code",
   "execution_count": 48,
   "metadata": {},
   "outputs": [],
   "source": [
    "from torch import optim\n",
    "\n",
    "criterion = nn.MSELoss()\n",
    "lr = 0.01\n",
    "optimizer = optim.SGD(net.parameters(), lr=lr)"
   ]
  },
  {
   "cell_type": "code",
   "execution_count": null,
   "metadata": {},
   "outputs": [],
   "source": []
  }
 ],
 "metadata": {
  "kernelspec": {
   "display_name": "ML_lecture",
   "language": "python",
   "name": "python3"
  },
  "language_info": {
   "codemirror_mode": {
    "name": "ipython",
    "version": 3
   },
   "file_extension": ".py",
   "mimetype": "text/x-python",
   "name": "python",
   "nbconvert_exporter": "python",
   "pygments_lexer": "ipython3",
   "version": "3.8.19"
  }
 },
 "nbformat": 4,
 "nbformat_minor": 2
}
