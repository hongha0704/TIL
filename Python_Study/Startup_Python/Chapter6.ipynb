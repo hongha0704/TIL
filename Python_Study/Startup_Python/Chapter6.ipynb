{
 "cells": [
  {
   "cell_type": "markdown",
   "metadata": {},
   "source": [
    "# if 조건문\n",
    "---"
   ]
  },
  {
   "cell_type": "code",
   "execution_count": 7,
   "metadata": {},
   "outputs": [
    {
     "name": "stdout",
     "output_type": "stream",
     "text": [
      "Welcome! your id is \"ffewff\"\n",
      "================================\n",
      "| Make a password as follows   |\n",
      "| - Must be at least 8 letters |\n",
      "| - Alphabet and numbers only  |\n",
      "================================\n",
      "Must be at least 8 letters\n",
      "Must be at least 8 letters and Alphabet and numbers only\n",
      "Must be at least 8 letters and Alphabet and numbers only\n",
      "Alphabet and numbers only\n",
      "Alphabet and numbers only\n",
      "Nice password\n"
     ]
    }
   ],
   "source": [
    "first_name = input('Enter your first name :')\n",
    "last_name = input('Enter your last name :')\n",
    "id = first_name.lower()[0] + last_name.lower()\n",
    "\n",
    "print(f'Welcome! your id is \\\"{id}\\\"')\n",
    "\n",
    "print('================================')\n",
    "print('| Make a password as follows   |')\n",
    "print('| - Must be at least 8 letters |')\n",
    "print('| - Alphabet and numbers only  |')\n",
    "print('================================')\n",
    "\n",
    "while(True):\n",
    "    new_password = input('Input new password :')\n",
    "\n",
    "    if len(new_password) >= 8:\n",
    "        if new_password.isalnum():\n",
    "            print('Nice password')\n",
    "        else:\n",
    "            print('Alphabet and numbers only')\n",
    "    else:\n",
    "        if not new_password.isalnum():\n",
    "            print('Must be at least 8 letters and Alphabet and numbers only')\n",
    "        else:\n",
    "            print('Must be at least 8 letters')\n",
    "\n",
    "    if len(new_password) >= 8 and new_password.isalnum():\n",
    "        break"
   ]
  },
  {
   "cell_type": "code",
   "execution_count": 10,
   "metadata": {},
   "outputs": [
    {
     "name": "stdout",
     "output_type": "stream",
     "text": [
      "Max value : 15\n"
     ]
    }
   ],
   "source": [
    "a = int(input('Enter a :'))\n",
    "b = int(input('Enter b :'))\n",
    "c = int(input('Enter c :'))\n",
    "\n",
    "if a >= b and a >= c:\n",
    "    max_value = a\n",
    "else:\n",
    "    if b >= c:\n",
    "        max_value = b\n",
    "    else:\n",
    "        max_value = c\n",
    "\n",
    "print('Max value :', max_value)"
   ]
  },
  {
   "cell_type": "code",
   "execution_count": 15,
   "metadata": {},
   "outputs": [
    {
     "name": "stdout",
     "output_type": "stream",
     "text": [
      "Max value : 11\n"
     ]
    }
   ],
   "source": [
    "a = int(input('Enter a :'))\n",
    "b = int(input('Enter b :'))\n",
    "c = int(input('Enter c :'))\n",
    "d = int(input('Enter d :'))\n",
    "\n",
    "if a >= b and a >= c and a >= d:\n",
    "    max_value = a\n",
    "else:\n",
    "    if b >= c and b >= d:\n",
    "        max_value = b\n",
    "    else:\n",
    "        if c >= d:\n",
    "            max_value = c\n",
    "        else:\n",
    "            max_value = d\n",
    "\n",
    "print('Max value :', max_value)"
   ]
  },
  {
   "cell_type": "code",
   "execution_count": 20,
   "metadata": {},
   "outputs": [
    {
     "name": "stdout",
     "output_type": "stream",
     "text": [
      "You should pay 8000 won.\n"
     ]
    }
   ],
   "source": [
    "age = int(input('Enter age :'))\n",
    "price = int(input('Enter price :'))\n",
    "\n",
    "if age < 18 or age >= 70:\n",
    "    pay = price * 0.8\n",
    "elif 60 <= age < 70:\n",
    "    pay = price * 0.85\n",
    "else:\n",
    "    pay = price\n",
    "\n",
    "print('You should pay {} won.'.format(int(pay)))"
   ]
  },
  {
   "cell_type": "code",
   "execution_count": 51,
   "metadata": {},
   "outputs": [
    {
     "name": "stdout",
     "output_type": "stream",
     "text": [
      "electricity usage : 150\n",
      "grade : 5\n",
      "No such grade\n"
     ]
    }
   ],
   "source": [
    "usage = int(input('electricity usage :'))\n",
    "print('electricity usage :', usage)\n",
    "grade = input('grade :')\n",
    "print('grade :', grade)\n",
    "\n",
    "if grade == \"1\" or grade == \"2\" or grade == \"3\":\n",
    "    if grade == \"1\":\n",
    "        unit_price = 535\n",
    "    elif grade == \"2\":\n",
    "        unit_price = 377\n",
    "    elif grade == \"3\":\n",
    "        unit_price = 291\n",
    "    amount = usage * unit_price\n",
    "    tax = amount * 0.03\n",
    "    print(\"Your amount is {:7.2f}\".format(amount+tax))\n",
    "else:\n",
    "    print(\"No such grade\")"
   ]
  },
  {
   "cell_type": "code",
   "execution_count": 30,
   "metadata": {},
   "outputs": [
    {
     "name": "stdout",
     "output_type": "stream",
     "text": [
      "career : 20\n",
      "hour : 60\n",
      "Your weekly salary is 780120\n"
     ]
    }
   ],
   "source": [
    "career = int(input('career :'))\n",
    "print('career :', career)\n",
    "hour = int(input('hour :'))\n",
    "print('hour :', hour)\n",
    "\n",
    "if career >= 36:\n",
    "    wage = 15000\n",
    "elif career >= 12:\n",
    "    wage = 12000\n",
    "else:\n",
    "    wage = 9000\n",
    "\n",
    "if hour >= 40:\n",
    "    office_hour = 40\n",
    "    overtime = hour - office_hour\n",
    "else:\n",
    "    office_hour = hour\n",
    "    overtime = 0\n",
    "\n",
    "weekly_salary = wage * office_hour + wage * 1.3 * overtime\n",
    "weekly_salary -= weekly_salary * 0.015\n",
    "\n",
    "print('Your weekly salary is', int(weekly_salary))"
   ]
  },
  {
   "cell_type": "code",
   "execution_count": 37,
   "metadata": {},
   "outputs": [
    {
     "name": "stdout",
     "output_type": "stream",
     "text": [
      "string : papaap\n",
      "papaap is not palindrome.\n"
     ]
    }
   ],
   "source": [
    "string = input('string :')\n",
    "print('string :', string)\n",
    "\n",
    "if string == string[::-1]:\n",
    "    print(f'{string} is palindrome.')\n",
    "else:\n",
    "    print(f'{string} is not palindrome.')"
   ]
  },
  {
   "cell_type": "code",
   "execution_count": 47,
   "metadata": {},
   "outputs": [
    {
     "name": "stdout",
     "output_type": "stream",
     "text": [
      "password should be at least 8\n",
      "first letter should be a lower letter\n",
      "last two letters should be numbers\n",
      "last two letters should be numbers\n",
      "first letter should be a lower letter\n",
      "Nice password\n"
     ]
    }
   ],
   "source": [
    "while(True):\n",
    "    password = input(\"Enter password :\")\n",
    "\n",
    "    if len(password) < 8:\n",
    "        print(\"password should be at least 8\")\n",
    "    elif not (password[0].isalpha() and password[0] == password.lower()[0]):\n",
    "        print(\"first letter should be a lower letter\")\n",
    "    elif not (password[-1].isnumeric() and password[-2].isnumeric()):\n",
    "        print(\"last two letters should be numbers\")\n",
    "    else:\n",
    "        print('Nice password')\n",
    "        break"
   ]
  },
  {
   "cell_type": "code",
   "execution_count": null,
   "metadata": {},
   "outputs": [],
   "source": []
  }
 ],
 "metadata": {
  "kernelspec": {
   "display_name": "ML_lecture",
   "language": "python",
   "name": "ml_lecture"
  },
  "language_info": {
   "codemirror_mode": {
    "name": "ipython",
    "version": 3
   },
   "file_extension": ".py",
   "mimetype": "text/x-python",
   "name": "python",
   "nbconvert_exporter": "python",
   "pygments_lexer": "ipython3",
   "version": "3.8.19"
  }
 },
 "nbformat": 4,
 "nbformat_minor": 2
}
