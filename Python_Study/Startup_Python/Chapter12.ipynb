{
 "cells": [
  {
   "cell_type": "markdown",
   "metadata": {},
   "source": [
    "# 사전 자료형\n",
    "---"
   ]
  },
  {
   "cell_type": "code",
   "execution_count": 17,
   "metadata": {},
   "outputs": [
    {
     "name": "stdout",
     "output_type": "stream",
     "text": [
      "[4] words of length 4 -> ['book', 'with', 'desk', 'lamp']\n",
      "[3] words of length 6 -> ['pencil', 'mirror', 'school']\n",
      "[3] words of length 2 -> ['to', 'of', 'an']\n",
      "[3] words of length 3 -> ['for', 'cup', 'cat']\n",
      "[1] words of length 8 -> ['computer']\n",
      "[1] words of length 5 -> ['chair']\n",
      "[2] words of length 1 -> ['a', 'I']\n"
     ]
    }
   ],
   "source": [
    "words = ['book', 'pencil', 'mirror', 'to', 'for', 'with', 'cup', 'computer', 'chair', 'of', 'a', 'an', 'I', 'desk', 'school', 'cat', 'lamp']\n",
    "words_len = [len(word) for word in words]\n",
    "\n",
    "words_dict = {length:[] for length in words_len}\n",
    "\n",
    "for word in words:\n",
    "    words_dict[len(word)].append(word)\n",
    "\n",
    "for length, word in words_dict.items():\n",
    "    print(\"[{}] words of length {} -> {}\".format(len(word), length, word))"
   ]
  },
  {
   "cell_type": "code",
   "execution_count": 21,
   "metadata": {},
   "outputs": [
    {
     "name": "stdout",
     "output_type": "stream",
     "text": [
      "Word1 : abcddd\n",
      "Word２ : adbdcd\n",
      "{'a': 1, 'b': 1, 'c': 1, 'd': 3}\n",
      "{'a': 1, 'd': 3, 'b': 1, 'c': 1}\n",
      "abcddd and adbdcd are anagram\n"
     ]
    }
   ],
   "source": [
    "word1 = input(\"Word1 :\")\n",
    "print(\"Word1 :\", word1)\n",
    "word２ = input(\"Word２ :\")\n",
    "print(\"Word２ :\", word２)\n",
    "\n",
    "word1_dict = {}\n",
    "word2_dict = {}\n",
    "\n",
    "for i in word1:\n",
    "    if i in word1_dict:\n",
    "        word1_dict[i] += 1\n",
    "    else:\n",
    "        word1_dict[i] = 1\n",
    "\n",
    "for i in word2:\n",
    "    if i in word2_dict:\n",
    "        word2_dict[i] += 1\n",
    "    else:\n",
    "        word2_dict[i] = 1\n",
    "\n",
    "print(word1_dict)\n",
    "print(word2_dict)\n",
    "\n",
    "if word1_dict == word2_dict:\n",
    "    print(\"{} and {} are anagram\".format(word1, word2))\n",
    "else:\n",
    "    print(\"{} and {} are not anagram\".format(word1, word2))"
   ]
  },
  {
   "cell_type": "code",
   "execution_count": 43,
   "metadata": {},
   "outputs": [
    {
     "name": "stdout",
     "output_type": "stream",
     "text": [
      "Alice   : [1, 2, 5, 6]\n",
      "Tom     : [1, 3, 4, 6, 7]\n",
      "David   : [1, 2, 3, 4, 5, 6, 7]\n",
      "Peter   : [1, 2, 6, 7]\n",
      "Cindy   : [2, 3, 4, 6]\n",
      "Eve     : [2, 5]\n",
      "Mary    : [3, 6]\n",
      "Bob     : [3, 4, 5, 6]\n",
      "Jenny   : [3, 4, 6]\n",
      "Paul    : [3, 5]\n"
     ]
    }
   ],
   "source": [
    "May = {}\n",
    "May[1] = ['Alice', 'Tom', 'David', 'Peter']\n",
    "May[2] = ['Alice', 'Cindy', 'David', 'Eve', 'Peter']\n",
    "May[3] = ['Mary', 'Tom', 'Bob', 'David', 'Jenny', 'Paul', 'Cindy']\n",
    "May[4] = ['Cindy', 'David', 'Jenny', 'Bob', 'Tom']\n",
    "May[5] = ['Alice', 'David', 'Eve', 'Paul', 'Bob']\n",
    "May[6] = ['Cindy', 'David', 'Alice', 'Mary', 'Bob', 'Tom', 'Peter', 'Jenny']\n",
    "May[7] = ['Peter', 'David', 'Tom']\n",
    "\n",
    "# Make May_dict\n",
    "# May_dict = {}\n",
    "# for i in range(1, len(May) + 1):\n",
    "#     for j in May[i]:\n",
    "#         if j not in May_dict:\n",
    "#             May_dict.setdefault(j, [])\n",
    "\n",
    "# for i in May_dict:\n",
    "#     for j in range(1, len(May) + 1):\n",
    "#         if i in May[j]:\n",
    "#             May_dict[i].append(j)\n",
    "#     print(\"{:7s} : {}\".format(i, May_dict[i]))\n",
    "\n",
    "May_dict = {}\n",
    "for day, names in May.items():\n",
    "    for name in names:\n",
    "        if name in May_dict:\n",
    "            May_dict[name].append(day)\n",
    "        else:\n",
    "            May_dict[name] = [day]\n",
    "\n",
    "for name, days in May_dict.items():\n",
    "    print(\"{:7s} : {}\".format(name, days))"
   ]
  },
  {
   "cell_type": "code",
   "execution_count": 92,
   "metadata": {},
   "outputs": [
    {
     "name": "stdout",
     "output_type": "stream",
     "text": [
      "Cathy's birthday : February/13\n",
      "Katie's birthday : May/3\n",
      "Peter's birthday : May/8\n",
      "Bill's birthday : May/8\n",
      "\n",
      "new dictionaly : {'Cathy': ['February', 13], 'Katie': ['May', 3], 'Peter': ['May', 8], 'Bill': ['May', 8]}\n"
     ]
    }
   ],
   "source": [
    "A = {'February':{13:['Cathy']}, 'May':{3:['Katie'], 8:['Peter', 'Bill']}}\n",
    "\n",
    "new_A = {}\n",
    "for month, month_dict in A.items():\n",
    "    for day, names in month_dict.items():\n",
    "        for name in names:\n",
    "            new_A[name] = [month, day]\n",
    "            print(\"{}'s birthday : {}/{}\".format(name, month, day))\n",
    "print('\\nnew dictionaly :',new_A)"
   ]
  },
  {
   "cell_type": "code",
   "execution_count": null,
   "metadata": {},
   "outputs": [],
   "source": []
  }
 ],
 "metadata": {
  "kernelspec": {
   "display_name": "ML_lecture",
   "language": "python",
   "name": "ml_lecture"
  },
  "language_info": {
   "codemirror_mode": {
    "name": "ipython",
    "version": 3
   },
   "file_extension": ".py",
   "mimetype": "text/x-python",
   "name": "python",
   "nbconvert_exporter": "python",
   "pygments_lexer": "ipython3",
   "version": "3.8.19"
  }
 },
 "nbformat": 4,
 "nbformat_minor": 2
}
