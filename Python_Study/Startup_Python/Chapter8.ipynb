{
 "cells": [
  {
   "cell_type": "markdown",
   "metadata": {},
   "source": [
    "# for 반복문\n",
    "---"
   ]
  },
  {
   "cell_type": "code",
   "execution_count": 4,
   "metadata": {},
   "outputs": [
    {
     "name": "stdout",
     "output_type": "stream",
     "text": [
      "Enter one string : programming\n",
      "Enter one character : a\n",
      "count : 1\n"
     ]
    }
   ],
   "source": [
    "string = input(\"Enter one string :\")\n",
    "print(\"Enter one string :\", string)\n",
    "\n",
    "character = input(\"Enter one character :\")\n",
    "print(\"Enter one character :\", character)\n",
    "\n",
    "count = 0\n",
    "for i in string:\n",
    "    if i == character:\n",
    "        count += 1\n",
    "print('count :', count)"
   ]
  },
  {
   "cell_type": "code",
   "execution_count": 8,
   "metadata": {},
   "outputs": [
    {
     "name": "stdout",
     "output_type": "stream",
     "text": [
      "Enter one string : hello123**\n",
      "result : ??123123**\n"
     ]
    }
   ],
   "source": [
    "string = input(\"Enter one string :\")\n",
    "print(\"Enter one string :\", string)\n",
    "\n",
    "result = \"\"\n",
    "for i in string:\n",
    "    if not i.isalpha():\n",
    "        result += i\n",
    "print(\"result :\", result)"
   ]
  },
  {
   "cell_type": "code",
   "execution_count": 10,
   "metadata": {},
   "outputs": [
    {
     "name": "stdout",
     "output_type": "stream",
     "text": [
      "L : [90, 90, 88, 92, 73, 100, 77, 80, 95]\n",
      "count : 5\n"
     ]
    }
   ],
   "source": [
    "L = [90, 90, 88, 92, 73, 100, 77, 80, 95]\n",
    "print(\"L :\", L)\n",
    "\n",
    "count = 0\n",
    "for i in L:\n",
    "    if i >= 90:\n",
    "        count += 1\n",
    "print(\"count :\", count)"
   ]
  },
  {
   "cell_type": "code",
   "execution_count": 16,
   "metadata": {},
   "outputs": [
    {
     "name": "stdout",
     "output_type": "stream",
     "text": [
      "Enter a : 15\n",
      "Enter b : 20\n",
      "60 120 180 240 300 360 420 480 540 600 660 720 780 840 900 960 "
     ]
    }
   ],
   "source": [
    "a = int(input(\"Enter a :\"))\n",
    "print(\"Enter a :\", a)\n",
    "b = int(input(\"Enter b :\"))\n",
    "print(\"Enter b :\", b)\n",
    "\n",
    "if a >= b:\n",
    "    higher_num = a\n",
    "else:\n",
    "    higher_num = b\n",
    "\n",
    "for i in range(higher_num, 1001):\n",
    "    if i % a == 0 and i % b == 0:\n",
    "        print(i, end=\" \")"
   ]
  },
  {
   "cell_type": "code",
   "execution_count": 18,
   "metadata": {},
   "outputs": [
    {
     "name": "stdout",
     "output_type": "stream",
     "text": [
      "Enter word to find : kiwi\n",
      "5 - kiwi\n",
      "7 - KIwI\n"
     ]
    }
   ],
   "source": [
    "L = ['apple', 'APPle', 'Melon', 'melon', 'Grape', 'kiwi', 'appLE', 'KIwI']\n",
    "\n",
    "string = input('Enter word to find :')\n",
    "print('Enter word to find :', string)\n",
    "\n",
    "for i in range(len(L)):\n",
    "    if string.lower() == L[i].lower():\n",
    "        print(\"{} - {}\".format(i, L[i]))"
   ]
  },
  {
   "cell_type": "code",
   "execution_count": 20,
   "metadata": {},
   "outputs": [
    {
     "name": "stdout",
     "output_type": "stream",
     "text": [
      "Enter first word : beaver\n",
      "Enter second word : weaver\n",
      "e is at 1\n",
      "a is at 2\n",
      "v is at 3\n",
      "e is at 4\n",
      "r is at 5\n"
     ]
    }
   ],
   "source": [
    "first = input(\"Enter first word :\")\n",
    "print(\"Enter first word :\", first)\n",
    "second = input(\"Enter second word :\")\n",
    "print(\"Enter second word :\", second)\n",
    "\n",
    "for i in range(len(first)):\n",
    "    if first[i] == second[i]:\n",
    "        print(\"{} is at {}\".format(first[i], i))"
   ]
  },
  {
   "cell_type": "code",
   "execution_count": 24,
   "metadata": {},
   "outputs": [
    {
     "name": "stdout",
     "output_type": "stream",
     "text": [
      "Enter n : 1000\n",
      "1000 is not perfect square number\n"
     ]
    }
   ],
   "source": [
    "n = int(input(\"Enter n :\"))\n",
    "print(\"Enter n :\", n)\n",
    "\n",
    "flag = False\n",
    "for i in range(1, n):\n",
    "    if i**2 == n:\n",
    "        print(\"{} is perfect square of {}\".format(n, i))\n",
    "        flag = True\n",
    "        break\n",
    "if not flag:\n",
    "    print(\"{} is not perfect square number\".format(n))"
   ]
  },
  {
   "cell_type": "code",
   "execution_count": null,
   "metadata": {},
   "outputs": [],
   "source": []
  }
 ],
 "metadata": {
  "kernelspec": {
   "display_name": "ML_lecture",
   "language": "python",
   "name": "ml_lecture"
  },
  "language_info": {
   "codemirror_mode": {
    "name": "ipython",
    "version": 3
   },
   "file_extension": ".py",
   "mimetype": "text/x-python",
   "name": "python",
   "nbconvert_exporter": "python",
   "pygments_lexer": "ipython3",
   "version": "3.8.19"
  }
 },
 "nbformat": 4,
 "nbformat_minor": 2
}
