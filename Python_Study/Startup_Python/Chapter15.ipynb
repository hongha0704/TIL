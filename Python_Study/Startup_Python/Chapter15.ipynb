{
 "cells": [
  {
   "cell_type": "markdown",
   "metadata": {},
   "source": [
    "# 모듈\n",
    "---"
   ]
  },
  {
   "cell_type": "code",
   "execution_count": 1,
   "metadata": {},
   "outputs": [
    {
     "name": "stdout",
     "output_type": "stream",
     "text": [
      "Enter your choice (rock/paper/scissors) : rock\n",
      "It's a tie\n",
      "Do more? (y/n) : y\n",
      "Enter your choice (rock/paper/scissors) : paper\n",
      "It's a tie\n",
      "Do more? (y/n) : Y\n",
      "Enter your choice (rock/paper/scissors) : SCIssorS\n",
      "It's a tie\n",
      "Do more? (y/n) : y\n",
      "Enter your choice (rock/paper/scissors) : ppaper\n",
      "Do more? (y/n) : y\n",
      "Enter your choice (rock/paper/scissors) : rock\n",
      "Computer choice is scissors. You win\n",
      "Do more? (y/n) : rock\n",
      "Enter your choice (rock/paper/scissors) : ROCK\n",
      "It's a tie\n",
      "Do more? (y/n) : y\n",
      "Enter your choice (rock/paper/scissors) : PAper\n",
      "It's a tie\n",
      "Do more? (y/n) : n\n",
      "Good bye~\n"
     ]
    }
   ],
   "source": [
    "import random\n",
    "\n",
    "computer = ['rock', 'paper', 'scissors']\n",
    "\n",
    "while(True):\n",
    "    computer_choice = random.choice(computer)\n",
    "    your_choice = input('Enter your choice (rock/paper/scissors) :')\n",
    "    print('Enter your choice (rock/paper/scissors) :', your_choice)\n",
    "\n",
    "    if your_choice.lower() == 'rock':\n",
    "        if computer_choice.lower() == 'scissors':\n",
    "            print(\"Computer choice is {}. You win\".format(computer_choice.lower()))\n",
    "        else:\n",
    "            print(\"It's a tie\")\n",
    "    elif your_choice.lower() == 'paper':\n",
    "        if computer_choice.lower() == 'rock':\n",
    "            print(\"Computer choice is {}. You win\".format(computer_choice.lower()))\n",
    "        else:\n",
    "            print(\"It's a tie\")\n",
    "    elif your_choice.lower() == 'scissors':\n",
    "        if computer_choice.lower() == 'paper':\n",
    "            print(\"Computer choice is {}. You win\".format(computer_choice.lower()))\n",
    "        else:\n",
    "            print(\"It's a tie\")\n",
    "    \n",
    "    do_more = input(\"Do more? (y/n) :\")\n",
    "    print(\"Do more? (y/n) :\", do_more)\n",
    "\n",
    "    if do_more.lower() == \"n\":\n",
    "        print(\"Good bye~\")\n",
    "        break"
   ]
  },
  {
   "cell_type": "code",
   "execution_count": null,
   "metadata": {},
   "outputs": [],
   "source": []
  }
 ],
 "metadata": {
  "kernelspec": {
   "display_name": "ML_lecture",
   "language": "python",
   "name": "python3"
  },
  "language_info": {
   "codemirror_mode": {
    "name": "ipython",
    "version": 3
   },
   "file_extension": ".py",
   "mimetype": "text/x-python",
   "name": "python",
   "nbconvert_exporter": "python",
   "pygments_lexer": "ipython3",
   "version": "3.8.19"
  }
 },
 "nbformat": 4,
 "nbformat_minor": 2
}
