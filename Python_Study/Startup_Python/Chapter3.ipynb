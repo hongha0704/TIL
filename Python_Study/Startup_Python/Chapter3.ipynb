{
 "cells": [
  {
   "cell_type": "markdown",
   "metadata": {},
   "source": [
    "# 수치 자료형과 연산자\n",
    "---"
   ]
  },
  {
   "cell_type": "code",
   "execution_count": 4,
   "metadata": {},
   "outputs": [
    {
     "name": "stdout",
     "output_type": "stream",
     "text": [
      "만의 자리수:  3\n",
      "천의 자리수:  8\n",
      "백의 자리수:  7\n",
      "십의 자리수:  2\n",
      "일의 자리수:  4\n"
     ]
    }
   ],
   "source": [
    "n = 38724\n",
    "\n",
    "a = n // 10000\n",
    "b = n // 1000 % 10\n",
    "c = n // 100 % 10\n",
    "d = n // 10 % 10\n",
    "e = n % 10\n",
    "\n",
    "print('만의 자리수: ', a)\n",
    "print('천의 자리수: ', b)\n",
    "print('백의 자리수: ', c)\n",
    "print('십의 자리수: ', d)\n",
    "print('일의 자리수: ', e)"
   ]
  },
  {
   "cell_type": "code",
   "execution_count": 6,
   "metadata": {},
   "outputs": [
    {
     "name": "stdout",
     "output_type": "stream",
     "text": [
      "원가 : 50000\n",
      "판매가 : 42500.0\n",
      "적립금 : 1275.0\n"
     ]
    }
   ],
   "source": [
    "price = 50000\n",
    "\n",
    "sale_price = 50000 * (1 - 0.15)\n",
    "acc_price = sale_price * 0.03\n",
    "\n",
    "print('원가 :', price)\n",
    "print('판매가 :', sale_price)\n",
    "print('적립금 :', acc_price)"
   ]
  },
  {
   "cell_type": "code",
   "execution_count": 8,
   "metadata": {},
   "outputs": [
    {
     "name": "stdout",
     "output_type": "stream",
     "text": [
      "20000 초는 5 시간 33 분 20 초입니다.\n"
     ]
    }
   ],
   "source": [
    "n = 20000\n",
    "\n",
    "h = n // (60*60)\n",
    "m = n % (60*60) // 60\n",
    "s = n % (60*60) % 60\n",
    "\n",
    "print(n, '초는', h, '시간', m, '분', s, '초입니다.')"
   ]
  },
  {
   "cell_type": "code",
   "execution_count": 9,
   "metadata": {},
   "outputs": [
    {
     "name": "stdout",
     "output_type": "stream",
     "text": [
      "섭씨온도 26.5 는 화씨온도 79.7 와 같다\n"
     ]
    }
   ],
   "source": [
    "c = 26.5\n",
    "\n",
    "f = c*1.8 + 32\n",
    "\n",
    "print('섭씨온도', c, '는 화씨온도', f, '와 같다')"
   ]
  },
  {
   "cell_type": "code",
   "execution_count": 10,
   "metadata": {},
   "outputs": [
    {
     "name": "stdout",
     "output_type": "stream",
     "text": [
      "x1 = -1.0\n",
      "x2 = -1.5\n"
     ]
    }
   ],
   "source": [
    "import math\n",
    "\n",
    "a = 2; b = 5; c = 3\n",
    "\n",
    "x1 = (-b + math.sqrt(b**2 - 4*a*c)) / (2*a)\n",
    "x2 = (-b - math.sqrt(b**2 - 4*a*c)) / (2*a)\n",
    "\n",
    "print('x1 =', x1)\n",
    "print('x2 =', x2)"
   ]
  },
  {
   "cell_type": "code",
   "execution_count": null,
   "metadata": {},
   "outputs": [],
   "source": []
  }
 ],
 "metadata": {
  "kernelspec": {
   "display_name": "ML_lecture",
   "language": "python",
   "name": "ml_lecture"
  },
  "language_info": {
   "codemirror_mode": {
    "name": "ipython",
    "version": 3
   },
   "file_extension": ".py",
   "mimetype": "text/x-python",
   "name": "python",
   "nbconvert_exporter": "python",
   "pygments_lexer": "ipython3",
   "version": "3.8.19"
  }
 },
 "nbformat": 4,
 "nbformat_minor": 2
}
