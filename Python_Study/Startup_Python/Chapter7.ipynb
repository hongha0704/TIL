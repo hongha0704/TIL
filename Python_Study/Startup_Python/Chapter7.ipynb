{
 "cells": [
  {
   "cell_type": "markdown",
   "metadata": {},
   "source": [
    "# while 반복문\n",
    "---"
   ]
  },
  {
   "cell_type": "code",
   "execution_count": 4,
   "metadata": {},
   "outputs": [
    {
     "name": "stdout",
     "output_type": "stream",
     "text": [
      "Enter number 1 : 0\n",
      "Enter number 2 : 0\n",
      "Enter number 3 : 0\n",
      "Enter number 4 : 0\n",
      "Enter number 5 : 0\n",
      "Enter number 6 : 0\n",
      "Enter number 7 : 3\n",
      "Enter number 8 : 2\n",
      "Enter number 9 : -5\n",
      "Enter number 10 : 3\n",
      "Number of positive integers : 3\n",
      "Number of negative integers : 1\n",
      "Number of zeros : 6\n"
     ]
    }
   ],
   "source": [
    "positive_integers = 0\n",
    "negative_integers = 0\n",
    "zeros = 0\n",
    "\n",
    "i = 1\n",
    "while i <= 10:\n",
    "    num = int(input('Enter number {} :'.format(i)))\n",
    "    print('Enter number', i, ':', num)\n",
    "    \n",
    "    if num > 0:\n",
    "        positive_integers += 1\n",
    "    elif num < 0:\n",
    "        negative_integers += 1\n",
    "    elif num == 0:\n",
    "        zeros += 1\n",
    "    i += 1\n",
    "\n",
    "print('Number of positive integers :', positive_integers)\n",
    "print('Number of negative integers :', negative_integers)\n",
    "print('Number of zeros :', zeros)\n"
   ]
  },
  {
   "cell_type": "code",
   "execution_count": 11,
   "metadata": {},
   "outputs": [
    {
     "name": "stdout",
     "output_type": "stream",
     "text": [
      "Enter one integer : 1536\n",
      "1 2 3 4 6 8 12 16 24 32 48 64 96 128 192 256 384 512 768 1536 (20)\n"
     ]
    }
   ],
   "source": [
    "integer = int(input('Enter one integer :'))\n",
    "print('Enter one integer :', integer)\n",
    "\n",
    "i = 1\n",
    "count = 0\n",
    "\n",
    "while i <= integer:\n",
    "    if integer % i == 0:\n",
    "        count += 1\n",
    "        print(i, end=' ')\n",
    "    i += 1\n",
    "print(\"({})\".format(count))"
   ]
  },
  {
   "cell_type": "code",
   "execution_count": 25,
   "metadata": {},
   "outputs": [
    {
     "name": "stdout",
     "output_type": "stream",
     "text": [
      "Enter input : 9\n",
      "fibonacci number of 9 : 34\n"
     ]
    }
   ],
   "source": [
    "num = int(input('Enter input :'))\n",
    "print('Enter input :', num)\n",
    "\n",
    "value_before = 1\n",
    "value = 1\n",
    "i = 3\n",
    "\n",
    "if num == 1 or num == 2:\n",
    "    fibonacci_number = 1\n",
    "\n",
    "while i <= num:\n",
    "    fibonacci_number = value_before + value\n",
    "    value_before = value\n",
    "    value = fibonacci_number\n",
    "    i += 1\n",
    "\n",
    "print('fibonacci number of', num, ':', fibonacci_number)"
   ]
  },
  {
   "cell_type": "code",
   "execution_count": 35,
   "metadata": {},
   "outputs": [
    {
     "name": "stdout",
     "output_type": "stream",
     "text": [
      "Enter a : 10\n",
      "*\n",
      "**\n",
      "***\n",
      "****\n",
      "*****\n",
      "******\n",
      "*******\n",
      "********\n",
      "*********\n",
      "**********\n"
     ]
    }
   ],
   "source": [
    "num = int(input('Enter a :'))\n",
    "print('Enter a :', num)\n",
    "\n",
    "i = 1\n",
    "while i <= num:\n",
    "    print(\"*\" * i)\n",
    "    i += 1"
   ]
  },
  {
   "cell_type": "code",
   "execution_count": 42,
   "metadata": {},
   "outputs": [
    {
     "name": "stdout",
     "output_type": "stream",
     "text": [
      "Enter word to find : KIWI\n",
      "5 - kiwi\n",
      "7 - KIwI\n"
     ]
    }
   ],
   "source": [
    "L = ['apple', 'APPle', 'Melon', 'melon', 'Grape', 'kiwi', 'appLE', 'KIwI']\n",
    "\n",
    "string = input('Enter word to find :')\n",
    "print('Enter word to find :', string)\n",
    "\n",
    "i = 0\n",
    "while i < len(L):\n",
    "    if string.lower() == L[i].lower():\n",
    "        print(i, '-', L[i])\n",
    "    i += 1"
   ]
  },
  {
   "cell_type": "code",
   "execution_count": null,
   "metadata": {},
   "outputs": [],
   "source": []
  }
 ],
 "metadata": {
  "kernelspec": {
   "display_name": "ML_lecture",
   "language": "python",
   "name": "ml_lecture"
  },
  "language_info": {
   "codemirror_mode": {
    "name": "ipython",
    "version": 3
   },
   "file_extension": ".py",
   "mimetype": "text/x-python",
   "name": "python",
   "nbconvert_exporter": "python",
   "pygments_lexer": "ipython3",
   "version": "3.8.19"
  }
 },
 "nbformat": 4,
 "nbformat_minor": 2
}
