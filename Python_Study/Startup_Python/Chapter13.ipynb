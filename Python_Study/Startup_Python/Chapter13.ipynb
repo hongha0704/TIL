{
 "cells": [
  {
   "cell_type": "markdown",
   "metadata": {},
   "source": [
    "# 함수\n",
    "---"
   ]
  },
  {
   "cell_type": "code",
   "execution_count": 5,
   "metadata": {},
   "outputs": [
    {
     "name": "stdout",
     "output_type": "stream",
     "text": [
      "Enter x: 10\n",
      "Enter y: 10\n",
      "Enter z: 9\n",
      "(10, 10, 9) is not ordered.\n"
     ]
    }
   ],
   "source": [
    "def isordered(a, b, c):\n",
    "    if a <= b <= c:\n",
    "        return True\n",
    "    else:\n",
    "        return False\n",
    "    \n",
    "if __name__ == '__main__':\n",
    "    x = int(input('Enter x:'))\n",
    "    print('Enter x:', x)\n",
    "    y = int(input('Enter y:'))\n",
    "    print('Enter y:', y)\n",
    "    z = int(input('Enter z:'))\n",
    "    print('Enter z:', z)\n",
    "\n",
    "    if isordered(x, y, z):\n",
    "        print(\"({}, {}, {}) is ordered.\".format(x, y, z))\n",
    "    else:\n",
    "        print(\"({}, {}, {}) is not ordered.\".format(x, y, z))"
   ]
  },
  {
   "cell_type": "code",
   "execution_count": 9,
   "metadata": {},
   "outputs": [
    {
     "name": "stdout",
     "output_type": "stream",
     "text": [
      "Enter n : 2973\n",
      "2973 is not prime.\n"
     ]
    }
   ],
   "source": [
    "def isprime(n):\n",
    "    for i in range(2, n):\n",
    "        if n % i == 0:\n",
    "            return False\n",
    "    return True\n",
    "\n",
    "if __name__ == \"__main__\":\n",
    "    n = int(input('Enter n :'))\n",
    "    print('Enter n :', n)\n",
    "    if isprime(n):\n",
    "        print(n, 'is prime.')\n",
    "    else:\n",
    "        print(n, 'is not prime.')"
   ]
  },
  {
   "cell_type": "code",
   "execution_count": 11,
   "metadata": {},
   "outputs": [
    {
     "name": "stdout",
     "output_type": "stream",
     "text": [
      "L: [22, 80, 50, 43, 19, 2, 78, 90, 15]\n",
      "Enter n: 20\n",
      "There are 6 numbers larger than 20 in L.\n"
     ]
    }
   ],
   "source": [
    "def count_larger_than_n(L, n):\n",
    "    count = 0\n",
    "    for i in L:\n",
    "        if i >= n:\n",
    "            count += 1\n",
    "    return count\n",
    "\n",
    "L = [22, 80, 50, 43, 19, 2, 78, 90, 15]\n",
    "print('L:', L)\n",
    "n = int(input('Enter n:'))\n",
    "print('Enter n:', n)\n",
    "count = count_larger_than_n(L, n)\n",
    "print('There are {} numbers larger than {} in L.'.format(count, n))"
   ]
  },
  {
   "cell_type": "code",
   "execution_count": 17,
   "metadata": {},
   "outputs": [
    {
     "name": "stdout",
     "output_type": "stream",
     "text": [
      "섭씨온도를 화씨로 바꾸려면 C 또는 c를 입력하시오.\n",
      "화씨온도를 섭씨로 바꾸려면 F 또는 f를 입력하시오.\n",
      "선택 ---> d\n",
      "잘못된 입력입니다. 다시 입력해 주세요.\n",
      "선택 ---> a\n",
      "잘못된 입력입니다. 다시 입력해 주세요.\n",
      "선택 ---> g\n",
      "잘못된 입력입니다. 다시 입력해 주세요.\n",
      "선택 ---> e\n",
      "잘못된 입력입니다. 다시 입력해 주세요.\n",
      "선택 ---> F\n",
      "화씨온도를 입력하십시오 : 0.0\n",
      "화씨 0.00도는 섭씨 -17.78도입니다.\n"
     ]
    }
   ],
   "source": [
    "def CtoF(c):\n",
    "    return (9/5 * c) + 32\n",
    "\n",
    "def FtoC(f):\n",
    "    return (f - 32) * (5/9)\n",
    "\n",
    "if __name__ == '__main__':\n",
    "    print('섭씨온도를 화씨로 바꾸려면 C 또는 c를 입력하시오.')\n",
    "    print('화씨온도를 섭씨로 바꾸려면 F 또는 f를 입력하시오.')\n",
    "\n",
    "    while(True):\n",
    "        select = input(\"선택 --->\")\n",
    "        print(\"선택 --->\", select)\n",
    "\n",
    "        if select == 'C' or select == 'c':\n",
    "            c = float(input('섭씨온도를 입력하십시오 :'))\n",
    "            print('섭씨온도를 입력하십시오 :', c)\n",
    "            print('섭씨 {:.2f}도는 화씨 {:.2f}도입니다.'.format(c, CtoF(c)))\n",
    "            break\n",
    "        elif select == 'F' or select == 'f':\n",
    "            f = float(input('화씨온도를 입력하십시오 :'))\n",
    "            print('화씨온도를 입력하십시오 :', f)\n",
    "            print('화씨 {:.2f}도는 섭씨 {:.2f}도입니다.'.format(f, FtoC(f)))\n",
    "            break\n",
    "        else:\n",
    "            print(\"잘못된 입력입니다. 다시 입력해 주세요.\")"
   ]
  },
  {
   "cell_type": "code",
   "execution_count": null,
   "metadata": {},
   "outputs": [],
   "source": []
  }
 ],
 "metadata": {
  "kernelspec": {
   "display_name": "ML_lecture",
   "language": "python",
   "name": "ml_lecture"
  },
  "language_info": {
   "codemirror_mode": {
    "name": "ipython",
    "version": 3
   },
   "file_extension": ".py",
   "mimetype": "text/x-python",
   "name": "python",
   "nbconvert_exporter": "python",
   "pygments_lexer": "ipython3",
   "version": "3.8.19"
  }
 },
 "nbformat": 4,
 "nbformat_minor": 2
}
