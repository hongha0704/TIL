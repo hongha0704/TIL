{
 "cells": [
  {
   "cell_type": "markdown",
   "metadata": {},
   "source": [
    "# 리스트 자료형\n",
    "---"
   ]
  },
  {
   "cell_type": "code",
   "execution_count": 8,
   "metadata": {},
   "outputs": [
    {
     "name": "stdout",
     "output_type": "stream",
     "text": [
      "apple-melon-grape\n"
     ]
    }
   ],
   "source": [
    "L = ['apple', 'melon', 'grape']\n",
    "\n",
    "s = \"\"\n",
    "for i in L:\n",
    "    s += i\n",
    "    if L.index(i) != len(L) - 1:\n",
    "        s += \"-\"\n",
    "print(s)"
   ]
  },
  {
   "cell_type": "code",
   "execution_count": 10,
   "metadata": {},
   "outputs": [
    {
     "name": "stdout",
     "output_type": "stream",
     "text": [
      "1 : Korea\n",
      "2 : France\n",
      "3 : USA\n",
      "4 : China\n"
     ]
    }
   ],
   "source": [
    "L = ['Korea', 'France', 'USA', 'China']\n",
    "\n",
    "for index in range(len(L)):\n",
    "    print(\"{} : {}\".format(index + 1, L[index]))"
   ]
  },
  {
   "cell_type": "code",
   "execution_count": 11,
   "metadata": {},
   "outputs": [
    {
     "name": "stdout",
     "output_type": "stream",
     "text": [
      "L : ['apple', 'MELON', 'Kiwi', 'ORANGE', 'BLUEbERRY', 'peAR']\n",
      "L2 : ['MELON', 'ORANGE']\n"
     ]
    }
   ],
   "source": [
    "L = ['apple', 'MELON', 'Kiwi', 'ORANGE', 'BLUEbERRY', 'peAR']\n",
    "\n",
    "L2 =[]\n",
    "for string in L:\n",
    "    if string.isupper():\n",
    "        L2.append(string)\n",
    "print('L :', L)\n",
    "print('L2 :', L2)"
   ]
  },
  {
   "cell_type": "code",
   "execution_count": null,
   "metadata": {},
   "outputs": [],
   "source": []
  }
 ],
 "metadata": {
  "kernelspec": {
   "display_name": "ML_lecture",
   "language": "python",
   "name": "ml_lecture"
  },
  "language_info": {
   "codemirror_mode": {
    "name": "ipython",
    "version": 3
   },
   "file_extension": ".py",
   "mimetype": "text/x-python",
   "name": "python",
   "nbconvert_exporter": "python",
   "pygments_lexer": "ipython3",
   "version": "3.8.19"
  }
 },
 "nbformat": 4,
 "nbformat_minor": 2
}
