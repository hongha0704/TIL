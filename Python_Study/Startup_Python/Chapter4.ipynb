{
 "cells": [
  {
   "cell_type": "markdown",
   "metadata": {},
   "source": [
    "# 문자열 자료형\n",
    "---"
   ]
  },
  {
   "cell_type": "code",
   "execution_count": 4,
   "metadata": {},
   "outputs": [
    {
     "name": "stdout",
     "output_type": "stream",
     "text": [
      "login_id : bgates\n"
     ]
    }
   ],
   "source": [
    "first_name = 'Bill'\n",
    "last_name = 'Gates'\n",
    "\n",
    "login_id = first_name[0].lower() + last_name.lower()\n",
    "\n",
    "print('login_id : {}'.format(login_id))"
   ]
  },
  {
   "cell_type": "code",
   "execution_count": 6,
   "metadata": {},
   "outputs": [
    {
     "name": "stdout",
     "output_type": "stream",
     "text": [
      "happy -> appyhay\n",
      "pig -> igpay\n",
      "python -> ythonpay\n"
     ]
    }
   ],
   "source": [
    "a = 'happy'; b = 'pig'; c = 'python'\n",
    "\n",
    "x = a[1:] + a[0] + 'ay'\n",
    "y = b[1:] + b[0] + 'ay'\n",
    "z = c[1:] + c[0] + 'ay'\n",
    "\n",
    "string = '{} -> {}'\n",
    "print(string.format(a, x))\n",
    "print(string.format(b, y))\n",
    "print(string.format(c, z))"
   ]
  },
  {
   "cell_type": "code",
   "execution_count": 21,
   "metadata": {},
   "outputs": [
    {
     "name": "stdout",
     "output_type": "stream",
     "text": [
      "In Korea, people speak Korean.\n",
      "In England, people speak English.\n",
      "In France, people speak French.\n"
     ]
    }
   ],
   "source": [
    "x = 'Korea:Korean'\n",
    "y = 'England:English'\n",
    "z = 'France:French'\n",
    "\n",
    "x_split = x.split(':')[0], x.split(':')[1]\n",
    "y_partition = y.partition(':')[0], y.partition(':')[2]\n",
    "z_find = z[:z.find(':')], z[z.index(':')+1:]\n",
    "\n",
    "for i in x_split, y_partition, z_find:\n",
    "    print('In {}, people speak {}.'.format(i[0], i[1]))"
   ]
  },
  {
   "cell_type": "code",
   "execution_count": 23,
   "metadata": {},
   "outputs": [
    {
     "name": "stdout",
     "output_type": "stream",
     "text": [
      "average length of worlds : 5.5\n"
     ]
    }
   ],
   "source": [
    "text = 'I like python programming'\n",
    "\n",
    "text_split = text.split()\n",
    "average_length = (len(text_split[0])+len(text_split[1])+len(text_split[2])+len(text_split[3])) / 4.0\n",
    "\n",
    "print('average length of worlds :', average_length)"
   ]
  },
  {
   "cell_type": "code",
   "execution_count": null,
   "metadata": {},
   "outputs": [],
   "source": []
  }
 ],
 "metadata": {
  "kernelspec": {
   "display_name": "ML_lecture",
   "language": "python",
   "name": "ml_lecture"
  },
  "language_info": {
   "codemirror_mode": {
    "name": "ipython",
    "version": 3
   },
   "file_extension": ".py",
   "mimetype": "text/x-python",
   "name": "python",
   "nbconvert_exporter": "python",
   "pygments_lexer": "ipython3",
   "version": "3.8.19"
  }
 },
 "nbformat": 4,
 "nbformat_minor": 2
}
