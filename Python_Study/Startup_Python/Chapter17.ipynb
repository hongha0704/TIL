{
 "cells": [
  {
   "cell_type": "markdown",
   "metadata": {},
   "source": [
    "# 클래스와 객체 지향 개념\n",
    "---"
   ]
  },
  {
   "cell_type": "code",
   "execution_count": 8,
   "metadata": {},
   "outputs": [
    {
     "name": "stdout",
     "output_type": "stream",
     "text": [
      "제일 오랜 친구 이름 : David\n"
     ]
    }
   ],
   "source": [
    "class Friend:\n",
    "    \"\"\"Friend 클래스는 친구 정보를 갖고 있습니다.\n",
    "       친구 이름과 친구를 처음 만났을 때의 나이입니다.\"\"\"\n",
    "    \n",
    "    def __init__(self, name, age):\n",
    "        self.name = name\n",
    "        self.age = age\n",
    "\n",
    "    def get_name(self):\n",
    "        return self.name\n",
    "    \n",
    "    def get_age(self):\n",
    "        return self.age\n",
    "    \n",
    "if __name__ == '__main__':\n",
    "    f1 = Friend('Alice', 10)\n",
    "    f2 = Friend('Paul', 13)\n",
    "    f3 = Friend('Cindy', 17)\n",
    "    f4 = Friend('David', 7)\n",
    "\n",
    "    friends = [f1, f2, f3, f4]\n",
    "\n",
    "    print('제일 오랜 친구 이름 : ', end='')\n",
    "\n",
    "    age = 100\n",
    "\n",
    "    for friend in friends:\n",
    "        if friend.get_age() < age:\n",
    "            age = friend.get_age()\n",
    "            name = friend.get_name()\n",
    "\n",
    "    print(name)"
   ]
  },
  {
   "cell_type": "code",
   "execution_count": 11,
   "metadata": {},
   "outputs": [
    {
     "name": "stdout",
     "output_type": "stream",
     "text": [
      "Total in my purse : 2470\n"
     ]
    }
   ],
   "source": [
    "class Coin:\n",
    "    \"\"\"동전 클래스는 하나의 동전을 표현하는 클래스입니다.\n",
    "       동전의 이름과 가치를 데이터 속성으로 갖습니다.\"\"\"\n",
    "    \n",
    "    def __init__(self, coin_name, coin):\n",
    "        self.coin_name = coin_name\n",
    "        self.coin = coin\n",
    "    \n",
    "class Purse:\n",
    "    \"\"\"현재 지갑에 돈이 얼마나 있는지를 저장하는 클래스입니다.\n",
    "       데이터 속성으로 리스트를 갖는데, 리스트에는 동전들이 저장됩니다.\"\"\"\n",
    "    \n",
    "    def __init__(self, coin_list):\n",
    "        self.coin_list = coin_list\n",
    "\n",
    "    def add_coin(self, coin):\n",
    "        self.coin_list.append(coin)\n",
    "\n",
    "    def getTotal(self):\n",
    "        total = 0\n",
    "        for coin in self.coin_list:\n",
    "            total += coin.coin\n",
    "\n",
    "        return total\n",
    "\n",
    "\n",
    "if __name__ == \"__main__\":\n",
    "    c500 = Coin('500원', 500)\n",
    "    c100 = Coin('100원', 100)\n",
    "    c50 = Coin('50원', 50)\n",
    "    c10 = Coin('10원', 10)\n",
    "\n",
    "    coins = [c500, c500, c100, c50, c500, c100, c500, c10, c50, c10]\n",
    "    my_purse = Purse(coins)\n",
    "    my_purse.add_coin(c100)\n",
    "    my_purse.add_coin(c50)\n",
    "\n",
    "    print('Total in my purse : {}'.format(my_purse.getTotal()))"
   ]
  },
  {
   "cell_type": "code",
   "execution_count": null,
   "metadata": {},
   "outputs": [],
   "source": []
  }
 ],
 "metadata": {
  "kernelspec": {
   "display_name": "ML_lecture",
   "language": "python",
   "name": "python3"
  },
  "language_info": {
   "codemirror_mode": {
    "name": "ipython",
    "version": 3
   },
   "file_extension": ".py",
   "mimetype": "text/x-python",
   "name": "python",
   "nbconvert_exporter": "python",
   "pygments_lexer": "ipython3",
   "version": "3.8.19"
  }
 },
 "nbformat": 4,
 "nbformat_minor": 2
}
