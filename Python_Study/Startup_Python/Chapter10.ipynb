{
 "cells": [
  {
   "cell_type": "markdown",
   "metadata": {},
   "source": [
    "# 튜플 자료형\n",
    "---"
   ]
  },
  {
   "cell_type": "code",
   "execution_count": 12,
   "metadata": {},
   "outputs": [
    {
     "name": "stdout",
     "output_type": "stream",
     "text": [
      "Enter score : 100\n",
      "100 is not in T\n"
     ]
    }
   ],
   "source": [
    "T = (89, 90, 85, 99, 77, 58, 85, 77, 85)\n",
    "score = int(input(\"Enter score :\"))\n",
    "print(\"Enter score :\", score)\n",
    "\n",
    "index = []\n",
    "for i in range(len(T)):\n",
    "    if score == T[i]:\n",
    "        index.append(i)\n",
    "\n",
    "if index:\n",
    "    print(\"{} is at {}\".format(score, tuple(index)))\n",
    "else:\n",
    "    print(\"{} is not in T\".format(score))"
   ]
  },
  {
   "cell_type": "code",
   "execution_count": 14,
   "metadata": {},
   "outputs": [
    {
     "name": "stdout",
     "output_type": "stream",
     "text": [
      "1반 - 81.50\n",
      "2반 - 78.00\n",
      "3반 - 86.60\n",
      "4반 - 84.80\n"
     ]
    }
   ],
   "source": [
    "score = ([80, 90, 88, 75, 91, 65],\n",
    "         [75, 65, 80, 92],\n",
    "         [90, 90, 88 ,95, 70],\n",
    "         [83, 73, 90, 88, 90])\n",
    "\n",
    "for index in range(len(score)):\n",
    "    average = sum(score[index]) / len(score[index])\n",
    "    print(\"{}반 - {:5.2f}\".format(index + 1, average))"
   ]
  },
  {
   "cell_type": "code",
   "execution_count": null,
   "metadata": {},
   "outputs": [],
   "source": []
  }
 ],
 "metadata": {
  "kernelspec": {
   "display_name": "ML_lecture",
   "language": "python",
   "name": "ml_lecture"
  },
  "language_info": {
   "codemirror_mode": {
    "name": "ipython",
    "version": 3
   },
   "file_extension": ".py",
   "mimetype": "text/x-python",
   "name": "python",
   "nbconvert_exporter": "python",
   "pygments_lexer": "ipython3",
   "version": "3.8.19"
  }
 },
 "nbformat": 4,
 "nbformat_minor": 2
}
