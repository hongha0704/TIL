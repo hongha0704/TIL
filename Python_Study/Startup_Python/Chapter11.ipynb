{
 "cells": [
  {
   "cell_type": "markdown",
   "metadata": {},
   "source": [
    "# 집합 자료형\n",
    "---"
   ]
  },
  {
   "cell_type": "code",
   "execution_count": 22,
   "metadata": {},
   "outputs": [
    {
     "name": "stdout",
     "output_type": "stream",
     "text": [
      "Enter sentence : This land is my land, this land is your land.\n",
      "{'your', 'is', 'land', 'this', 'my'}\n"
     ]
    }
   ],
   "source": [
    "sentence = input(\"Enter sentence :\")\n",
    "print(\"Enter sentence :\", sentence)\n",
    "\n",
    "sentence_split = sentence.split()\n",
    "sentence_list = []\n",
    "for i in sentence_split:\n",
    "    if i.isalpha():\n",
    "        sentence_list.append(i.lower())\n",
    "    elif i[-1] == \".\":\n",
    "        sentence_list.append(i.split(\".\")[0].lower())\n",
    "    elif i[-1] == \",\":\n",
    "        sentence_list.append(i.split(\",\")[0].lower())\n",
    "\n",
    "print(set(sentence_list))\n"
   ]
  },
  {
   "cell_type": "code",
   "execution_count": 25,
   "metadata": {},
   "outputs": [
    {
     "name": "stdout",
     "output_type": "stream",
     "text": [
      "{8, 3, 4, 6}\n"
     ]
    }
   ],
   "source": [
    "voca = ['pen', 'computer', 'fan', 'cat', 'desk', 'tape', 'pool', 'friend']\n",
    "\n",
    "voca_len = {len(i) for i in voca}\n",
    "print(voca_len)"
   ]
  },
  {
   "cell_type": "code",
   "execution_count": 28,
   "metadata": {},
   "outputs": [
    {
     "name": "stdout",
     "output_type": "stream",
     "text": [
      "Enter sentence :  This land is my land this land is your land.\n",
      "your : 1\n",
      "is : 2\n",
      "land : 4\n",
      "this : 2\n",
      "my : 1\n"
     ]
    }
   ],
   "source": [
    "sentence = input(\"Enter sentence :\")\n",
    "print(\"Enter sentence :\", sentence)\n",
    "\n",
    "sentence_list = []\n",
    "sentence_split = sentence.split()\n",
    "\n",
    "for i in sentence_split:\n",
    "    if i.isalpha():\n",
    "        sentence_list.append(i.lower())\n",
    "    elif i[-1] == \".\":\n",
    "        sentence_list.append(i.split(\".\")[0].lower())\n",
    "\n",
    "sentence_set = set(sentence_list)\n",
    "\n",
    "for i in sentence_set:\n",
    "    count = 0\n",
    "    for j in sentence_list:\n",
    "        if i == j:\n",
    "            count += 1\n",
    "    print(\"{} : {}\".format(i, count))"
   ]
  },
  {
   "cell_type": "code",
   "execution_count": 31,
   "metadata": {},
   "outputs": [
    {
     "name": "stdout",
     "output_type": "stream",
     "text": [
      "92점 - 1명\n",
      "90점 - 4명\n",
      "88점 - 2명\n",
      "80점 - 3명\n",
      "75점 - 2명\n"
     ]
    }
   ],
   "source": [
    "score = [90, 80, 92, 88, 75, 88, 80, 80, 90, 90, 90, 75]\n",
    "score_set = sorted(set(score), reverse=True)\n",
    "\n",
    "for i in score_set:\n",
    "    count = 0\n",
    "    for j in score:\n",
    "        if i == j:\n",
    "            count += 1\n",
    "    print(\"{}점 - {}명\".format(i, count))"
   ]
  },
  {
   "cell_type": "code",
   "execution_count": null,
   "metadata": {},
   "outputs": [],
   "source": []
  }
 ],
 "metadata": {
  "kernelspec": {
   "display_name": "ML_lecture",
   "language": "python",
   "name": "ml_lecture"
  },
  "language_info": {
   "codemirror_mode": {
    "name": "ipython",
    "version": 3
   },
   "file_extension": ".py",
   "mimetype": "text/x-python",
   "name": "python",
   "nbconvert_exporter": "python",
   "pygments_lexer": "ipython3",
   "version": "3.8.19"
  }
 },
 "nbformat": 4,
 "nbformat_minor": 2
}
