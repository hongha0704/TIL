{
 "cells": [
  {
   "cell_type": "markdown",
   "metadata": {},
   "source": [
    "# 에러와 예외 처리\n",
    "---"
   ]
  },
  {
   "cell_type": "code",
   "execution_count": 4,
   "metadata": {},
   "outputs": [
    {
     "name": "stdout",
     "output_type": "stream",
     "text": [
      "s에서 삭제할 수는?  3\n",
      "{1, 6}\n",
      "s에서 3이 삭제되었습니다.\n"
     ]
    }
   ],
   "source": [
    "s = {1, 6, 3}\n",
    "n = int(input('s에서 삭제할 수는? '))\n",
    "print('s에서 삭제할 수는? ', n)\n",
    "\n",
    "try:\n",
    "    s.remove(n)\n",
    "except KeyError:\n",
    "    print(f'{n}는 없는 원소입니다.')\n",
    "else:\n",
    "    print(s)\n",
    "    print(f's에서 {n}이 삭제되었습니다.')"
   ]
  },
  {
   "cell_type": "code",
   "execution_count": 27,
   "metadata": {},
   "outputs": [
    {
     "name": "stdout",
     "output_type": "stream",
     "text": [
      "You should input positive integer.\n",
      "You should input positive integer.\n",
      "You should input positive integer.\n",
      "Enter n : 5\n",
      "factorial(5) = 120\n"
     ]
    }
   ],
   "source": [
    "while(True):\n",
    "    try:\n",
    "        n = int(input('Enter n :'))\n",
    "        print('Enter n :', n)\n",
    "    except ValueError:\n",
    "        print('You should input positive integer.')\n",
    "    else:\n",
    "        result = 1\n",
    "        for i in range(1, n+1):\n",
    "            result *= i\n",
    "        print('factorial({}) = {}'.format(n, result))\n",
    "        break"
   ]
  },
  {
   "cell_type": "code",
   "execution_count": null,
   "metadata": {},
   "outputs": [],
   "source": []
  }
 ],
 "metadata": {
  "kernelspec": {
   "display_name": "ML_lecture",
   "language": "python",
   "name": "python3"
  },
  "language_info": {
   "codemirror_mode": {
    "name": "ipython",
    "version": 3
   },
   "file_extension": ".py",
   "mimetype": "text/x-python",
   "name": "python",
   "nbconvert_exporter": "python",
   "pygments_lexer": "ipython3",
   "version": "3.8.19"
  }
 },
 "nbformat": 4,
 "nbformat_minor": 2
}
