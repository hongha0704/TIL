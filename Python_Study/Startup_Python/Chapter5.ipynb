{
 "cells": [
  {
   "cell_type": "markdown",
   "metadata": {},
   "source": [
    "# 표준 입출력문\n",
    "---"
   ]
  },
  {
   "cell_type": "code",
   "execution_count": 3,
   "metadata": {},
   "outputs": [
    {
     "name": "stdout",
     "output_type": "stream",
     "text": [
      "25000초는 6시간 56분 40초 입니다.\n"
     ]
    }
   ],
   "source": [
    "time = int(input('초를 입력하세요 :'))\n",
    "\n",
    "hour = time // 3600\n",
    "time_2 = time % 3600\n",
    "minute = time_2 // 60\n",
    "second = time_2 % 60\n",
    "\n",
    "print('{}초는 {}시간 {}분 {}초 입니다.'.format(time, hour, minute, second))"
   ]
  },
  {
   "cell_type": "code",
   "execution_count": 4,
   "metadata": {},
   "outputs": [
    {
     "name": "stdout",
     "output_type": "stream",
     "text": [
      "섭씨온도 12.5 는 화씨온도 54.5 와 같다\n"
     ]
    }
   ],
   "source": [
    "c = float(input('섭씨온도를 입력하세요:'))\n",
    "f = c*1.8 + 32\n",
    "\n",
    "print('섭씨온도', c, '는 화씨온도', f, '와 같다')"
   ]
  },
  {
   "cell_type": "code",
   "execution_count": 20,
   "metadata": {},
   "outputs": [
    {
     "name": "stdout",
     "output_type": "stream",
     "text": [
      "average length of worlds : 4.0\n",
      "28\n"
     ]
    }
   ],
   "source": [
    "text = input('Enter one sentence :')\n",
    "\n",
    "text_split = text.split()\n",
    "sum_length = 0\n",
    "\n",
    "for i in text_split:\n",
    "    sum_length += len(i)\n",
    "\n",
    "average_length = sum_length / len(text_split)\n",
    "\n",
    "print('average length of worlds :', average_length)"
   ]
  }
 ],
 "metadata": {
  "kernelspec": {
   "display_name": "ML_lecture",
   "language": "python",
   "name": "ml_lecture"
  },
  "language_info": {
   "codemirror_mode": {
    "name": "ipython",
    "version": 3
   },
   "file_extension": ".py",
   "mimetype": "text/x-python",
   "name": "python",
   "nbconvert_exporter": "python",
   "pygments_lexer": "ipython3",
   "version": "3.8.19"
  }
 },
 "nbformat": 4,
 "nbformat_minor": 2
}
