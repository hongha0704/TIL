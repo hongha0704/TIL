{
 "cells": [
  {
   "cell_type": "markdown",
   "id": "7a8f6f1c",
   "metadata": {},
   "source": [
    "# Evaluation"
   ]
  },
  {
   "cell_type": "code",
   "execution_count": 4,
   "id": "d5066356",
   "metadata": {},
   "outputs": [
    {
     "name": "stdout",
     "output_type": "stream",
     "text": [
      "0.7877094972067039\n"
     ]
    }
   ],
   "source": [
    "import numpy as np\n",
    "import pandas as pd\n",
    "from sklearn.preprocessing import LabelEncoder\n",
    "from sklearn.model_selection import train_test_split\n",
    "from sklearn.metrics import accuracy_score\n",
    "from sklearn.base import BaseEstimator\n",
    "\n",
    "def fillna(df):\n",
    "    df['Age'] = df['Age'].fillna(df['Age'].mean())\n",
    "    df['Cabin'] = df['Cabin'].fillna('N')\n",
    "    df['Embarked'] = df['Embarked'].fillna('N')\n",
    "    df['Fare'] = df['Fare'].fillna(0)\n",
    "    return df\n",
    "\n",
    "def drop_feature(df):\n",
    "    df.drop(['PassengerId', 'Name', 'Ticket'], axis=1, inplace=True)\n",
    "    return df\n",
    "\n",
    "def format_feature(df):\n",
    "    df['Cabin'] = df['Cabin'].str[:1]\n",
    "    features = ['Cabin', 'Sex', 'Embarked']\n",
    "    for feature in features:\n",
    "        encoder = LabelEncoder()\n",
    "        encoder.fit(df[feature])\n",
    "        df[feature] = encoder.transform(df[feature])\n",
    "    return df\n",
    "\n",
    "def transform_feature(df):\n",
    "    df = fillna(df)\n",
    "    df = drop_feature(df)\n",
    "    df = format_feature(df)\n",
    "    return df\n",
    "\n",
    "class MyDummyClassifier(BaseEstimator):\n",
    "    def fit(self, X, y=None):\n",
    "        pass\n",
    "\n",
    "    def predict(self, X):\n",
    "        y_hat = np.zeros((X.shape[0], 1))\n",
    "        for i in range(X.shape[0]):\n",
    "            if X['Sex'].iloc[i] == 1: y_hat[i] = 0\n",
    "            else: y_hat[i] = 1\n",
    "        return y_hat\n",
    "\n",
    "df = pd.read_csv('c:/Example/train.csv')\n",
    "df = transform_feature(df)\n",
    "y = df['Survived']\n",
    "X = df.drop('Survived', axis=1)\n",
    "X_train, X_test, y_train, y_test = train_test_split(X, y, test_size=0.2)\n",
    "\n",
    "mdc = MyDummyClassifier()\n",
    "mdc.fit(X_train, y_train)\n",
    "y_hat = mdc.predict(X_test)\n",
    "print(accuracy_score(y_test, y_hat))"
   ]
  },
  {
   "cell_type": "code",
   "execution_count": 5,
   "id": "c1cf56a3",
   "metadata": {},
   "outputs": [
    {
     "name": "stdout",
     "output_type": "stream",
     "text": [
      "(450,)\n",
      "0    404\n",
      "1     46\n",
      "Name: count, dtype: int64\n",
      "0.8977777777777778\n"
     ]
    }
   ],
   "source": [
    "from sklearn.datasets import load_digits\n",
    "\n",
    "class MyFakeClassifier(BaseEstimator):\n",
    "    def fit(self, X, y):\n",
    "        pass\n",
    "\n",
    "    def predict(self, X):\n",
    "        return np.zeros((X.shape[0], 1), dtype='int32')\n",
    "                \n",
    "digits = load_digits()\n",
    "y = (digits.target == 7).astype('int32')\n",
    "\n",
    "X_train, X_test, y_train, y_test = train_test_split(digits.data, y)\n",
    "print(y_test.shape)\n",
    "print(pd.Series(y_test).value_counts())\n",
    "\n",
    "mfc = MyFakeClassifier()\n",
    "mfc.fit(X_train, y_train)\n",
    "y_hat = mfc.predict(X_test)\n",
    "print(accuracy_score(y_test, y_hat))"
   ]
  },
  {
   "cell_type": "code",
   "execution_count": 7,
   "id": "44724873",
   "metadata": {},
   "outputs": [
    {
     "name": "stdout",
     "output_type": "stream",
     "text": [
      "[[404   0]\n",
      " [ 46   0]]\n"
     ]
    }
   ],
   "source": [
    "from sklearn.metrics import confusion_matrix\n",
    "\n",
    "print(confusion_matrix(y_test, y_hat))"
   ]
  },
  {
   "cell_type": "code",
   "execution_count": 15,
   "id": "dc6f9957",
   "metadata": {},
   "outputs": [
    {
     "name": "stdout",
     "output_type": "stream",
     "text": [
      "0.7932960893854749\n",
      "[[97 13]\n",
      " [24 45]]\n",
      "0.7758620689655172\n",
      "0.6521739130434783\n"
     ]
    }
   ],
   "source": [
    "from sklearn.metrics import precision_score, recall_score\n",
    "from sklearn.linear_model import LogisticRegression\n",
    "\n",
    "df = pd.read_csv('c:/Example/train.csv')\n",
    "df = transform_feature(df)\n",
    "y = df['Survived']\n",
    "X = df.drop('Survived', axis=1)\n",
    "X_train, X_test, y_train, y_test = train_test_split(X, y, test_size=0.2)\n",
    "lr = LogisticRegression(solver='liblinear')\n",
    "lr.fit(X_train, y_train)\n",
    "y_hat = lr.predict(X_test)\n",
    "\n",
    "print(accuracy_score(y_test, y_hat))\n",
    "print(confusion_matrix(y_test, y_hat))\n",
    "print(precision_score(y_test, y_hat))\n",
    "print(recall_score(y_test, y_hat))"
   ]
  },
  {
   "cell_type": "code",
   "execution_count": 16,
   "id": "03cc037b",
   "metadata": {},
   "outputs": [
    {
     "name": "stdout",
     "output_type": "stream",
     "text": [
      "[[0.7019296  0.2980704  0.        ]\n",
      " [0.66803816 0.33196184 0.        ]\n",
      " [0.91380689 0.08619311 0.        ]\n",
      " [0.49705693 0.50294307 1.        ]\n",
      " [0.89655355 0.10344645 0.        ]\n",
      " [0.11945727 0.88054273 1.        ]\n",
      " [0.89949136 0.10050864 0.        ]\n",
      " [0.93623295 0.06376705 0.        ]\n",
      " [0.28831987 0.71168013 1.        ]\n",
      " [0.88177431 0.11822569 0.        ]\n",
      " [0.35671328 0.64328672 1.        ]\n",
      " [0.78856111 0.21143889 0.        ]\n",
      " [0.64293016 0.35706984 0.        ]\n",
      " [0.84701047 0.15298953 0.        ]\n",
      " [0.7269239  0.2730761  0.        ]\n",
      " [0.86013074 0.13986926 0.        ]\n",
      " [0.86170273 0.13829727 0.        ]\n",
      " [0.2295673  0.7704327  1.        ]\n",
      " [0.86226699 0.13773301 0.        ]\n",
      " [0.86526004 0.13473996 0.        ]\n",
      " [0.81468036 0.18531964 0.        ]\n",
      " [0.88118627 0.11881373 0.        ]\n",
      " [0.77282629 0.22717371 0.        ]\n",
      " [0.28450102 0.71549898 1.        ]\n",
      " [0.19477097 0.80522903 1.        ]\n",
      " [0.89150026 0.10849974 0.        ]\n",
      " [0.29442743 0.70557257 1.        ]\n",
      " [0.8875512  0.1124488  0.        ]\n",
      " [0.87895239 0.12104761 0.        ]\n",
      " [0.92787347 0.07212653 0.        ]\n",
      " [0.21877867 0.78122133 1.        ]\n",
      " [0.17538018 0.82461982 1.        ]\n",
      " [0.64717952 0.35282048 0.        ]\n",
      " [0.30607168 0.69392832 1.        ]\n",
      " [0.07770418 0.92229582 1.        ]\n",
      " [0.31901454 0.68098546 1.        ]\n",
      " [0.33536621 0.66463379 1.        ]\n",
      " [0.8820477  0.1179523  0.        ]\n",
      " [0.78653187 0.21346813 0.        ]\n",
      " [0.88135794 0.11864206 0.        ]\n",
      " [0.68945898 0.31054102 0.        ]\n",
      " [0.85162968 0.14837032 0.        ]\n",
      " [0.69615462 0.30384538 0.        ]\n",
      " [0.86962007 0.13037993 0.        ]\n",
      " [0.40998785 0.59001215 1.        ]\n",
      " [0.88294428 0.11705572 0.        ]\n",
      " [0.46517406 0.53482594 1.        ]\n",
      " [0.43762225 0.56237775 1.        ]\n",
      " [0.67277978 0.32722022 0.        ]\n",
      " [0.84753955 0.15246045 0.        ]\n",
      " [0.86990038 0.13009962 0.        ]\n",
      " [0.85640631 0.14359369 0.        ]\n",
      " [0.3480545  0.6519455  1.        ]\n",
      " [0.19772167 0.80227833 1.        ]\n",
      " [0.30806045 0.69193955 1.        ]\n",
      " [0.86531902 0.13468098 0.        ]\n",
      " [0.10327318 0.89672682 1.        ]\n",
      " [0.85514532 0.14485468 0.        ]\n",
      " [0.86354046 0.13645954 0.        ]\n",
      " [0.75612692 0.24387308 0.        ]\n",
      " [0.88182705 0.11817295 0.        ]\n",
      " [0.88128071 0.11871929 0.        ]\n",
      " [0.70807529 0.29192471 0.        ]\n",
      " [0.25531014 0.74468986 1.        ]\n",
      " [0.71472218 0.28527782 0.        ]\n",
      " [0.31039182 0.68960818 1.        ]\n",
      " [0.89548166 0.10451834 0.        ]\n",
      " [0.88123923 0.11876077 0.        ]\n",
      " [0.10560923 0.89439077 1.        ]\n",
      " [0.71247997 0.28752003 0.        ]\n",
      " [0.84407914 0.15592086 0.        ]\n",
      " [0.88118627 0.11881373 0.        ]\n",
      " [0.18353521 0.81646479 1.        ]\n",
      " [0.79274637 0.20725363 0.        ]\n",
      " [0.90095441 0.09904559 0.        ]\n",
      " [0.93418658 0.06581342 0.        ]\n",
      " [0.87060717 0.12939283 0.        ]\n",
      " [0.79274637 0.20725363 0.        ]\n",
      " [0.85114528 0.14885472 0.        ]\n",
      " [0.54242363 0.45757637 0.        ]\n",
      " [0.79695632 0.20304368 0.        ]\n",
      " [0.77369862 0.22630138 0.        ]\n",
      " [0.85372713 0.14627287 0.        ]\n",
      " [0.87537912 0.12462088 0.        ]\n",
      " [0.35452395 0.64547605 1.        ]\n",
      " [0.66513078 0.33486922 0.        ]\n",
      " [0.25271816 0.74728184 1.        ]\n",
      " [0.34077005 0.65922995 1.        ]\n",
      " [0.8738038  0.1261962  0.        ]\n",
      " [0.81338028 0.18661972 0.        ]\n",
      " [0.87263136 0.12736864 0.        ]\n",
      " [0.86282642 0.13717358 0.        ]\n",
      " [0.90354026 0.09645974 0.        ]\n",
      " [0.91229689 0.08770311 0.        ]\n",
      " [0.43704164 0.56295836 1.        ]\n",
      " [0.30806339 0.69193661 1.        ]\n",
      " [0.08741036 0.91258964 1.        ]\n",
      " [0.50723224 0.49276776 0.        ]\n",
      " [0.86526004 0.13473996 0.        ]\n",
      " [0.63603586 0.36396414 0.        ]\n",
      " [0.06132274 0.93867726 1.        ]\n",
      " [0.91869357 0.08130643 0.        ]\n",
      " [0.66885241 0.33114759 0.        ]\n",
      " [0.84700869 0.15299131 0.        ]\n",
      " [0.8602672  0.1397328  0.        ]\n",
      " [0.8922699  0.1077301  0.        ]\n",
      " [0.89147645 0.10852355 0.        ]\n",
      " [0.35764273 0.64235727 1.        ]\n",
      " [0.27024281 0.72975719 1.        ]\n",
      " [0.89931145 0.10068855 0.        ]\n",
      " [0.2817537  0.7182463  1.        ]\n",
      " [0.84018185 0.15981815 0.        ]\n",
      " [0.85162968 0.14837032 0.        ]\n",
      " [0.62554725 0.37445275 0.        ]\n",
      " [0.88935497 0.11064503 0.        ]\n",
      " [0.60260213 0.39739787 0.        ]\n",
      " [0.32266378 0.67733622 1.        ]\n",
      " [0.4488185  0.5511815  1.        ]\n",
      " [0.86535726 0.13464274 0.        ]\n",
      " [0.81183938 0.18816062 0.        ]\n",
      " [0.81978916 0.18021084 0.        ]\n",
      " [0.34485521 0.65514479 1.        ]\n",
      " [0.873748   0.126252   0.        ]\n",
      " [0.25150385 0.74849615 1.        ]\n",
      " [0.82300418 0.17699582 0.        ]\n",
      " [0.88566086 0.11433914 0.        ]\n",
      " [0.93669862 0.06330138 0.        ]\n",
      " [0.17153546 0.82846454 1.        ]\n",
      " [0.87061641 0.12938359 0.        ]\n",
      " [0.84858284 0.15141716 0.        ]\n",
      " [0.10036608 0.89963392 1.        ]\n",
      " [0.91555916 0.08444084 0.        ]\n",
      " [0.80109691 0.19890309 0.        ]\n",
      " [0.89118244 0.10881756 0.        ]\n",
      " [0.32434846 0.67565154 1.        ]\n",
      " [0.88118627 0.11881373 0.        ]\n",
      " [0.90531986 0.09468014 0.        ]\n",
      " [0.73449874 0.26550126 0.        ]\n",
      " [0.30864325 0.69135675 1.        ]\n",
      " [0.31591996 0.68408004 1.        ]\n",
      " [0.23745608 0.76254392 1.        ]\n",
      " [0.13448504 0.86551496 1.        ]\n",
      " [0.60715789 0.39284211 0.        ]\n",
      " [0.69244359 0.30755641 0.        ]\n",
      " [0.55620282 0.44379718 0.        ]\n",
      " [0.86175904 0.13824096 0.        ]\n",
      " [0.24548286 0.75451714 1.        ]\n",
      " [0.65895081 0.34104919 0.        ]\n",
      " [0.81661745 0.18338255 0.        ]\n",
      " [0.08290303 0.91709697 1.        ]\n",
      " [0.62903622 0.37096378 0.        ]\n",
      " [0.24569565 0.75430435 1.        ]\n",
      " [0.4461605  0.5538395  1.        ]\n",
      " [0.67839116 0.32160884 0.        ]\n",
      " [0.20851929 0.79148071 1.        ]\n",
      " [0.8815231  0.1184769  0.        ]\n",
      " [0.6512059  0.3487941  0.        ]\n",
      " [0.78901807 0.21098193 0.        ]\n",
      " [0.85174367 0.14825633 0.        ]\n",
      " [0.56312411 0.43687589 0.        ]\n",
      " [0.28832436 0.71167564 1.        ]\n",
      " [0.45992428 0.54007572 1.        ]\n",
      " [0.87459588 0.12540412 0.        ]\n",
      " [0.88730258 0.11269742 0.        ]\n",
      " [0.07700241 0.92299759 1.        ]\n",
      " [0.88702475 0.11297525 0.        ]\n",
      " [0.0589176  0.9410824  1.        ]\n",
      " [0.462796   0.537204   1.        ]\n",
      " [0.85991218 0.14008782 0.        ]\n",
      " [0.73508497 0.26491503 0.        ]\n",
      " [0.77824065 0.22175935 0.        ]\n",
      " [0.82198976 0.17801024 0.        ]\n",
      " [0.86476193 0.13523807 0.        ]\n",
      " [0.59554835 0.40445165 0.        ]\n",
      " [0.88123923 0.11876077 0.        ]\n",
      " [0.91184086 0.08815914 0.        ]\n",
      " [0.85372713 0.14627287 0.        ]\n",
      " [0.29516874 0.70483126 1.        ]\n",
      " [0.08874349 0.91125651 1.        ]]\n"
     ]
    }
   ],
   "source": [
    "probs = lr.predict_proba(X_test)\n",
    "result = np.concatenate([probs, y_hat.reshape(-1, 1)], axis=1)\n",
    "print(result)"
   ]
  },
  {
   "cell_type": "code",
   "execution_count": 17,
   "id": "4142c40b",
   "metadata": {},
   "outputs": [
    {
     "name": "stdout",
     "output_type": "stream",
     "text": [
      "[[0. 0. 1.]\n",
      " [1. 0. 0.]\n",
      " [0. 0. 1.]]\n"
     ]
    }
   ],
   "source": [
    "from sklearn.preprocessing import Binarizer\n",
    "\n",
    "tmp = [[1, -1, 2],\n",
    "       [2, 0, 0],\n",
    "       [0, 1.1, 1.2]]\n",
    "binarizer = Binarizer(threshold=1.1)\n",
    "print(binarizer.fit_transform(tmp))"
   ]
  },
  {
   "cell_type": "code",
   "execution_count": 18,
   "id": "720e6ad9",
   "metadata": {},
   "outputs": [
    {
     "name": "stdout",
     "output_type": "stream",
     "text": [
      "0.7932960893854749\n",
      "[[97 13]\n",
      " [24 45]]\n",
      "0.7758620689655172\n",
      "0.6521739130434783\n"
     ]
    }
   ],
   "source": [
    "y_prob = probs[:, 1].reshape(-1, 1)\n",
    "\n",
    "y_hat = Binarizer(threshold=0.5).fit_transform(y_prob)\n",
    "print(accuracy_score(y_test, y_hat))\n",
    "print(confusion_matrix(y_test, y_hat))\n",
    "print(precision_score(y_test, y_hat))\n",
    "print(recall_score(y_test, y_hat))\n"
   ]
  },
  {
   "cell_type": "code",
   "execution_count": 21,
   "id": "e1b20476",
   "metadata": {},
   "outputs": [
    {
     "name": "stdout",
     "output_type": "stream",
     "text": [
      "0.776536312849162\n",
      "[[93 17]\n",
      " [23 46]]\n",
      "0.7301587301587301\n",
      "0.6666666666666666\n",
      "-----------------------------\n",
      "0.7821229050279329\n",
      "[[95 15]\n",
      " [24 45]]\n",
      "0.75\n",
      "0.6521739130434783\n",
      "-----------------------------\n",
      "0.7932960893854749\n",
      "[[97 13]\n",
      " [24 45]]\n",
      "0.7758620689655172\n",
      "0.6521739130434783\n",
      "-----------------------------\n",
      "0.7932960893854749\n",
      "[[99 11]\n",
      " [26 43]]\n",
      "0.7962962962962963\n",
      "0.6231884057971014\n",
      "-----------------------------\n",
      "0.7988826815642458\n",
      "[[102   8]\n",
      " [ 28  41]]\n",
      "0.8367346938775511\n",
      "0.5942028985507246\n",
      "-----------------------------\n"
     ]
    }
   ],
   "source": [
    "for th in [0.4, 0.45, 0.5, 0.55, 0.6]:\n",
    "    y_hat = Binarizer(threshold=th).fit_transform(y_prob)\n",
    "    print(accuracy_score(y_test, y_hat))\n",
    "    print(confusion_matrix(y_test, y_hat))\n",
    "    print(precision_score(y_test, y_hat))\n",
    "    print(recall_score(y_test, y_hat))\n",
    "    print('-----------------------------')"
   ]
  },
  {
   "cell_type": "code",
   "execution_count": 22,
   "id": "bffadf44",
   "metadata": {},
   "outputs": [
    {
     "name": "stdout",
     "output_type": "stream",
     "text": [
      "[  0  15  30  45  60  75  90 105 120 135 150 165]\n",
      "[0.06330138 0.10451834 0.11864206 0.13468098 0.14825633 0.18816062\n",
      " 0.28752003 0.36396414 0.5538395  0.68960818 0.75430435 0.89963392]\n",
      "[0.38547486 0.41463415 0.45637584 0.49618321 0.55652174 0.60606061\n",
      " 0.65060241 0.67647059 0.81132075 0.86842105 1.         1.        ]\n",
      "[1.         0.98550725 0.98550725 0.94202899 0.92753623 0.86956522\n",
      " 0.7826087  0.66666667 0.62318841 0.47826087 0.33333333 0.11594203]\n"
     ]
    }
   ],
   "source": [
    "from sklearn.metrics import precision_recall_curve\n",
    "\n",
    "precisions, recalls, ths = precision_recall_curve(y_test, y_prob)\n",
    "\n",
    "N = ths.shape[0]\n",
    "index = np.arange(0, N, 15)\n",
    "\n",
    "print(index)\n",
    "print(ths[index])\n",
    "print(precisions[index])\n",
    "print(recalls[index])"
   ]
  },
  {
   "cell_type": "code",
   "execution_count": 23,
   "id": "b42d629b",
   "metadata": {},
   "outputs": [
    {
     "data": {
      "image/png": "[encoded data removed]",
      "text/plain": [
       "<Figure size 640x480 with 1 Axes>"
      ]
     },
     "metadata": {},
     "output_type": "display_data"
    }
   ],
   "source": [
    "import matplotlib.pyplot as plt\n",
    "\n",
    "plt.plot(ths, precisions[:N], '--')\n",
    "plt.plot(ths, recalls[:N])\n",
    "plt.grid()"
   ]
  },
  {
   "cell_type": "code",
   "execution_count": 24,
   "id": "aa6f61e5",
   "metadata": {},
   "outputs": [
    {
     "name": "stdout",
     "output_type": "stream",
     "text": [
      "0.776536312849162\n",
      "[[93 17]\n",
      " [23 46]]\n",
      "0.7301587301587301\n",
      "0.6666666666666666\n",
      "0.696969696969697\n",
      "-----------------------------\n",
      "0.7821229050279329\n",
      "[[95 15]\n",
      " [24 45]]\n",
      "0.75\n",
      "0.6521739130434783\n",
      "0.6976744186046512\n",
      "-----------------------------\n",
      "0.7932960893854749\n",
      "[[97 13]\n",
      " [24 45]]\n",
      "0.7758620689655172\n",
      "0.6521739130434783\n",
      "0.7086614173228347\n",
      "-----------------------------\n",
      "0.7932960893854749\n",
      "[[99 11]\n",
      " [26 43]]\n",
      "0.7962962962962963\n",
      "0.6231884057971014\n",
      "0.6991869918699186\n",
      "-----------------------------\n",
      "0.7988826815642458\n",
      "[[102   8]\n",
      " [ 28  41]]\n",
      "0.8367346938775511\n",
      "0.5942028985507246\n",
      "0.6949152542372882\n",
      "-----------------------------\n"
     ]
    }
   ],
   "source": [
    "from sklearn.metrics import f1_score\n",
    "for th in [0.4, 0.45, 0.5, 0.55, 0.6]:\n",
    "    y_hat = Binarizer(threshold=th).fit_transform(y_prob)\n",
    "    print(accuracy_score(y_test, y_hat))\n",
    "    print(confusion_matrix(y_test, y_hat))\n",
    "    print(precision_score(y_test, y_hat))\n",
    "    print(recall_score(y_test, y_hat))\n",
    "    print(f1_score(y_test, y_hat))\n",
    "    print('-----------------------------')"
   ]
  },
  {
   "cell_type": "code",
   "execution_count": 25,
   "id": "557ed43d",
   "metadata": {},
   "outputs": [
    {
     "data": {
      "text/plain": [
       "[<matplotlib.lines.Line2D at 0x1701ea40e50>]"
      ]
     },
     "execution_count": 25,
     "metadata": {},
     "output_type": "execute_result"
    },
    {
     "data": {
      "image/png": "[encoded data removed]",
      "text/plain": [
       "<Figure size 640x480 with 1 Axes>"
      ]
     },
     "metadata": {},
     "output_type": "display_data"
    }
   ],
   "source": [
    "from sklearn.metrics import roc_curve\n",
    "\n",
    "fprs, tprs, ths = roc_curve(y_test, y_prob)\n",
    "plt.plot(fprs, tprs)\n",
    "plt.plot([0, 1], [0, 1], 'k--')"
   ]
  },
  {
   "cell_type": "code",
   "execution_count": 26,
   "id": "e710a749",
   "metadata": {},
   "outputs": [
    {
     "name": "stdout",
     "output_type": "stream",
     "text": [
      "0.7988826815642458\n",
      "[[102   8]\n",
      " [ 28  41]]\n",
      "0.8367346938775511\n",
      "0.5942028985507246\n",
      "0.6949152542372882\n",
      "0.8604084321475626\n"
     ]
    }
   ],
   "source": [
    "from sklearn.metrics import roc_auc_score\n",
    "\n",
    "print(accuracy_score(y_test, y_hat))\n",
    "print(confusion_matrix(y_test, y_hat))\n",
    "print(precision_score(y_test, y_hat))\n",
    "print(recall_score(y_test, y_hat))\n",
    "print(f1_score(y_test, y_hat))\n",
    "print(roc_auc_score(y_test, y_prob))"
   ]
  }
 ],
 "metadata": {
  "kernelspec": {
   "display_name": "ML_lecture",
   "language": "python",
   "name": "python3"
  },
  "language_info": {
   "codemirror_mode": {
    "name": "ipython",
    "version": 3
   },
   "file_extension": ".py",
   "mimetype": "text/x-python",
   "name": "python",
   "nbconvert_exporter": "python",
   "pygments_lexer": "ipython3",
   "version": "3.8.19"
  }
 },
 "nbformat": 4,
 "nbformat_minor": 5
}
