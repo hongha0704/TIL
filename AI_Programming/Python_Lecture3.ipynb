{
 "cells": [
  {
   "cell_type": "markdown",
   "metadata": {},
   "source": [
    "# Functions, Classes, and List\n",
    "---"
   ]
  },
  {
   "cell_type": "markdown",
   "metadata": {},
   "source": [
    "## List"
   ]
  },
  {
   "cell_type": "code",
   "execution_count": 1,
   "metadata": {},
   "outputs": [],
   "source": [
    "a = []\n",
    "b = [1, 2, 3, 4, 5]\n",
    "c = [3.14, 2.57, 1.09]\n",
    "d = ['Jaehoon', 'Yuri', 'Seongsoo']\n",
    "e = [10, 12.778, 'cool', 'koyote', 'bts', range(5)]\n",
    "f = [1, 2, ['twins', 'tigers', 'giants']]"
   ]
  },
  {
   "cell_type": "code",
   "execution_count": 3,
   "metadata": {},
   "outputs": [
    {
     "name": "stdout",
     "output_type": "stream",
     "text": [
      "5\n",
      "700\n",
      "200\n",
      "2100\n",
      "True\n"
     ]
    }
   ],
   "source": [
    "alist = [200, 700, 500, 300, 400]\n",
    "\n",
    "print(len(alist))\n",
    "print(max(alist))\n",
    "print(min(alist))\n",
    "print(sum(alist))\n",
    "print(any(alist))"
   ]
  },
  {
   "cell_type": "code",
   "execution_count": 4,
   "metadata": {},
   "outputs": [
    {
     "name": "stdout",
     "output_type": "stream",
     "text": [
      "[1, 2, 3]\n",
      "[0, 1, 2, 3, 4]\n"
     ]
    }
   ],
   "source": [
    "print(list((1, 2, 3)))\n",
    "print(list(range(0, 5)))"
   ]
  },
  {
   "cell_type": "code",
   "execution_count": 5,
   "metadata": {},
   "outputs": [
    {
     "name": "stdout",
     "output_type": "stream",
     "text": [
      "1\n",
      "6\n",
      "5\n",
      "[100, 2, 3, 4, 5]\n"
     ]
    }
   ],
   "source": [
    "a = [1, 2, 3, 4, 5]\n",
    "\n",
    "print(a[0])\n",
    "print(a[0] + a[4])\n",
    "print(a[-1])\n",
    "a[0] = 100\n",
    "print(a)"
   ]
  },
  {
   "cell_type": "code",
   "execution_count": 8,
   "metadata": {},
   "outputs": [
    {
     "name": "stdout",
     "output_type": "stream",
     "text": [
      "4\n",
      "1\n",
      "['a', 'b', 'c']\n",
      "a\n",
      "a\n",
      "a\n",
      "Cary\n",
      "Cary\n"
     ]
    }
   ],
   "source": [
    "alist = [1, 2, 3, ['a', 'b', 'c']]\n",
    "\n",
    "print(len(alist))\n",
    "print(alist[0])\n",
    "print(alist[3])\n",
    "\n",
    "print(alist[3][0])\n",
    "print(alist[-1][0])\n",
    "print(['a', 'b', 'c'][0])\n",
    "\n",
    "blist = [1, 2, ['a', 'b', ['Cary', 'Grant']]]\n",
    "\n",
    "print(blist[2][2][0])\n",
    "print(blist[-1][-1][-2])"
   ]
  },
  {
   "cell_type": "code",
   "execution_count": 11,
   "metadata": {},
   "outputs": [
    {
     "name": "stdout",
     "output_type": "stream",
     "text": [
      "['C', 'D', 'E']\n",
      "[1, 2]\n",
      "[1, 2, 3, 4, 5]\n",
      "12\n",
      "12345\n"
     ]
    }
   ],
   "source": [
    "letters = ['A', 'B', 'C', 'D', 'E', 'F']\n",
    "print(letters[2:5])\n",
    "\n",
    "a = [1, 2, 3, 4, 5]\n",
    "print(a[0:2])\n",
    "print(a)\n",
    "\n",
    "b = \"12345\"\n",
    "print(b[0:2])\n",
    "print(b)"
   ]
  },
  {
   "cell_type": "code",
   "execution_count": 12,
   "metadata": {},
   "outputs": [
    {
     "name": "stdout",
     "output_type": "stream",
     "text": [
      "[10, 20, 30]\n",
      "['C', 'a', 'r', 'y', ' ', 'G', 'r', 'a', 'n', 't']\n",
      "[0, 1, 2]\n"
     ]
    }
   ],
   "source": [
    "alist = list((10, 20, 30))\n",
    "print(alist)\n",
    "\n",
    "alist = list('Cary Grant')\n",
    "print(alist)\n",
    "\n",
    "alist = list(range(0, 3))\n",
    "print(alist)"
   ]
  },
  {
   "cell_type": "code",
   "execution_count": 13,
   "metadata": {},
   "outputs": [
    {
     "name": "stdout",
     "output_type": "stream",
     "text": [
      "[1, 2, 3, 4, 5, 100]\n",
      "[12.5, 1, 2, 3, 4, 5]\n"
     ]
    }
   ],
   "source": [
    "a = [1, 2, 3, 4, 5]\n",
    "a.insert(5, 100)\n",
    "print(a)\n",
    "\n",
    "a = [1, 2, 3, 4, 5]\n",
    "a.insert(0, 12.5)\n",
    "print(a)"
   ]
  },
  {
   "cell_type": "code",
   "execution_count": 15,
   "metadata": {},
   "outputs": [
    {
     "name": "stdout",
     "output_type": "stream",
     "text": [
      "['twins']\n",
      "['twins', 'bears', 'giants']\n"
     ]
    }
   ],
   "source": [
    "kbo = []\n",
    "kbo.append('twins')\n",
    "print(kbo)\n",
    "\n",
    "kbo.append('bears')\n",
    "\n",
    "kbo.append('giants')\n",
    "print(kbo)"
   ]
  },
  {
   "cell_type": "code",
   "execution_count": 16,
   "metadata": {},
   "outputs": [
    {
     "name": "stdout",
     "output_type": "stream",
     "text": [
      "['twins', 'bears', 'giants', 'eagles']\n"
     ]
    }
   ],
   "source": [
    "kbo = kbo + ['eagles']\n",
    "print(kbo)"
   ]
  },
  {
   "cell_type": "code",
   "execution_count": 18,
   "metadata": {},
   "outputs": [
    {
     "name": "stdout",
     "output_type": "stream",
     "text": [
      "['twins', 'bears', 'giants', 'eagles', 'twins', 'bears', 'giants', 'eagles']\n"
     ]
    }
   ],
   "source": [
    "a = kbo * 2\n",
    "print(a)"
   ]
  },
  {
   "cell_type": "code",
   "execution_count": 19,
   "metadata": {},
   "outputs": [
    {
     "name": "stdout",
     "output_type": "stream",
     "text": [
      "[10, 20, 20, 37, 30, 40, 37, 10, 37, 40]\n"
     ]
    }
   ],
   "source": [
    "b = [10, 20, 37, 20, 37, 30, 40, 37, 10, 37, 40]\n",
    "b.remove(37)\n",
    "print(b)"
   ]
  },
  {
   "cell_type": "code",
   "execution_count": 20,
   "metadata": {},
   "outputs": [
    {
     "name": "stdout",
     "output_type": "stream",
     "text": [
      "[10, 20, 20, 37, 30, 40, 37, 10, 37, 40]\n",
      "[10, 20, 20, 30, 40, 37, 10, 37, 40]\n",
      "[10, 20, 20, 30, 40, 10, 37, 40]\n",
      "[10, 20, 20, 30, 40, 10, 40]\n",
      "[10, 20, 20, 30, 40, 10, 40]\n",
      "[10, 20, 20, 30, 40, 10, 40]\n",
      "[10, 20, 20, 30, 40, 10, 40]\n"
     ]
    }
   ],
   "source": [
    "b = [10, 20, 37, 20, 37, 30, 40, 37, 10, 37, 40]\n",
    "for i in b:\n",
    "    if 37 in b:\n",
    "        b.remove(37)\n",
    "    print(b)"
   ]
  },
  {
   "cell_type": "code",
   "execution_count": 21,
   "metadata": {},
   "outputs": [
    {
     "name": "stdout",
     "output_type": "stream",
     "text": [
      "[200, 300, 100, 200, 300]\n"
     ]
    }
   ],
   "source": [
    "b = [100, 200, 300, 100, 200, 300]\n",
    "del b[0]\n",
    "print(b)"
   ]
  },
  {
   "cell_type": "code",
   "execution_count": 24,
   "metadata": {},
   "outputs": [
    {
     "name": "stdout",
     "output_type": "stream",
     "text": [
      "1758613733056\n",
      "1758613733056\n",
      "['Yurim', 20, 30, 40, 50]\n",
      "['Yurim', 20, 30, 40, 50]\n"
     ]
    }
   ],
   "source": [
    "alist = [10, 20, 30, 40, 50]\n",
    "blist = alist\n",
    "print(id(alist))\n",
    "print(id(blist))\n",
    "\n",
    "alist[0] = 'Yurim'\n",
    "print(alist)\n",
    "print(blist)"
   ]
  },
  {
   "cell_type": "code",
   "execution_count": 25,
   "metadata": {},
   "outputs": [
    {
     "name": "stdout",
     "output_type": "stream",
     "text": [
      "2\n",
      "0\n"
     ]
    }
   ],
   "source": [
    "b = ['Twins', 'Bears', 'Heros', 'Twins']\n",
    "print(b.count(\"Twins\"))\n",
    "print(b.count('Langers'))"
   ]
  },
  {
   "cell_type": "code",
   "execution_count": 26,
   "metadata": {},
   "outputs": [
    {
     "name": "stdout",
     "output_type": "stream",
     "text": [
      "0\n"
     ]
    }
   ],
   "source": [
    "b = ['Twins', 'Bears', 'Heros', 'Twins']\n",
    "print(b.index(\"Twins\"))"
   ]
  },
  {
   "cell_type": "code",
   "execution_count": 27,
   "metadata": {},
   "outputs": [
    {
     "name": "stdout",
     "output_type": "stream",
     "text": [
      "[4, 5, 2, 3, 1]\n"
     ]
    }
   ],
   "source": [
    "a = [1, 3, 2, 5, 4]\n",
    "a.reverse()\n",
    "print(a)"
   ]
  },
  {
   "cell_type": "code",
   "execution_count": 31,
   "metadata": {},
   "outputs": [
    {
     "name": "stdout",
     "output_type": "stream",
     "text": [
      "[1, 2, 3, 4, 5]\n",
      "['+', 'K', 'a', 'b', 'c', 'd', 'e']\n"
     ]
    }
   ],
   "source": [
    "a = [1, 3, 2, 5, 4]\n",
    "a.sort()\n",
    "print(a)\n",
    "\n",
    "blist = ['a', 'd', 'e', 'c', 'b', 'K', '+']\n",
    "blist.sort()\n",
    "print(blist)"
   ]
  },
  {
   "cell_type": "code",
   "execution_count": 32,
   "metadata": {},
   "outputs": [
    {
     "name": "stdout",
     "output_type": "stream",
     "text": [
      "[5, 4, 3, 2, 1]\n",
      "['e', 'd', 'c', 'b', 'a', 'K', '+']\n"
     ]
    }
   ],
   "source": [
    "a = [1, 3, 2, 5, 4]\n",
    "a.sort(reverse=True)\n",
    "print(a)\n",
    "\n",
    "blist = ['a', 'd', 'e', 'c', 'b', 'K', '+']\n",
    "blist.sort(reverse=True)\n",
    "print(blist)"
   ]
  },
  {
   "cell_type": "code",
   "execution_count": 33,
   "metadata": {},
   "outputs": [
    {
     "name": "stdout",
     "output_type": "stream",
     "text": [
      "[1, 4, 9, 16, 25]\n"
     ]
    }
   ],
   "source": [
    "s = [i**2 for i in [1, 2, 3, 4, 5]]\n",
    "print(s)"
   ]
  },
  {
   "cell_type": "code",
   "execution_count": 34,
   "metadata": {},
   "outputs": [
    {
     "name": "stdout",
     "output_type": "stream",
     "text": [
      "[0, 1, 2, 3, 4, 5, 6, 7, 8, 9, 10, 11, 12, 13, 14, 15, 16, 17, 18, 19, 20, 21, 22, 23, 24, 25, 26, 27, 28, 29, 30, 31, 32, 33, 34, 35, 36, 37, 38, 39, 40, 41, 42, 43, 44, 45, 46, 47, 48, 49, 50, 51, 52, 53, 54, 55, 56, 57, 58, 59, 60, 61, 62, 63, 64, 65, 66, 67, 68, 69, 70, 71, 72, 73, 74, 75, 76, 77, 78, 79, 80, 81, 82, 83, 84, 85, 86, 87, 88, 89, 90, 91, 92, 93, 94, 95, 96, 97, 98, 99]\n"
     ]
    }
   ],
   "source": [
    "blist = [i for i in range(100)]\n",
    "print(blist)"
   ]
  },
  {
   "cell_type": "code",
   "execution_count": 35,
   "metadata": {},
   "outputs": [
    {
     "name": "stdout",
     "output_type": "stream",
     "text": [
      "['C', 'A', 'R', 'Y', ' ', 'G', 'R', 'A', 'N', 'T']\n"
     ]
    }
   ],
   "source": [
    "s = 'Cary Grant'\n",
    "clist = [i.upper() for i in s]\n",
    "print(clist)"
   ]
  },
  {
   "cell_type": "code",
   "execution_count": 36,
   "metadata": {},
   "outputs": [
    {
     "name": "stdout",
     "output_type": "stream",
     "text": [
      "['W', 'T', 'T', 'P', 'W']\n"
     ]
    }
   ],
   "source": [
    "alist = ['welcome', 'to', 'the', 'python', 'world']\n",
    "blist = [x[0].upper() for x in alist]\n",
    "print(blist)"
   ]
  },
  {
   "cell_type": "code",
   "execution_count": 37,
   "metadata": {},
   "outputs": [
    {
     "name": "stdout",
     "output_type": "stream",
     "text": [
      "[0, 2, 4, 6, 8]\n"
     ]
    }
   ],
   "source": [
    "alist = [x for x in range(10) if x % 2 == 0]\n",
    "print(alist)"
   ]
  },
  {
   "cell_type": "code",
   "execution_count": 38,
   "metadata": {},
   "outputs": [
    {
     "name": "stdout",
     "output_type": "stream",
     "text": [
      "['12345', '070530']\n"
     ]
    }
   ],
   "source": [
    "blist = ['Cary', 'Grant', '12345', '323-7787', '070530', '123.456']\n",
    "numbers = [x for x in blist if x.isdigit()]\n",
    "print(numbers)"
   ]
  }
 ],
 "metadata": {
  "kernelspec": {
   "display_name": "ML_lecture",
   "language": "python",
   "name": "python3"
  },
  "language_info": {
   "codemirror_mode": {
    "name": "ipython",
    "version": 3
   },
   "file_extension": ".py",
   "mimetype": "text/x-python",
   "name": "python",
   "nbconvert_exporter": "python",
   "pygments_lexer": "ipython3",
   "version": "3.8.19"
  }
 },
 "nbformat": 4,
 "nbformat_minor": 2
}
