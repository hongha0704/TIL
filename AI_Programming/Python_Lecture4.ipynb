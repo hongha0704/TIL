{
 "cells": [
  {
   "cell_type": "markdown",
   "metadata": {},
   "source": [
    "# Tuple\n",
    "---"
   ]
  },
  {
   "cell_type": "code",
   "execution_count": 1,
   "metadata": {},
   "outputs": [
    {
     "name": "stdout",
     "output_type": "stream",
     "text": [
      "<class 'int'>\n",
      "1\n"
     ]
    }
   ],
   "source": [
    "t = (1)\n",
    "print(type(t))\n",
    "print(t)"
   ]
  },
  {
   "cell_type": "code",
   "execution_count": 2,
   "metadata": {},
   "outputs": [
    {
     "name": "stdout",
     "output_type": "stream",
     "text": [
      "<class 'tuple'>\n",
      "(1, 2, 3)\n"
     ]
    }
   ],
   "source": [
    "t = 1, 2, 3\n",
    "print(type(t))\n",
    "print(t)"
   ]
  },
  {
   "cell_type": "code",
   "execution_count": 3,
   "metadata": {},
   "outputs": [
    {
     "name": "stdout",
     "output_type": "stream",
     "text": [
      "2366113586368\n"
     ]
    }
   ],
   "source": [
    "t1 = (1,2,3,4,5)\n",
    "print(id(t1))"
   ]
  },
  {
   "cell_type": "code",
   "execution_count": 4,
   "metadata": {},
   "outputs": [
    {
     "name": "stdout",
     "output_type": "stream",
     "text": [
      "2366113770448\n"
     ]
    }
   ],
   "source": [
    "t1 = (6,7,8,9,10)\n",
    "print(id(t1))"
   ]
  },
  {
   "cell_type": "code",
   "execution_count": 5,
   "metadata": {},
   "outputs": [
    {
     "name": "stdout",
     "output_type": "stream",
     "text": [
      "a\n",
      "e\n",
      "e\n"
     ]
    }
   ],
   "source": [
    "t1 = ('a', 'b', 'c', 'd', 'e')\n",
    "print(t1[0])\n",
    "print(t1[4])\n",
    "print(t1[-1])"
   ]
  },
  {
   "cell_type": "code",
   "execution_count": 8,
   "metadata": {},
   "outputs": [
    {
     "name": "stdout",
     "output_type": "stream",
     "text": [
      "(1, 2, 'a', 'b', 100, 200)\n"
     ]
    }
   ],
   "source": [
    "t2 = (1, 2, 'a', 'b')\n",
    "t3 = (100, 200)\n",
    "print(t2 + t3)"
   ]
  },
  {
   "cell_type": "code",
   "execution_count": 12,
   "metadata": {},
   "outputs": [
    {
     "data": {
      "text/plain": [
       "('b', 'c', 'd', 'e')"
      ]
     },
     "execution_count": 12,
     "metadata": {},
     "output_type": "execute_result"
    }
   ],
   "source": [
    "t1[1:]"
   ]
  },
  {
   "cell_type": "code",
   "execution_count": 13,
   "metadata": {},
   "outputs": [
    {
     "data": {
      "text/plain": [
       "('a', 'b')"
      ]
     },
     "execution_count": 13,
     "metadata": {},
     "output_type": "execute_result"
    }
   ],
   "source": [
    "t1[:2]"
   ]
  },
  {
   "cell_type": "code",
   "execution_count": 14,
   "metadata": {},
   "outputs": [
    {
     "data": {
      "text/plain": [
       "('e', 'd', 'c', 'b', 'a')"
      ]
     },
     "execution_count": 14,
     "metadata": {},
     "output_type": "execute_result"
    }
   ],
   "source": [
    "t1[::-1]"
   ]
  },
  {
   "cell_type": "code",
   "execution_count": 15,
   "metadata": {},
   "outputs": [
    {
     "name": "stdout",
     "output_type": "stream",
     "text": [
      "5\n",
      "3\n"
     ]
    }
   ],
   "source": [
    "print(len(t1))\n",
    "print(len(t1[0:3]))"
   ]
  },
  {
   "cell_type": "code",
   "execution_count": 17,
   "metadata": {},
   "outputs": [
    {
     "name": "stdout",
     "output_type": "stream",
     "text": [
      "<class 'tuple'>\n",
      "<class 'float'> <class 'float'>\n",
      "(314.1592653589793, 62.83185307179586)\n",
      "314.1592653589793 62.83185307179586\n",
      "Area is 314.159 and circumference is 62.832\n",
      "Area is 314.159 and circumference is 62.832\n"
     ]
    }
   ],
   "source": [
    "import math\n",
    "\n",
    "def cal_circle(r):\n",
    "    area = math.pi * pow(r, 2)\n",
    "    circum = 2 * math.pi * 10\n",
    "    return area, circum\n",
    "\n",
    "radius = float(input(\"Input radius: \"))\n",
    "results = cal_circle(radius)    #a, c = cal_circle(radius), tuple로 반환\n",
    "a, c = cal_circle(radius)\n",
    "print(type(results))\n",
    "print(type(a), type(c))\n",
    "print(results)\n",
    "print(a, c)\n",
    "print('Area is {0:3.3f} and circumference is {1:3.3f}'.format(results[0], results[1]))\n",
    "print('Area is {0:3.3f} and circumference is {1:3.3f}'.format(a, c))\n"
   ]
  },
  {
   "cell_type": "markdown",
   "metadata": {},
   "source": [
    "# Dictionary\n",
    "---"
   ]
  },
  {
   "cell_type": "code",
   "execution_count": 1,
   "metadata": {},
   "outputs": [
    {
     "name": "stdout",
     "output_type": "stream",
     "text": [
      "<class 'dict'> <class 'dict'> <class 'dict'>\n"
     ]
    }
   ],
   "source": [
    "a = {}\n",
    "b = {'name': 'Cary Grant', 'age': 120, 'date of birth': '01181904'}\n",
    "c = {1: 'Kim', 2: 'Lee', 3: 'Park'}\n",
    "print(type(a), type(b), type(c))"
   ]
  },
  {
   "cell_type": "code",
   "execution_count": 2,
   "metadata": {},
   "outputs": [
    {
     "name": "stdout",
     "output_type": "stream",
     "text": [
      "0.308\n",
      "0.338\n",
      "0.313\n"
     ]
    }
   ],
   "source": [
    "dic1 = {'문보경': 0.308, '홍창기': 0.338, '오스틴': 0.313}\n",
    "\n",
    "print(dic1['문보경'])\n",
    "print(dic1['홍창기'])\n",
    "print(dic1['오스틴'])"
   ]
  },
  {
   "cell_type": "code",
   "execution_count": 20,
   "metadata": {},
   "outputs": [
    {
     "name": "stdout",
     "output_type": "stream",
     "text": [
      "{'문보경': 0.308, '홍창기': 0.338, '오스틴': 0.313, '문성주': 0.296}\n"
     ]
    }
   ],
   "source": [
    "dic1 = {'문보경': 0.308, '홍창기': 0.338, '오스틴': 0.313}\n",
    "dic1['문성주'] = 0.296\n",
    "print(dic1)"
   ]
  },
  {
   "cell_type": "code",
   "execution_count": 21,
   "metadata": {},
   "outputs": [
    {
     "name": "stdout",
     "output_type": "stream",
     "text": [
      "{'홍창기': 0.338, '오스틴': 0.313, '문성주': 0.296}\n"
     ]
    }
   ],
   "source": [
    "dic1 = {'문보경': 0.308, '홍창기': 0.338, '오스틴': 0.313, '문성주': 0.296}\n",
    "del dic1['문보경']\n",
    "print(dic1)"
   ]
  },
  {
   "cell_type": "code",
   "execution_count": 22,
   "metadata": {},
   "outputs": [
    {
     "name": "stdout",
     "output_type": "stream",
     "text": [
      "{}\n"
     ]
    }
   ],
   "source": [
    "dic1 = {'문보경': 0.308, '홍창기': 0.338, '오스틴': 0.313, '문성주': 0.296}\n",
    "dic1.clear()\n",
    "print(dic1)"
   ]
  },
  {
   "cell_type": "code",
   "execution_count": 24,
   "metadata": {},
   "outputs": [
    {
     "name": "stdout",
     "output_type": "stream",
     "text": [
      "<class 'dict_keys'>\n",
      "dict_keys(['name', 99, 'Hits', 'HR'])\n",
      "['name', 99, 'Hits', 'HR']\n"
     ]
    }
   ],
   "source": [
    "dic1 = {'name':'Aaron Judge', 99: 6, 'Hits': 166, 'HR': [52, 27, 39, 59]}\n",
    "print(type(dic1.keys()))\n",
    "print(dic1.keys())\n",
    "print(list(dic1.keys()))"
   ]
  },
  {
   "cell_type": "code",
   "execution_count": 25,
   "metadata": {},
   "outputs": [
    {
     "name": "stdout",
     "output_type": "stream",
     "text": [
      "<class 'dict_values'>\n",
      "dict_values(['Aaron Judge', 6, 166, [52, 27, 39, 59]])\n",
      "['Aaron Judge', 6, 166, [52, 27, 39, 59]]\n"
     ]
    }
   ],
   "source": [
    "dic1 = {'name':'Aaron Judge', 99: 6, 'Hits': 166, 'HR': [52, 27, 39, 59]}\n",
    "print(type(dic1.values()))\n",
    "print(dic1.values())\n",
    "print(list(dic1.values()))"
   ]
  },
  {
   "cell_type": "code",
   "execution_count": 3,
   "metadata": {},
   "outputs": [
    {
     "name": "stdout",
     "output_type": "stream",
     "text": [
      "<class 'dict_items'>\n",
      "dict_items([('문보경', 0.285), ('문성주', 0.339), ('박해민', 0.282), ('김현수', 0.303), ('홍창기', 0.318), ('오스틴', 0.299), ('박동원', 0.274)])\n",
      "[('문보경', 0.285), ('문성주', 0.339), ('박해민', 0.282), ('김현수', 0.303), ('홍창기', 0.318), ('오스틴', 0.299), ('박동원', 0.274)]\n"
     ]
    }
   ],
   "source": [
    "twins = {'문보경': 0.285, '문성주': 0.339, '박해민': 0.282, '김현수': 0.303,\n",
    "'홍창기': 0.318, '오스틴': 0.299, '박동원': 0.274}\n",
    "print(type(twins.items()))\n",
    "print(twins.items())\n",
    "print(list(twins.items()))"
   ]
  },
  {
   "cell_type": "code",
   "execution_count": 4,
   "metadata": {},
   "outputs": [
    {
     "name": "stdout",
     "output_type": "stream",
     "text": [
      "문보경 : 0.285\n",
      "문성주 : 0.339\n",
      "박해민 : 0.282\n",
      "김현수 : 0.303\n",
      "홍창기 : 0.318\n",
      "오스틴 : 0.299\n",
      "박동원 : 0.274\n"
     ]
    }
   ],
   "source": [
    "twins = {'문보경': 0.285, '문성주': 0.339, '박해민': 0.282, '김현수': 0.303,\n",
    "'홍창기': 0.318, '오스틴': 0.299, '박동원': 0.274}\n",
    "\n",
    "for k in twins.keys():\n",
    "    print(k, ':', twins[k])"
   ]
  },
  {
   "cell_type": "markdown",
   "metadata": {},
   "source": [
    "# Set\n",
    "---"
   ]
  },
  {
   "cell_type": "code",
   "execution_count": 5,
   "metadata": {},
   "outputs": [
    {
     "name": "stdout",
     "output_type": "stream",
     "text": [
      "<class 'dict'> <class 'set'> <class 'set'>\n"
     ]
    }
   ],
   "source": [
    "a = {}\n",
    "b = {3, 4, 1, 2}\n",
    "c = {'cool', 'koyote', 'finkl'}\n",
    "print(type(a), type(b), type(c))"
   ]
  },
  {
   "cell_type": "code",
   "execution_count": 6,
   "metadata": {},
   "outputs": [
    {
     "name": "stdout",
     "output_type": "stream",
     "text": [
      "{1, 2, 3, 4, 5}\n"
     ]
    }
   ],
   "source": [
    "d = {3, 4, 5, 5, 4, 3, 2, 1}\n",
    "print(d)"
   ]
  },
  {
   "cell_type": "code",
   "execution_count": 9,
   "metadata": {},
   "outputs": [
    {
     "name": "stdout",
     "output_type": "stream",
     "text": [
      "set() {1, 2, 3, 4, 5} {'l', 'e', 'h', 'o'}\n"
     ]
    }
   ],
   "source": [
    "a = set()\n",
    "b = set([3, 4, 5, 4, 3, 2, 1])\n",
    "c = set('hello')\n",
    "print(a, b, c)"
   ]
  },
  {
   "cell_type": "code",
   "execution_count": 10,
   "metadata": {},
   "outputs": [
    {
     "name": "stdout",
     "output_type": "stream",
     "text": [
      "1 is in set a.\n"
     ]
    }
   ],
   "source": [
    "a = {2, 3, 4, 1}\n",
    "if 1 in a:\n",
    "    print('1 is in set a.')"
   ]
  },
  {
   "cell_type": "code",
   "execution_count": 12,
   "metadata": {},
   "outputs": [
    {
     "name": "stdout",
     "output_type": "stream",
     "text": [
      "c\n",
      "b\n",
      "f\n",
      "d\n",
      "a\n"
     ]
    }
   ],
   "source": [
    "aset = {'a', 'f', 'c', 'd', 'b'}\n",
    "for i in aset:\n",
    "    print(i)"
   ]
  },
  {
   "cell_type": "code",
   "execution_count": 13,
   "metadata": {},
   "outputs": [
    {
     "data": {
      "text/plain": [
       "True"
      ]
     },
     "execution_count": 13,
     "metadata": {},
     "output_type": "execute_result"
    }
   ],
   "source": [
    "A = {1,2,3}\n",
    "B = {1,2,3}\n",
    "A == B"
   ]
  },
  {
   "cell_type": "code",
   "execution_count": 14,
   "metadata": {},
   "outputs": [
    {
     "name": "stdout",
     "output_type": "stream",
     "text": [
      "True\n",
      "False\n"
     ]
    }
   ],
   "source": [
    "C = {1,2,3}\n",
    "D = {1,2,3,2,1}\n",
    "print(C == D)\n",
    "print(C != D)"
   ]
  },
  {
   "cell_type": "code",
   "execution_count": 15,
   "metadata": {},
   "outputs": [
    {
     "name": "stdout",
     "output_type": "stream",
     "text": [
      "True\n",
      "False\n"
     ]
    }
   ],
   "source": [
    "E = {1,2,3}\n",
    "F = {1,2,3,4,5}\n",
    "\n",
    "print(E <= F)\n",
    "print(E > F)"
   ]
  },
  {
   "cell_type": "code",
   "execution_count": 16,
   "metadata": {},
   "outputs": [
    {
     "name": "stdout",
     "output_type": "stream",
     "text": [
      "{1, 2, 3, 4, 5}\n"
     ]
    },
    {
     "data": {
      "text/plain": [
       "{1, 2, 3, 4, 5}"
      ]
     },
     "execution_count": 16,
     "metadata": {},
     "output_type": "execute_result"
    }
   ],
   "source": [
    "A = {1,2,3}\n",
    "B = {3,4,5}\n",
    "\n",
    "print(A|B)\n",
    "A.union(B)"
   ]
  },
  {
   "cell_type": "code",
   "execution_count": 17,
   "metadata": {},
   "outputs": [
    {
     "name": "stdout",
     "output_type": "stream",
     "text": [
      "{3}\n"
     ]
    },
    {
     "data": {
      "text/plain": [
       "{3}"
      ]
     },
     "execution_count": 17,
     "metadata": {},
     "output_type": "execute_result"
    }
   ],
   "source": [
    "A = {1,2,3}\n",
    "B = {3,4,5}\n",
    "\n",
    "print(A&B)\n",
    "A.intersection(B)"
   ]
  },
  {
   "cell_type": "code",
   "execution_count": 18,
   "metadata": {},
   "outputs": [
    {
     "name": "stdout",
     "output_type": "stream",
     "text": [
      "{1, 2}\n"
     ]
    },
    {
     "data": {
      "text/plain": [
       "{1, 2}"
      ]
     },
     "execution_count": 18,
     "metadata": {},
     "output_type": "execute_result"
    }
   ],
   "source": [
    "A = {1,2,3}\n",
    "B = {3,4,5}\n",
    "\n",
    "print(A-B)\n",
    "A.difference(B)"
   ]
  },
  {
   "cell_type": "code",
   "execution_count": 19,
   "metadata": {},
   "outputs": [
    {
     "name": "stdout",
     "output_type": "stream",
     "text": [
      "{1, 2, 4, 5}\n"
     ]
    },
    {
     "data": {
      "text/plain": [
       "{1, 2, 4, 5}"
      ]
     },
     "execution_count": 19,
     "metadata": {},
     "output_type": "execute_result"
    }
   ],
   "source": [
    "A = {1,2,3}\n",
    "B = {3,4,5}\n",
    "\n",
    "print(A^B)\n",
    "A.symmetric_difference(B)"
   ]
  },
  {
   "cell_type": "markdown",
   "metadata": {},
   "source": [
    "# File Handling\n",
    "---"
   ]
  },
  {
   "cell_type": "code",
   "execution_count": 20,
   "metadata": {},
   "outputs": [],
   "source": [
    "f = open('new_file.txt', 'w')\n",
    "f.write('Cary Grant is an American actor.')\n",
    "f.close()"
   ]
  },
  {
   "cell_type": "code",
   "execution_count": 21,
   "metadata": {},
   "outputs": [],
   "source": [
    "f = open('new_file.txt', 'w')\n",
    "f.write('Cary Grant is an American actor.\\n')\n",
    "\n",
    "for i in range(1, 11):\n",
    "    f.write('{}\\n'.format(i))\n",
    "f.close()"
   ]
  },
  {
   "cell_type": "code",
   "execution_count": 22,
   "metadata": {},
   "outputs": [
    {
     "name": "stdout",
     "output_type": "stream",
     "text": [
      "Cary Grant is an American actor.\n",
      "1\n",
      "2\n",
      "3\n",
      "4\n",
      "5\n",
      "6\n",
      "7\n",
      "8\n",
      "9\n",
      "10\n",
      "\n"
     ]
    }
   ],
   "source": [
    "f = open('new_file.txt', 'r')\n",
    "data = f.read()\n",
    "print(data)\n",
    "f.close()"
   ]
  },
  {
   "cell_type": "markdown",
   "metadata": {},
   "source": [
    "# Text\n",
    "---\n",
    "- 텍스트 데이터\n",
    "    - 구조화된 텍스트 문서\n",
    "        - HTML, XML, JSON, CSV 파일\n",
    "    - 구조화 되지 않은 문서\n",
    "        - TXT 파일"
   ]
  },
  {
   "cell_type": "code",
   "execution_count": 53,
   "metadata": {},
   "outputs": [
    {
     "data": {
      "text/plain": [
       "['Cary', 'Grant']"
      ]
     },
     "execution_count": 53,
     "metadata": {},
     "output_type": "execute_result"
    }
   ],
   "source": [
    "s = 'Cary Grant'\n",
    "slist = s.split()\n",
    "slist"
   ]
  },
  {
   "cell_type": "code",
   "execution_count": 54,
   "metadata": {},
   "outputs": [
    {
     "data": {
      "text/plain": [
       "['2022', '9', '28']"
      ]
     },
     "execution_count": 54,
     "metadata": {},
     "output_type": "execute_result"
    }
   ],
   "source": [
    "s = '2022.9.28'\n",
    "slist = s.split('.')\n",
    "slist"
   ]
  },
  {
   "cell_type": "code",
   "execution_count": 56,
   "metadata": {},
   "outputs": [
    {
     "data": {
      "text/plain": [
       "'Cary Grant'"
      ]
     },
     "execution_count": 56,
     "metadata": {},
     "output_type": "execute_result"
    }
   ],
   "source": [
    "s = ' Cary Grant '\n",
    "s2 = s.strip()\n",
    "s2"
   ]
  },
  {
   "cell_type": "code",
   "execution_count": 58,
   "metadata": {},
   "outputs": [
    {
     "data": {
      "text/plain": [
       "'Cary#Grant'"
      ]
     },
     "execution_count": 58,
     "metadata": {},
     "output_type": "execute_result"
    }
   ],
   "source": [
    "s = '##########Cary#Grant#########'\n",
    "s.strip('#')"
   ]
  },
  {
   "cell_type": "code",
   "execution_count": 25,
   "metadata": {},
   "outputs": [
    {
     "data": {
      "text/plain": [
       "['Welcome', 'to', 'Python', 'and', 'bla', 'bla']"
      ]
     },
     "execution_count": 25,
     "metadata": {},
     "output_type": "execute_result"
    }
   ],
   "source": [
    "s = 'Welcome, to,       Python, and , bla, bla '\n",
    "ls = []\n",
    "for x in s.split(','):\n",
    "    ls.append(x.strip())\n",
    "ls"
   ]
  },
  {
   "cell_type": "code",
   "execution_count": 27,
   "metadata": {},
   "outputs": [
    {
     "data": {
      "text/plain": [
       "['Welcome', 'to', 'Python', 'and', 'bla', 'bla']"
      ]
     },
     "execution_count": 27,
     "metadata": {},
     "output_type": "execute_result"
    }
   ],
   "source": [
    "ls = [x.strip() for x in s.split(',')]\n",
    "ls"
   ]
  },
  {
   "cell_type": "code",
   "execution_count": 66,
   "metadata": {},
   "outputs": [
    {
     "data": {
      "text/plain": [
       "'Cary Grant '"
      ]
     },
     "execution_count": 66,
     "metadata": {},
     "output_type": "execute_result"
    }
   ],
   "source": [
    "s = ' Cary Grant '\n",
    "s.lstrip()"
   ]
  },
  {
   "cell_type": "code",
   "execution_count": 28,
   "metadata": {},
   "outputs": [
    {
     "data": {
      "text/plain": [
       "['C', 'a', 'r', 'y', ' ', 'G', 'r', 'a', 'n', 't']"
      ]
     },
     "execution_count": 28,
     "metadata": {},
     "output_type": "execute_result"
    }
   ],
   "source": [
    "list('Cary Grant')"
   ]
  },
  {
   "cell_type": "code",
   "execution_count": 29,
   "metadata": {},
   "outputs": [
    {
     "data": {
      "text/plain": [
       "['Cary', 'Grant']"
      ]
     },
     "execution_count": 29,
     "metadata": {},
     "output_type": "execute_result"
    }
   ],
   "source": [
    "'Cary Grant'.split()"
   ]
  },
  {
   "cell_type": "code",
   "execution_count": 67,
   "metadata": {},
   "outputs": [
    {
     "data": {
      "text/plain": [
       "'abc-def-ghi'"
      ]
     },
     "execution_count": 67,
     "metadata": {},
     "output_type": "execute_result"
    }
   ],
   "source": [
    "'-'.join(['abc', 'def', 'ghi'])"
   ]
  },
  {
   "cell_type": "code",
   "execution_count": 68,
   "metadata": {},
   "outputs": [
    {
     "data": {
      "text/plain": [
       "'a-b-c-d-e'"
      ]
     },
     "execution_count": 68,
     "metadata": {},
     "output_type": "execute_result"
    }
   ],
   "source": [
    "'-'.join('abcde')"
   ]
  },
  {
   "cell_type": "code",
   "execution_count": 31,
   "metadata": {},
   "outputs": [
    {
     "data": {
      "text/plain": [
       "'a b c d e'"
      ]
     },
     "execution_count": 31,
     "metadata": {},
     "output_type": "execute_result"
    }
   ],
   "source": [
    "' '.join('abcde')"
   ]
  },
  {
   "cell_type": "code",
   "execution_count": 32,
   "metadata": {},
   "outputs": [
    {
     "data": {
      "text/plain": [
       "'010-1234-5678'"
      ]
     },
     "execution_count": 32,
     "metadata": {},
     "output_type": "execute_result"
    }
   ],
   "source": [
    "'010.1234.5678'.replace('.', '-')"
   ]
  },
  {
   "cell_type": "code",
   "execution_count": 33,
   "metadata": {},
   "outputs": [
    {
     "name": "stdout",
     "output_type": "stream",
     "text": [
      "CARY GRANT\n",
      "cary grant\n",
      "Cary grant\n"
     ]
    }
   ],
   "source": [
    "s = 'Cary Grant'\n",
    "print(s.upper())\n",
    "print(s.lower())\n",
    "print(s.capitalize())"
   ]
  },
  {
   "cell_type": "code",
   "execution_count": 35,
   "metadata": {},
   "outputs": [
    {
     "name": "stdout",
     "output_type": "stream",
     "text": [
      "2\n",
      "11\n",
      "-1\n",
      "2\n",
      "11\n"
     ]
    }
   ],
   "source": [
    "s = 'Cary Grant is an American actor.'\n",
    "print(s.find('r'))\n",
    "print(s.find('is'))\n",
    "print(s.find('x'))\n",
    "\n",
    "print(s.index('r'))\n",
    "print(s.index('is'))"
   ]
  },
  {
   "cell_type": "code",
   "execution_count": 37,
   "metadata": {},
   "outputs": [
    {
     "name": "stdout",
     "output_type": "stream",
     "text": [
      "4\n",
      "3\n",
      " \n",
      "y\n"
     ]
    }
   ],
   "source": [
    "s = 'Cary Grant is an American actor.'\n",
    "print(s.count('r'))\n",
    "print(s.count('an'))\n",
    "print(min(s))\n",
    "print(max(s))"
   ]
  },
  {
   "cell_type": "code",
   "execution_count": 38,
   "metadata": {},
   "outputs": [
    {
     "name": "stdout",
     "output_type": "stream",
     "text": [
      "In the 1995 film \n",
      "\t The American President, Michael Douglas \t and Annette Bening starred.\n",
      "\n",
      "\n",
      "['In', 'the', '1995', 'film', 'The', 'American', 'President,', 'Michael', 'Douglas', 'and', 'Annette', 'Bening', 'starred.']\n",
      "\n",
      "\n",
      "In the 1995 film The American President, Michael Douglas and Annette Bening starred.\n"
     ]
    }
   ],
   "source": [
    "s1 = \"In the 1995 film \\n\\t The American President, Michael Douglas \\t and Annette Bening starred.\"\n",
    "print(s1)\n",
    "print('\\n')\n",
    "\n",
    "w1 = s1.split()\n",
    "print(w1)\n",
    "print('\\n')\n",
    "\n",
    "s2 = ' '.join(w1)\n",
    "print(s2)"
   ]
  }
 ],
 "metadata": {
  "kernelspec": {
   "display_name": "ML_lecture",
   "language": "python",
   "name": "python3"
  },
  "language_info": {
   "codemirror_mode": {
    "name": "ipython",
    "version": 3
   },
   "file_extension": ".py",
   "mimetype": "text/x-python",
   "name": "python",
   "nbconvert_exporter": "python",
   "pygments_lexer": "ipython3",
   "version": "3.8.19"
  }
 },
 "nbformat": 4,
 "nbformat_minor": 2
}
