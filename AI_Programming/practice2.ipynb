{
 "cells": [
  {
   "cell_type": "code",
   "execution_count": 1,
   "metadata": {},
   "outputs": [
    {
     "name": "stdout",
     "output_type": "stream",
     "text": [
      "condition:  True\n",
      "x is greater than 1.\n"
     ]
    }
   ],
   "source": [
    "x = 100\n",
    "if x > 1:\n",
    "    print('condition: ', x > 1)\n",
    "    print('x is greater than 1.')"
   ]
  },
  {
   "cell_type": "code",
   "execution_count": 2,
   "metadata": {},
   "outputs": [
    {
     "name": "stdout",
     "output_type": "stream",
     "text": [
      "This number is positive.\n",
      "3  is an odd number.\n"
     ]
    }
   ],
   "source": [
    "num = int(input(\"Enter an integer: \"))\n",
    "if num < 0:\n",
    "    print(\"This number is negative.\")\n",
    "else:\n",
    "    print(\"This number is positive.\")\n",
    "    if num % 2 == 0:\n",
    "        print(num, \" is an even number.\")\n",
    "    else:\n",
    "        print(num, \" is an odd number.\")"
   ]
  },
  {
   "cell_type": "code",
   "execution_count": 3,
   "metadata": {},
   "outputs": [
    {
     "name": "stdout",
     "output_type": "stream",
     "text": [
      "0\n",
      "1\n",
      "2\n",
      "3\n",
      "4\n"
     ]
    }
   ],
   "source": [
    "for i in range(5):\n",
    "    print(i)"
   ]
  },
  {
   "cell_type": "code",
   "execution_count": 5,
   "metadata": {},
   "outputs": [
    {
     "name": "stdout",
     "output_type": "stream",
     "text": [
      "0 hello\n",
      "1 hello\n",
      "2 hello\n",
      "3 hello\n",
      "4 hello\n"
     ]
    }
   ],
   "source": [
    "for i in [0, 1, 2, 3, 4]:\n",
    "    print(i, \"hello\")"
   ]
  },
  {
   "cell_type": "code",
   "execution_count": 6,
   "metadata": {},
   "outputs": [
    {
     "name": "stdout",
     "output_type": "stream",
     "text": [
      "0 good morning!\n",
      "0 good morning!\n",
      "0 good morning!\n",
      "0 good morning!\n",
      "0 good morning!\n"
     ]
    }
   ],
   "source": [
    "for i in (0, 0, 0, 0, 0):\n",
    "    print(i, \"good morning!\")"
   ]
  },
  {
   "cell_type": "code",
   "execution_count": 10,
   "metadata": {},
   "outputs": [
    {
     "name": "stdout",
     "output_type": "stream",
     "text": [
      "[0, 1, 2, 3, 4]\n"
     ]
    }
   ],
   "source": [
    "print(list(range(5)))"
   ]
  },
  {
   "cell_type": "code",
   "execution_count": 11,
   "metadata": {},
   "outputs": [
    {
     "name": "stdout",
     "output_type": "stream",
     "text": [
      "i =  H\n",
      "i =  e\n",
      "i =  l\n",
      "i =  l\n",
      "i =  o\n"
     ]
    }
   ],
   "source": [
    "for i in \"Hello\":\n",
    "    print('i = ', i)"
   ]
  },
  {
   "cell_type": "code",
   "execution_count": 13,
   "metadata": {},
   "outputs": [
    {
     "name": "stdout",
     "output_type": "stream",
     "text": [
      "Couple score: 최용훈 - 이유림: 81\n",
      "Couple score: 최용훈 - 황은정: 53\n",
      "Couple score: 최용훈 - 최태희: 96\n",
      "Couple score: 최용훈 - 안선영: 69\n",
      "Couple score: 윤현구 - 이유림: 71\n",
      "Couple score: 윤현구 - 황은정: 59\n",
      "Couple score: 윤현구 - 최태희: 63\n",
      "Couple score: 윤현구 - 안선영: 62\n",
      "Couple score: 조영진 - 이유림: 89\n",
      "Couple score: 조영진 - 황은정: 54\n",
      "Couple score: 조영진 - 최태희: 66\n",
      "Couple score: 조영진 - 안선영: 70\n",
      "Couple score: 한재준 - 이유림: 80\n",
      "Couple score: 한재준 - 황은정: 92\n",
      "Couple score: 한재준 - 최태희: 96\n",
      "Couple score: 한재준 - 안선영: 79\n"
     ]
    }
   ],
   "source": [
    "import random\n",
    "men = ['최용훈', '윤현구', '조영진', '한재준']\n",
    "women = ['이유림', '황은정', '최태희', '안선영']\n",
    "\n",
    "for man in men:\n",
    "    for woman in women:\n",
    "        print('Couple score: {} - {}: {}'.format(man, woman, random.randint(50, 100)))"
   ]
  },
  {
   "cell_type": "code",
   "execution_count": 17,
   "metadata": {},
   "outputs": [
    {
     "name": "stdout",
     "output_type": "stream",
     "text": [
      "[1, 4, 7]\n"
     ]
    }
   ],
   "source": [
    "print(list(range(1,10,3)))"
   ]
  },
  {
   "cell_type": "code",
   "execution_count": 23,
   "metadata": {},
   "outputs": [
    {
     "name": "stdout",
     "output_type": "stream",
     "text": [
      "1 + 2 + ... + 10 = 55\n"
     ]
    }
   ],
   "source": [
    "count = 1\n",
    "sum = 0\n",
    "while count <= 10:\n",
    "    sum = sum + count\n",
    "    count = count + 1   # count += 1\n",
    "print(\"1 + 2 + ... + 10 =\", sum)"
   ]
  },
  {
   "cell_type": "code",
   "execution_count": 24,
   "metadata": {},
   "outputs": [],
   "source": [
    "import turtle\n",
    "length = 10\n",
    "while length <= 200:\n",
    "    turtle.forward(length)\n",
    "    turtle.left(91)\n",
    "    length = length + 1\n",
    "turtle.done()\n"
   ]
  },
  {
   "cell_type": "code",
   "execution_count": 25,
   "metadata": {},
   "outputs": [
    {
     "name": "stdout",
     "output_type": "stream",
     "text": [
      "0\n",
      "1\n",
      "2\n",
      "3\n",
      "4\n"
     ]
    }
   ],
   "source": [
    "for i in range(10):\n",
    "    if i == 5:\n",
    "        break\n",
    "    print(i)"
   ]
  },
  {
   "cell_type": "code",
   "execution_count": 26,
   "metadata": {},
   "outputs": [
    {
     "name": "stdout",
     "output_type": "stream",
     "text": [
      "1\n",
      "3\n",
      "5\n",
      "7\n",
      "9\n"
     ]
    }
   ],
   "source": [
    "for i in range(10):\n",
    "    if i % 2 == 0:\n",
    "        continue\n",
    "    print(i)"
   ]
  },
  {
   "cell_type": "code",
   "execution_count": null,
   "metadata": {},
   "outputs": [],
   "source": []
  }
 ],
 "metadata": {
  "kernelspec": {
   "display_name": "Python 3",
   "language": "python",
   "name": "python3"
  },
  "language_info": {
   "codemirror_mode": {
    "name": "ipython",
    "version": 3
   },
   "file_extension": ".py",
   "mimetype": "text/x-python",
   "name": "python",
   "nbconvert_exporter": "python",
   "pygments_lexer": "ipython3",
   "version": "3.12.4"
  }
 },
 "nbformat": 4,
 "nbformat_minor": 2
}
