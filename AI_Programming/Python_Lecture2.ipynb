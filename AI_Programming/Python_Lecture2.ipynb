{
 "cells": [
  {
   "cell_type": "markdown",
   "metadata": {},
   "source": [
    "# Controls, Loops, Functions, and Classes\n",
    "---"
   ]
  },
  {
   "cell_type": "markdown",
   "metadata": {},
   "source": [
    "## Controls"
   ]
  },
  {
   "cell_type": "code",
   "execution_count": 2,
   "metadata": {},
   "outputs": [
    {
     "name": "stdout",
     "output_type": "stream",
     "text": [
      "condition:  True\n",
      "x is greater than 1.\n"
     ]
    }
   ],
   "source": [
    "x = 100\n",
    "if x > 1:\n",
    "    print('condition: ', x > 1)\n",
    "    print('x is greater than 1.')"
   ]
  },
  {
   "cell_type": "code",
   "execution_count": 3,
   "metadata": {},
   "outputs": [
    {
     "name": "stdout",
     "output_type": "stream",
     "text": [
      "1\n",
      "3\n",
      "6\n"
     ]
    }
   ],
   "source": [
    "if True:\n",
    "    print('1')\n",
    "if False:\n",
    "    print('2')\n",
    "if 0.0001:\n",
    "    print('3')\n",
    "if 0:\n",
    "    print('4')\n",
    "if '':\n",
    "    print('5')\n",
    "if 'Cary Grant':\n",
    "    print('6')"
   ]
  },
  {
   "cell_type": "code",
   "execution_count": 4,
   "metadata": {},
   "outputs": [
    {
     "name": "stdout",
     "output_type": "stream",
     "text": [
      "Positive\n"
     ]
    }
   ],
   "source": [
    "n = int(input(\"Input integer: \"))\n",
    "if n > 0:\n",
    "    print(\"Positive\")\n",
    "elif n == 0:\n",
    "    print(\"Zero\")\n",
    "else:\n",
    "    print(\"Negative\")"
   ]
  },
  {
   "cell_type": "code",
   "execution_count": 6,
   "metadata": {},
   "outputs": [
    {
     "name": "stdout",
     "output_type": "stream",
     "text": [
      "This number is positive.\n",
      "11  is an odd number.\n"
     ]
    }
   ],
   "source": [
    "num = int(input(\"Enter an integer: \"))\n",
    "if num < 0:\n",
    "    print(\"This number is negative.\")\n",
    "else:\n",
    "    print(\"This number is positive.\")\n",
    "    if num % 2 == 0:\n",
    "        print(num, \" is an even number.\")\n",
    "    else:\n",
    "        print(num, \" is an odd number.\")"
   ]
  },
  {
   "cell_type": "markdown",
   "metadata": {},
   "source": [
    "## Loops"
   ]
  },
  {
   "cell_type": "code",
   "execution_count": 7,
   "metadata": {},
   "outputs": [
    {
     "name": "stdout",
     "output_type": "stream",
     "text": [
      "0\n",
      "1\n",
      "2\n",
      "3\n",
      "4\n"
     ]
    }
   ],
   "source": [
    "for i in range(5):\n",
    "    print(i)"
   ]
  },
  {
   "cell_type": "code",
   "execution_count": 8,
   "metadata": {},
   "outputs": [
    {
     "name": "stdout",
     "output_type": "stream",
     "text": [
      "0 hello\n",
      "1 hello\n",
      "2 hello\n",
      "3 hello\n",
      "4 hello\n"
     ]
    }
   ],
   "source": [
    "for i in [0, 1, 2, 3, 4]:\n",
    "    print(i, \"hello\")"
   ]
  },
  {
   "cell_type": "code",
   "execution_count": 9,
   "metadata": {},
   "outputs": [
    {
     "name": "stdout",
     "output_type": "stream",
     "text": [
      "0 good morning!\n",
      "0 good morning!\n",
      "0 good morning!\n",
      "0 good morning!\n",
      "0 good morning!\n"
     ]
    }
   ],
   "source": [
    "for i in (0, 0, 0, 0, 0):\n",
    "    print(i, \"good morning!\")"
   ]
  },
  {
   "cell_type": "code",
   "execution_count": 10,
   "metadata": {},
   "outputs": [
    {
     "name": "stdout",
     "output_type": "stream",
     "text": [
      "i = H\n",
      "i = e\n",
      "i = l\n",
      "i = l\n",
      "i = o\n"
     ]
    }
   ],
   "source": [
    "for i in \"Hello\":\n",
    "    print('i =', i)"
   ]
  },
  {
   "cell_type": "code",
   "execution_count": 11,
   "metadata": {},
   "outputs": [
    {
     "name": "stdout",
     "output_type": "stream",
     "text": [
      "9 * 1 = 9\n",
      "9 * 2 = 18\n",
      "9 * 3 = 27\n",
      "9 * 4 = 36\n",
      "9 * 5 = 45\n"
     ]
    }
   ],
   "source": [
    "for i in [1, 2, 3, 4, 5]:\n",
    "    print('9 *', i, '=', 9 * i)"
   ]
  },
  {
   "cell_type": "code",
   "execution_count": 14,
   "metadata": {},
   "outputs": [
    {
     "name": "stdout",
     "output_type": "stream",
     "text": [
      "[0, 1, 2, 3, 4]\n"
     ]
    }
   ],
   "source": [
    "print(list(range(5)))"
   ]
  },
  {
   "cell_type": "code",
   "execution_count": 15,
   "metadata": {},
   "outputs": [
    {
     "name": "stdout",
     "output_type": "stream",
     "text": [
      "Couple score: 최용훈 - 이유림: 94\n",
      "Couple score: 최용훈 - 황은정: 93\n",
      "Couple score: 최용훈 - 최태희: 84\n",
      "Couple score: 최용훈 - 안선영: 67\n",
      "Couple score: 윤현구 - 이유림: 94\n",
      "Couple score: 윤현구 - 황은정: 93\n",
      "Couple score: 윤현구 - 최태희: 93\n",
      "Couple score: 윤현구 - 안선영: 100\n",
      "Couple score: 조영진 - 이유림: 99\n",
      "Couple score: 조영진 - 황은정: 77\n",
      "Couple score: 조영진 - 최태희: 94\n",
      "Couple score: 조영진 - 안선영: 85\n",
      "Couple score: 한재준 - 이유림: 55\n",
      "Couple score: 한재준 - 황은정: 65\n",
      "Couple score: 한재준 - 최태희: 55\n",
      "Couple score: 한재준 - 안선영: 97\n"
     ]
    }
   ],
   "source": [
    "import random\n",
    "men = ['최용훈', '윤현구', '조영진', '한재준']\n",
    "women = ['이유림', '황은정', '최태희', '안선영']\n",
    "\n",
    "for man in men:\n",
    "    for woman in women:\n",
    "        print('Couple score: {} - {}: {}'.format(man, woman, random.randint(50, 100)))"
   ]
  },
  {
   "cell_type": "code",
   "execution_count": 16,
   "metadata": {},
   "outputs": [
    {
     "name": "stdout",
     "output_type": "stream",
     "text": [
      "[1, 4, 7]\n"
     ]
    }
   ],
   "source": [
    "print(list(range(1,10,3)))"
   ]
  },
  {
   "cell_type": "code",
   "execution_count": 17,
   "metadata": {},
   "outputs": [
    {
     "name": "stdout",
     "output_type": "stream",
     "text": [
      "1 + 2 + ... + 10 = 55\n"
     ]
    }
   ],
   "source": [
    "count = 1\n",
    "sum = 0\n",
    "\n",
    "while count <= 10:\n",
    "    sum = sum + count\n",
    "    count = count + 1   # count += 1\n",
    "print(\"1 + 2 + ... + 10 =\", sum)"
   ]
  },
  {
   "cell_type": "code",
   "execution_count": 19,
   "metadata": {},
   "outputs": [],
   "source": [
    "import turtle\n",
    "\n",
    "length = 10\n",
    "while length <= 200:\n",
    "    turtle.forward(length)\n",
    "    turtle.left(91)\n",
    "    length = length + 1\n",
    "turtle.done()"
   ]
  },
  {
   "cell_type": "code",
   "execution_count": 21,
   "metadata": {},
   "outputs": [
    {
     "name": "stdout",
     "output_type": "stream",
     "text": [
      "0\n",
      "1\n",
      "2\n",
      "3\n",
      "4\n"
     ]
    }
   ],
   "source": [
    "for i in range(10):\n",
    "    if i == 5:\n",
    "        break\n",
    "    print(i)"
   ]
  },
  {
   "cell_type": "code",
   "execution_count": 22,
   "metadata": {},
   "outputs": [
    {
     "name": "stdout",
     "output_type": "stream",
     "text": [
      "1\n",
      "3\n",
      "5\n",
      "7\n",
      "9\n"
     ]
    }
   ],
   "source": [
    "for i in range(10):\n",
    "    if i % 2 == 0:\n",
    "        continue\n",
    "    print(i)"
   ]
  },
  {
   "cell_type": "markdown",
   "metadata": {},
   "source": [
    "# Functions"
   ]
  },
  {
   "cell_type": "code",
   "execution_count": 23,
   "metadata": {},
   "outputs": [
    {
     "name": "stdout",
     "output_type": "stream",
     "text": [
      "3\n"
     ]
    }
   ],
   "source": [
    "def sum(a, b):\n",
    "    c = a + b\n",
    "    return c\n",
    "\n",
    "print(sum(1, 2))"
   ]
  },
  {
   "cell_type": "code",
   "execution_count": 24,
   "metadata": {},
   "outputs": [
    {
     "name": "stdout",
     "output_type": "stream",
     "text": [
      "서울시 노원구 광운로 20, 광운대학교 누리관 403호\n",
      "Cary Grant 귀하\n"
     ]
    }
   ],
   "source": [
    "def print_addr():\n",
    "    print('서울시 노원구 광운로 20, 광운대학교 누리관 403호')\n",
    "    print('Cary Grant 귀하')\n",
    "\n",
    "print_addr()"
   ]
  },
  {
   "cell_type": "code",
   "execution_count": 25,
   "metadata": {},
   "outputs": [
    {
     "name": "stdout",
     "output_type": "stream",
     "text": [
      "78.5\n"
     ]
    }
   ],
   "source": [
    "def cal_area(radius):\n",
    "    area = 3.14 * radius**2\n",
    "    return area\n",
    "\n",
    "s = cal_area(5.0)\n",
    "print(s)"
   ]
  },
  {
   "cell_type": "code",
   "execution_count": 26,
   "metadata": {},
   "outputs": [
    {
     "name": "stdout",
     "output_type": "stream",
     "text": [
      "55 1275\n"
     ]
    }
   ],
   "source": [
    "def adder(start, end):\n",
    "    s = 0\n",
    "    for i in range(start, end + 1):\n",
    "        s = s + i\n",
    "    return s\n",
    "\n",
    "x = adder(1, 10)\n",
    "y = adder(1, 50)\n",
    "print(x, y)"
   ]
  },
  {
   "cell_type": "code",
   "execution_count": 29,
   "metadata": {},
   "outputs": [
    {
     "name": "stdout",
     "output_type": "stream",
     "text": [
      "args : (1, 2, 3), args type : <class 'tuple'>\n",
      "args : (1, 2, 3, 4, 5, 6, 7, 8, 9, 10), args type : <class 'tuple'>\n",
      "6 55\n"
     ]
    }
   ],
   "source": [
    "def add_all(*args):\n",
    "    print(f'args : {args}, args type : {type(args)}')\n",
    "    sum = 0\n",
    "    for i in args:\n",
    "        sum = sum + i\n",
    "    return sum\n",
    "\n",
    "c = add_all(1, 2, 3)\n",
    "d = add_all(1, 2, 3, 4, 5, 6, 7, 8, 9, 10)\n",
    "print(c, d)"
   ]
  },
  {
   "cell_type": "code",
   "execution_count": 30,
   "metadata": {},
   "outputs": [
    {
     "name": "stdout",
     "output_type": "stream",
     "text": [
      "(50, -10, 600, 0.6666666666666666)\n",
      "<class 'tuple'>\n"
     ]
    }
   ],
   "source": [
    "def arith(x, y):\n",
    "    a = x + y\n",
    "    b = x - y\n",
    "    c = x * y\n",
    "    d = x / y\n",
    "    #return (a, b, c, d)\n",
    "    return a, b, c, d\n",
    "\n",
    "result = arith(20, 30)\n",
    "print(result)\n",
    "print(type(result))"
   ]
  },
  {
   "cell_type": "code",
   "execution_count": 32,
   "metadata": {},
   "outputs": [
    {
     "name": "stdout",
     "output_type": "stream",
     "text": [
      "50 -10 600 0.6666666666666666\n",
      "<class 'int'> <class 'int'> <class 'int'> <class 'float'>\n"
     ]
    }
   ],
   "source": [
    "def arith(x, y):\n",
    "    a = x + y\n",
    "    b = x - y\n",
    "    c = x * y\n",
    "    d = x / y\n",
    "    return a, b, c, d\n",
    "\n",
    "r1, r2, r3, r4 = arith(20, 30) #result = arith(20, 30)\n",
    "print(r1, r2, r3, r4)\n",
    "print(type(r1), type(r2), type(r3), type(r4))"
   ]
  },
  {
   "cell_type": "code",
   "execution_count": 33,
   "metadata": {},
   "outputs": [
    {
     "name": "stdout",
     "output_type": "stream",
     "text": [
      "outside: 140706807688096\n",
      "inside: 140706807688416\n",
      "1\n",
      "outside: 140706807688096\n"
     ]
    }
   ],
   "source": [
    "a = 1\n",
    "print('outside:', id(a))\n",
    "def func(a):\n",
    "    a = a + 10\n",
    "    print('inside:', id(a))\n",
    "\n",
    "func(a)\n",
    "print(a)\n",
    "print('outside:', id(a))"
   ]
  },
  {
   "cell_type": "code",
   "execution_count": 36,
   "metadata": {},
   "outputs": [
    {
     "name": "stdout",
     "output_type": "stream",
     "text": [
      "Number of patties: 1, pickle: False, onion: True\n"
     ]
    }
   ],
   "source": [
    "def order(num, pickle, onion):\n",
    "    print('Number of patties: {}, pickle: {}, onion: {}'.format(num, pickle, onion))\n",
    "order(1, False, True)\n",
    "# order(1)"
   ]
  },
  {
   "cell_type": "code",
   "execution_count": 37,
   "metadata": {},
   "outputs": [
    {
     "name": "stdout",
     "output_type": "stream",
     "text": [
      "Number of patties: 1, pickle: True, onion: False\n"
     ]
    }
   ],
   "source": [
    "def order(num, pickle = True, onion = False):\n",
    "    print('Number of patties: {}, pickle: {}, onion: {}'.format(num, pickle, onion))\n",
    "\n",
    "order(1)"
   ]
  },
  {
   "cell_type": "code",
   "execution_count": 38,
   "metadata": {},
   "outputs": [
    {
     "name": "stdout",
     "output_type": "stream",
     "text": [
      "1024 1024 1024\n"
     ]
    }
   ],
   "source": [
    "def power(base, exponent):\n",
    "    return base ** exponent\n",
    "\n",
    "a = power(2, 10)\n",
    "b = power(exponent = 10, base = 2)\n",
    "c = power(base = 2, exponent= 10)\n",
    "print(a, b, c)"
   ]
  },
  {
   "cell_type": "code",
   "execution_count": 39,
   "metadata": {},
   "outputs": [
    {
     "data": {
      "text/plain": [
       "[<matplotlib.lines.Line2D at 0x1c9ec5364f0>]"
      ]
     },
     "execution_count": 39,
     "metadata": {},
     "output_type": "execute_result"
    },
    {
     "data": {
      "image/png": "[encoded data removed]",
      "text/plain": [
       "<Figure size 640x480 with 1 Axes>"
      ]
     },
     "metadata": {},
     "output_type": "display_data"
    }
   ],
   "source": [
    "import matplotlib.pyplot as plt\n",
    "\n",
    "plt.plot(x, y, color ='green', marker = 'o', linestyle = 'solid')"
   ]
  },
  {
   "cell_type": "code",
   "execution_count": 40,
   "metadata": {},
   "outputs": [
    {
     "name": "stdout",
     "output_type": "stream",
     "text": [
      "11\n"
     ]
    }
   ],
   "source": [
    "add = lambda a, b : a+b\n",
    "result = add(5, 6)\n",
    "print(result)"
   ]
  },
  {
   "cell_type": "code",
   "execution_count": 41,
   "metadata": {},
   "outputs": [
    {
     "name": "stdout",
     "output_type": "stream",
     "text": [
      "100 + 200 = 300\n"
     ]
    }
   ],
   "source": [
    "print(\"100 + 200 =\", (lambda x, y: x+y)(100, 200))"
   ]
  },
  {
   "cell_type": "code",
   "execution_count": 46,
   "metadata": {},
   "outputs": [
    {
     "name": "stdout",
     "output_type": "stream",
     "text": [
      "7\n",
      "7\n",
      "7\n",
      "<class 'function'>\n"
     ]
    }
   ],
   "source": [
    "add = lambda a, b: a + b\n",
    "print(add(3, 4))\n",
    "\n",
    "print((lambda c, d: c + d)(3, 4))\n",
    "\n",
    "def add2(e, f):\n",
    "    return e + f\n",
    "\n",
    "print(add2(3, 4))\n",
    "\n",
    "print(type(add))"
   ]
  },
  {
   "cell_type": "markdown",
   "metadata": {},
   "source": [
    "## Modules"
   ]
  },
  {
   "cell_type": "code",
   "execution_count": 53,
   "metadata": {},
   "outputs": [
    {
     "name": "stdout",
     "output_type": "stream",
     "text": [
      "Hello~~~~~~~~~.\n"
     ]
    }
   ],
   "source": [
    "import my_spiral\n",
    "\n",
    "my_spiral.draw_spiral(15)\n",
    "my_spiral.hello()"
   ]
  },
  {
   "cell_type": "code",
   "execution_count": 54,
   "metadata": {},
   "outputs": [
    {
     "name": "stdout",
     "output_type": "stream",
     "text": [
      "3.141592653589793\n",
      "10.0\n",
      "2.78\n",
      "This is my own function. -10\n"
     ]
    }
   ],
   "source": [
    "from math import *\n",
    "\n",
    "print(pi)\n",
    "print(fabs(-10))\n",
    "\n",
    "def fabs(a):\n",
    "    print('This is my own function.', a)\n",
    "\n",
    "pi = 2.78\n",
    "\n",
    "print(pi)\n",
    "fabs(-10)"
   ]
  },
  {
   "cell_type": "markdown",
   "metadata": {},
   "source": [
    "## Classes"
   ]
  },
  {
   "cell_type": "code",
   "execution_count": 55,
   "metadata": {},
   "outputs": [
    {
     "name": "stdout",
     "output_type": "stream",
     "text": [
      "Hello~~~~~~~~~~.\n",
      "Austin Dean 0.311 17\n",
      "Changgi Hong 0.321 3\n",
      "Dongwon Park 0.277 14\n"
     ]
    }
   ],
   "source": [
    "class Player:\n",
    "    def __init__(self, name, avg, hr):\n",
    "        self.name = name\n",
    "        self.avg = avg\n",
    "        self.hr = hr\n",
    "\n",
    "    def hello(self):\n",
    "        print(\"Hello~~~~~~~~~~.\")\n",
    "\n",
    "    def print_info(self):\n",
    "        print(f\"Name: {self.name}, Average: {self.avg}, Home Runs: {self.hr}\")\n",
    "\n",
    "p1 = Player('Austin Dean', 0.311, 17)\n",
    "p2 = Player('Changgi Hong', 0.321, 3)\n",
    "p3 = Player('Dongwon Park', 0.277, 14)\n",
    "\n",
    "p1.hello()\n",
    "print(p1.name, p1.avg, p1.hr)\n",
    "print(p2.name, p2.avg, p2.hr)\n",
    "print(p3.name, p3.avg, p3.hr)"
   ]
  },
  {
   "cell_type": "code",
   "execution_count": 57,
   "metadata": {},
   "outputs": [
    {
     "name": "stdout",
     "output_type": "stream",
     "text": [
      "Austin Dean 0.311 17\n",
      "Changgi Hong 0.321 4\n",
      "Tuna Park 0.277 14\n"
     ]
    }
   ],
   "source": [
    "class Player:\n",
    "    def __init__(self, name, avg, hr):\n",
    "        self.name = name\n",
    "        self.avg = avg\n",
    "        self.hr = hr\n",
    "\n",
    "    def update_name(self, new_name):\n",
    "        self.name = new_name\n",
    "\n",
    "    def update_avg(self, new_avg):\n",
    "        self.avg = new_avg\n",
    "        \n",
    "    def update_hr(self, new_hr):\n",
    "        self.hr = new_hr\n",
    "\n",
    "p1 = Player('Austin Dean', 0.311, 17)\n",
    "p2 = Player('Changgi Hong', 0.321, 3)\n",
    "p3 = Player('Dongwon Park', 0.277, 14)\n",
    "\n",
    "p3.update_name('Tuna Park')\n",
    "p2.update_hr(4)\n",
    "\n",
    "print(p1.name, p1.avg, p1.hr)\n",
    "print(p2.name, p2.avg, p2.hr)\n",
    "print(p3.name, p3.avg, p3.hr)"
   ]
  },
  {
   "cell_type": "code",
   "execution_count": 58,
   "metadata": {},
   "outputs": [
    {
     "name": "stdout",
     "output_type": "stream",
     "text": [
      "Austin Dean 0.311 17\n",
      "Changgi Hong 0.321 4\n",
      "Tuna Park 0.277 14\n"
     ]
    }
   ],
   "source": [
    "from player import Player\n",
    "\n",
    "p1 = Player('Austin Dean', 0.311, 17)\n",
    "p2 = Player('Changgi Hong', 0.321, 3)\n",
    "p3 = Player('Dongwon Park', 0.277, 14)\n",
    "\n",
    "p3.update_name('Tuna Park')\n",
    "p2.update_hr(4)\n",
    "\n",
    "print(p1.name, p1.avg, p1.hr)\n",
    "print(p2.name, p2.avg, p2.hr)\n",
    "print(p3.name, p3.avg, p3.hr)"
   ]
  }
 ],
 "metadata": {
  "kernelspec": {
   "display_name": "ML_lecture",
   "language": "python",
   "name": "python3"
  },
  "language_info": {
   "codemirror_mode": {
    "name": "ipython",
    "version": 3
   },
   "file_extension": ".py",
   "mimetype": "text/x-python",
   "name": "python",
   "nbconvert_exporter": "python",
   "pygments_lexer": "ipython3",
   "version": "3.8.19"
  }
 },
 "nbformat": 4,
 "nbformat_minor": 2
}
