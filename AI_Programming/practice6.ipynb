{
 "cells": [
  {
   "cell_type": "markdown",
   "metadata": {},
   "source": [
    "# Pandas\n",
    "---"
   ]
  },
  {
   "cell_type": "code",
   "execution_count": 2,
   "metadata": {},
   "outputs": [
    {
     "name": "stdout",
     "output_type": "stream",
     "text": [
      "0    1.0\n",
      "1    3.0\n",
      "2    4.0\n",
      "3    NaN\n",
      "4    6.0\n",
      "5    8.0\n",
      "dtype: float64\n",
      "0    1\n",
      "1    2\n",
      "2    3\n",
      "3    4\n",
      "4    5\n",
      "5    6\n",
      "dtype: int64\n"
     ]
    }
   ],
   "source": [
    "import numpy as np\n",
    "import pandas as pd\n",
    "\n",
    "sr1 = pd.Series([1, 3, 4, np.nan, 6, 8])\n",
    "sr2 = pd.Series([1, 2, 3, 4, 5, 6])\n",
    "print(sr1)\n",
    "print(sr2)"
   ]
  },
  {
   "cell_type": "code",
   "execution_count": 3,
   "metadata": {},
   "outputs": [
    {
     "name": "stdout",
     "output_type": "stream",
     "text": [
      "0        Cary Grant\n",
      "1    George Clooney\n",
      "2        Tom Cruise\n",
      "3      Cameron Diaz\n",
      "4        Liz Taylor\n",
      "dtype: object\n",
      "0    127\n",
      "1     61\n",
      "2     60\n",
      "3     50\n",
      "4     90\n",
      "dtype: int64\n",
      "0    M\n",
      "1    M\n",
      "2    M\n",
      "3    F\n",
      "4    F\n",
      "dtype: object\n",
      "0    9.7\n",
      "1    9.3\n",
      "2    8.8\n",
      "3    8.5\n",
      "4    9.6\n",
      "dtype: float64\n"
     ]
    }
   ],
   "source": [
    "name_series = pd.Series(['Cary Grant', 'George Clooney',\n",
    "'Tom Cruise', 'Cameron Diaz', 'Liz Taylor'])\n",
    "age_series = pd.Series([127, 61, 60, 50, 90])\n",
    "gender_series = pd.Series(['M', 'M', 'M', 'F' ,'F'])\n",
    "score_series = pd.Series([9.7, 9.3, 8.8, 8.5, 9.6])\n",
    "\n",
    "print(name_series)\n",
    "print(age_series)\n",
    "print(gender_series)\n",
    "print(score_series)"
   ]
  },
  {
   "cell_type": "code",
   "execution_count": 4,
   "metadata": {},
   "outputs": [
    {
     "name": "stdout",
     "output_type": "stream",
     "text": [
      "             name  age gender  score\n",
      "0      Cary Grant  127      M    9.7\n",
      "1  George Clooney   61      M    9.3\n",
      "2      Tom Cruise   60      M    8.8\n",
      "3    Cameron Diaz   50      F    8.5\n",
      "4      Liz Taylor   90      F    9.6\n"
     ]
    }
   ],
   "source": [
    "name_series = pd.Series(['Cary Grant', 'George Clooney', 'Tom Cruise',\n",
    "                         'Cameron Diaz', 'Liz Taylor'])\n",
    "age_series = pd.Series([127, 61, 60, 50, 90])\n",
    "gender_series = pd.Series(['M', 'M', 'M', 'F' ,'F'])\n",
    "score_series = pd.Series([9.7, 9.3, 8.8, 8.5, 9.6])\n",
    "\n",
    "df = pd.DataFrame({'name': name_series, 'age': age_series, 'gender': gender_series,\n",
    "                   'score': score_series})\n",
    "\n",
    "print(df)\n"
   ]
  },
  {
   "cell_type": "code",
   "execution_count": 7,
   "metadata": {},
   "outputs": [
    {
     "name": "stdout",
     "output_type": "stream",
     "text": [
      "0        Cary Grant\n",
      "1    George Clooney\n",
      "2        Tom Cruise\n",
      "3      Cameron Diaz\n",
      "4        Liz Taylor\n",
      "Name: name, dtype: object \n",
      "\n",
      "Cary Grant \n",
      "\n",
      "George Clooney \n",
      "\n"
     ]
    }
   ],
   "source": [
    "print(df['name'], '\\n')\n",
    "print(df['name'][0], '\\n')\n",
    "print(df['name'][1], '\\n')"
   ]
  },
  {
   "cell_type": "code",
   "execution_count": null,
   "metadata": {},
   "outputs": [],
   "source": []
  }
 ],
 "metadata": {
  "kernelspec": {
   "display_name": "ML_lecture",
   "language": "python",
   "name": "python3"
  },
  "language_info": {
   "codemirror_mode": {
    "name": "ipython",
    "version": 3
   },
   "file_extension": ".py",
   "mimetype": "text/x-python",
   "name": "python",
   "nbconvert_exporter": "python",
   "pygments_lexer": "ipython3",
   "version": "3.8.19"
  }
 },
 "nbformat": 4,
 "nbformat_minor": 2
}
