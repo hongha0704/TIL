{
  "cells": [
    {
      "cell_type": "markdown",
      "metadata": {
        "id": "sqA3EgjzKc09"
      },
      "source": [
        "# Activation Functions and Loss Functions\n",
        "---"
      ]
    },
    {
      "cell_type": "markdown",
      "metadata": {
        "id": "MIi909evKedX"
      },
      "source": [
        "## Activation Functions"
      ]
    },
    {
      "cell_type": "code",
      "execution_count": 1,
      "metadata": {
        "colab": {
          "base_uri": "https://localhost:8080/"
        },
        "id": "tsiqBUBBKdaN",
        "outputId": "9441d5be-21da-4a45-a6c8-25906485e05d"
      },
      "outputs": [
        {
          "name": "stderr",
          "output_type": "stream",
          "text": [
            "/usr/local/lib/python3.10/dist-packages/keras/src/layers/activations/leaky_relu.py:41: UserWarning: Argument `alpha` is deprecated. Use `negative_slope` instead.\n",
            "  warnings.warn(\n"
          ]
        }
      ],
      "source": [
        "from tensorflow.keras.models import Sequential\n",
        "from tensorflow.keras.layers import Dense, Input, LeakyReLU, ELU\n",
        "import tensorflow as tf\n",
        "\n",
        "# 하이퍼파라미터 설정\n",
        "leaky_relu_alpha = 0.2 # Leaky ReLU의 기울기\n",
        "elu_alpha = 1.0 # ELU의 기울기\n",
        "\n",
        "model = Sequential()\n",
        "model.add(Input(shape=(12,))) # Input layer\n",
        "model.add(Dense(30)) # Dense layer with 30 units\n",
        "model.add(LeakyReLU(alpha=leaky_relu_alpha)) # Leaky ReLU activation\n",
        "model.add(Dense(12)) # Dense layer with 12 units\n",
        "model.add(ELU(alpha=elu_alpha)) # ELU activation\n",
        "model.add(Dense(8, activation='swish')) # Swish activation function (lowercase)\n",
        "model.add(Dense(1, activation='linear')) # Output layer with linear activation"
      ]
    },
    {
      "cell_type": "markdown",
      "metadata": {
        "id": "E9yerQmZO33F"
      },
      "source": [
        "## Loss Functions"
      ]
    },
    {
      "cell_type": "code",
      "execution_count": 1,
      "metadata": {
        "id": "vACyO7uOOn2Z"
      },
      "outputs": [],
      "source": [
        "from tensorflow.keras.models import Sequential\n",
        "\n",
        "model = Sequential()\n",
        "\n",
        "model.compile(optimizer='adam', loss='mse')\n",
        "model.compile(optimizer='adam', loss='mae')\n",
        "model.compile(optimizer='adam', loss='mape')\n",
        "\n",
        "model.compile(optimizer='adam', loss='huber_loss')\n",
        "model.compile(optimizer='adam', loss='logcosh')\n",
        "\n",
        "model.compile(optimizer='adam', loss='binary_crossentropy')\n",
        "model.compile(optimizer='adam', loss='categorical_crossentropy')\n",
        "model.compile(optimizer='adam', loss='kullback_leibler_divergence')\n",
        "model.compile(optimizer='adam', loss='cosine_similarity')\n",
        "\n",
        "model.compile(optimizer='adam', loss='hinge')\n",
        "model.compile(optimizer='adam', loss='categorical_hinge')"
      ]
    },
    {
      "cell_type": "code",
      "execution_count": 2,
      "metadata": {
        "id": "FwtIJHabX3e_"
      },
      "outputs": [],
      "source": [
        "from tensorflow.keras.models import Sequential\n",
        "from tensorflow.keras.layers import Dense, Input\n",
        "from tensorflow.keras.losses import MeanSquaredError, BinaryCrossentropy\n",
        "\n",
        "# 두 손실 함수 선언\n",
        "mse = MeanSquaredError()\n",
        "bce = BinaryCrossentropy()\n",
        "\n",
        "# 가중치를 부여하여 손실 함수 결합\n",
        "def combined_loss(y_true, y_pred):\n",
        "  return 0.5 * mse(y_true, y_pred) + 0.5 * bce(y_true, y_pred)\n",
        "\n",
        "# 간단한 모델 정의\n",
        "model = Sequential()\n",
        "model.add(Input(shape=(16,)))\n",
        "model.add(Dense(10, activation='relu'))\n",
        "model.add(Dense(1, activation='sigmoid'))\n",
        "\n",
        "# 결합된 손실 함수로 모델 컴파일\n",
        "model.compile(optimizer='adam', loss=combined_loss)"
      ]
    },
    {
      "cell_type": "code",
      "execution_count": null,
      "metadata": {
        "id": "tggHHnBlYoSg"
      },
      "outputs": [],
      "source": []
    }
  ],
  "metadata": {
    "colab": {
      "provenance": []
    },
    "kernelspec": {
      "display_name": "Python 3",
      "name": "python3"
    },
    "language_info": {
      "name": "python"
    }
  },
  "nbformat": 4,
  "nbformat_minor": 0
}
